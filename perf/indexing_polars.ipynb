{
 "cells": [
  {
   "cell_type": "markdown",
   "id": "1c6d8291",
   "metadata": {},
   "source": [
    "we can easily store in Polars:\n",
    " - an object reference\n",
    " - The attributes\n",
    "\n",
    "but we still need a way to remove(obj) or update(obj) quickly\n",
    "log(n) time is okay.\n",
    "\n",
    "To work out:\n",
    " - Store id(obj) as a column `obj_id` in the Polars dataframe\n",
    " - keep the dataframe sorted by obj_id. (think about how to make this not suck for doing many inserts, e.g. sort at end of an add_many call). \n",
    " - Can we insert_at(pos) in a polars dataframe? \n",
    " - How to bisect on a Polars series? does that work?\n",
    " "
   ]
  },
  {
   "cell_type": "code",
   "execution_count": 1,
   "id": "2d8ddcc8",
   "metadata": {},
   "outputs": [],
   "source": [
    "import polars as pl\n"
   ]
  },
  {
   "cell_type": "code",
   "execution_count": 2,
   "id": "016283a7",
   "metadata": {},
   "outputs": [
    {
     "data": {
      "text/plain": [
       "polars.internals.series.Series"
      ]
     },
     "execution_count": 2,
     "metadata": {},
     "output_type": "execute_result"
    }
   ],
   "source": []
  },
  {
   "cell_type": "code",
   "execution_count": null,
   "id": "9636b6da",
   "metadata": {},
   "outputs": [],
   "source": []
  }
 ],
 "metadata": {
  "kernelspec": {
   "display_name": "Python 3 (ipykernel)",
   "language": "python",
   "name": "python3"
  },
  "language_info": {
   "codemirror_mode": {
    "name": "ipython",
    "version": 3
   },
   "file_extension": ".py",
   "mimetype": "text/x-python",
   "name": "python",
   "nbconvert_exporter": "python",
   "pygments_lexer": "ipython3",
   "version": "3.9.7"
  }
 },
 "nbformat": 4,
 "nbformat_minor": 5
}
