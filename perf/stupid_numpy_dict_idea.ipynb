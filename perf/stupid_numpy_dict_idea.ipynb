{
 "cells": [
  {
   "cell_type": "code",
   "execution_count": 1,
   "id": "422f71c5",
   "metadata": {},
   "outputs": [],
   "source": [
    "import numpy as np"
   ]
  },
  {
   "cell_type": "markdown",
   "id": "df5ea037",
   "metadata": {},
   "source": [
    "```\n",
    "what if you wanted to map integer object ids to objects\n",
    "and you made a thousand numpy arrays for \"keys\" and another thousand for \"values\"\n",
    "you pick an array pair based on (key % 1000) \n",
    "append the key and the value\n",
    "\n",
    "on delete, you only have to deal with remaking 1/1000 of your stuff, not so bad\n",
    "lookup is a linear scan but like, an okay one. Even with 1B key/values that's still \n",
    "only a million ints to scan. Scanning a million ints should be a \n",
    "couple milliseconds tops, that's not a disaster right?\n",
    "\n",
    "could always do 10K arrays or something\n",
    "pick a number based on overhead, make like 10MB worth of empty numpy arrays, it'll be fine yo\n",
    "```"
   ]
  },
  {
   "cell_type": "code",
   "execution_count": null,
   "id": "49ef13b9",
   "metadata": {},
   "outputs": [],
   "source": [
    "class StupidDictIdea:\n",
    "    "
   ]
  }
 ],
 "metadata": {
  "kernelspec": {
   "display_name": "Python 3 (ipykernel)",
   "language": "python",
   "name": "python3"
  },
  "language_info": {
   "codemirror_mode": {
    "name": "ipython",
    "version": 3
   },
   "file_extension": ".py",
   "mimetype": "text/x-python",
   "name": "python",
   "nbconvert_exporter": "python",
   "pygments_lexer": "ipython3",
   "version": "3.9.7"
  }
 },
 "nbformat": 4,
 "nbformat_minor": 5
}
