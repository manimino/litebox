{
 "cells": [
  {
   "cell_type": "code",
   "execution_count": 3,
   "id": "8c3f7004",
   "metadata": {},
   "outputs": [],
   "source": [
    "import random\n",
    "import time\n",
    "import pandas as pd\n",
    "import duckdb\n",
    "import sys\n",
    "from pympler.asizeof import asizeof\n"
   ]
  },
  {
   "cell_type": "code",
   "execution_count": 4,
   "id": "b462dc82",
   "metadata": {},
   "outputs": [],
   "source": [
    "letters = ['qwertyuiopasdfghjklzxcvbnm']\n",
    "class Thing:\n",
    "    def __init__(self):\n",
    "        self.c0 = random.random()\n",
    "        self.c1 = random.random()\n",
    "        self.c2 = random.random()\n",
    "        self.c3 = random.random()\n",
    "        self.c4 = random.random()\n",
    "        self.c5 = random.random()\n",
    "        self.c6 = random.random()\n",
    "        self.c7 = random.random()\n",
    "        self.c8 = random.random()\n",
    "        self.c9 = random.random()\n",
    "\n",
    "n_things = 10**7\n",
    "things = [Thing() for _ in range(n_things)]\n",
    "\n",
    "# 10^7: 5.1G"
   ]
  },
  {
   "cell_type": "code",
   "execution_count": 5,
   "id": "4674b8c8",
   "metadata": {},
   "outputs": [],
   "source": [
    "con = duckdb.connect(database=':memory:')"
   ]
  },
  {
   "cell_type": "code",
   "execution_count": 12,
   "id": "5f765dc2",
   "metadata": {},
   "outputs": [
    {
     "name": "stdout",
     "output_type": "stream",
     "text": [
      "build dict 3.1430535316467285\n"
     ]
    }
   ],
   "source": [
    "t0 = time.time()\n",
    "obj_lookup = {id(t): t for t in things}\n",
    "t1 = time.time()\n",
    "print('build dict', t1-t0)\n",
    "# 5.7GB, so 600MB"
   ]
  },
  {
   "cell_type": "code",
   "execution_count": 7,
   "id": "b556ad68",
   "metadata": {},
   "outputs": [
    {
     "name": "stdout",
     "output_type": "stream",
     "text": [
      "34.5368390083313\n"
     ]
    }
   ],
   "source": [
    "\n",
    "t0 = time.time()\n",
    "# build a pandas df and insert that; this is ~10x faster than using executemany() to insert a long list of values.\n",
    "df = pd.DataFrame({\n",
    "    'c0': [t.c0 for t in things],\n",
    "    'c1': [t.c1 for t in things],\n",
    "    'c2': [t.c2 for t in things],\n",
    "    'c3': [t.c3 for t in things],\n",
    "    'c4': [t.c4 for t in things],\n",
    "    'c5': [t.c5 for t in things],\n",
    "    'c6': [t.c6 for t in things],\n",
    "    'c7': [t.c7 for t in things],\n",
    "    'c8': [t.c8 for t in things],\n",
    "    'c9': [t.c9 for t in things],\n",
    "    'obj_id': [id(t) for t in things],\n",
    "    }\n",
    ")\n",
    "\n",
    "# convert the df into a DuckDB db\n",
    "con.execute('DROP TABLE IF EXISTS my_table')\n",
    "con.execute(\"CREATE TABLE my_table AS SELECT * FROM df\")\n",
    "t1 = time.time()\n",
    "del df\n",
    "print(t1-t0)\n",
    "# Ater: 7.6GB, so another 1.9GB used, total 2.5GB used by index"
   ]
  },
  {
   "cell_type": "code",
   "execution_count": 11,
   "id": "8c5ecedb",
   "metadata": {},
   "outputs": [
    {
     "name": "stdout",
     "output_type": "stream",
     "text": [
      "0.15 0 0.22828056812286376\n",
      "0.25 10 0.24684977531433105\n",
      "0.33 154 0.2692765474319458\n",
      "0.4 1112 0.29678959846496583\n",
      "0.51 11877 0.3806330680847168\n",
      "0.64 115226 0.526672887802124\n",
      "0.8 1074704 1.1882512807846068\n",
      "1.0 10000000 4.489729809761047\n"
     ]
    }
   ],
   "source": [
    "\n",
    "n_runs = 10\n",
    "for thresh in [0.15, 0.25, 0.33, 0.4, 0.51, 0.64, 0.8, 1.0]:\n",
    "    t_duck = 0\n",
    "    t_ls = 0\n",
    "    avg_len = 0\n",
    "    for _ in range(n_runs):\n",
    "        t0 = time.time()\n",
    "        con.execute(f\"\"\"SELECT obj_id FROM my_table where \n",
    "                    c0 <= {thresh} and \n",
    "                    c1 <= {thresh} and  \n",
    "                    c2 <= {thresh} and \n",
    "                    c3 <= {thresh} and  \n",
    "                    c4 <= {thresh} and \n",
    "                    c5 <= {thresh} and  \n",
    "                    c6 <= {thresh} and \n",
    "                    c7 <= {thresh} and  \n",
    "                    c8 <= {thresh} and \n",
    "                    c9 <= {thresh}\n",
    "                    \"\"\")\n",
    "        res = con.fetchall()\n",
    "        # objs = df[df.obj_id.isin(obj_ids)].t.to_list()\n",
    "        objs = [obj_lookup[r[0]] for r in res]\n",
    "        #objs = [ctypes.cast(r[0], ctypes.py_object).value for r in res]\n",
    "        t1 = time.time()\n",
    "        \"\"\"\n",
    "        objs_ls = [t for t in things if \n",
    "                   t.c0 <= thresh and \n",
    "                   t.c1 <= thresh and\n",
    "                   t.c2 <= thresh and \n",
    "                   t.c3 <= thresh and\n",
    "                   t.c4 <= thresh and \n",
    "                   t.c5 <= thresh and\n",
    "                   t.c6 <= thresh and \n",
    "                   t.c7 <= thresh and\n",
    "                   t.c8 <= thresh and \n",
    "                   t.c9 <= thresh]\n",
    "        \"\"\"\n",
    "        t2 = time.time()\n",
    "        t_duck += (t1-t0)/n_runs\n",
    "        t_ls += (t2-t1) / n_runs\n",
    "        avg_len += len(objs) / n_runs\n",
    "    print(thresh, int(avg_len), t_duck)"
   ]
  },
  {
   "cell_type": "code",
   "execution_count": 34,
   "id": "013c08e3",
   "metadata": {},
   "outputs": [
    {
     "data": {
      "text/plain": [
       "0.9999999999"
      ]
     },
     "execution_count": 34,
     "metadata": {},
     "output_type": "execute_result"
    }
   ],
   "source": [
    "sum(0.9*10**-e for e in range(10))"
   ]
  },
  {
   "cell_type": "code",
   "execution_count": null,
   "id": "8b94bec9",
   "metadata": {},
   "outputs": [],
   "source": []
  }
 ],
 "metadata": {
  "kernelspec": {
   "display_name": "Python 3 (ipykernel)",
   "language": "python",
   "name": "python3"
  },
  "language_info": {
   "codemirror_mode": {
    "name": "ipython",
    "version": 3
   },
   "file_extension": ".py",
   "mimetype": "text/x-python",
   "name": "python",
   "nbconvert_exporter": "python",
   "pygments_lexer": "ipython3",
   "version": "3.9.7"
  }
 },
 "nbformat": 4,
 "nbformat_minor": 5
}
