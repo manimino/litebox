{
 "cells": [
  {
   "cell_type": "code",
   "execution_count": 1,
   "id": "ce0764c0",
   "metadata": {},
   "outputs": [],
   "source": [
    "from rangeindex import RangeIndex\n",
    "from dataclasses import dataclass\n",
    "import random\n",
    "import time"
   ]
  },
  {
   "cell_type": "code",
   "execution_count": 2,
   "id": "d5463906",
   "metadata": {},
   "outputs": [],
   "source": [
    "chars = 'qwertyuiopasdfghjklzxcvbnm'\n",
    "\n",
    "@dataclass\n",
    "class Word():\n",
    "    c0: str\n",
    "    c1: str\n",
    "    c2: str\n",
    "    c3: str\n",
    "    c4: str\n",
    "    \n",
    "words = [Word(\n",
    "        c0=random.choice(chars), \n",
    "        c1=random.choice(chars), \n",
    "        c2=random.choice(chars), \n",
    "        c3=random.choice(chars), \n",
    "        c4=random.choice(chars), \n",
    "    ) for _ in range(5*10**6)]"
   ]
  },
  {
   "cell_type": "code",
   "execution_count": 3,
   "id": "816d3435",
   "metadata": {},
   "outputs": [
    {
     "name": "stdout",
     "output_type": "stream",
     "text": [
      "10.572808742523193\n"
     ]
    }
   ],
   "source": [
    "t0 = time.time()\n",
    "ri = RangeIndex(on={'c0': str, 'c1': str, 'c2': str, 'c3': str, 'c4': str}, data=words, engine='pandas')\n",
    "t1 = time.time()\n",
    "print(t1-t0)"
   ]
  },
  {
   "cell_type": "code",
   "execution_count": 4,
   "id": "0a8e075c",
   "metadata": {},
   "outputs": [
    {
     "name": "stdout",
     "output_type": "stream",
     "text": [
      "c2 >= 'a' and c0 >= 'a' and c1 <= 'c'\n",
      "576977 576977\n",
      "1.108039140701294\n",
      "0.5925579071044922\n",
      "0.535 x faster\n"
     ]
    }
   ],
   "source": [
    "t0 = time.time()\n",
    "q = ri.find(\"c2 >= 'a' and c0 >= 'a' and c1 <= 'c'\")\n",
    "t1 = time.time()\n",
    "qq = [w for w in words if w.c2 >= 'a' and w.c0 >= 'a' and w.c1 <= 'c' ]\n",
    "t2 = time.time()\n",
    "print(len(q), len(qq))\n",
    "print(t1-t0)\n",
    "print(t2-t1)\n",
    "print(round((t2-t1)/(t1-t0),3), 'x faster')"
   ]
  },
  {
   "cell_type": "code",
   "execution_count": 5,
   "id": "6842c668",
   "metadata": {},
   "outputs": [],
   "source": [
    "class Word:\n",
    "    def __init__(self):\n",
    "        self.w = ''.join([random.choice(chars) for _ in range(5)])\n",
    "words = [Word() for _ in range(10**7)]        "
   ]
  },
  {
   "cell_type": "code",
   "execution_count": 6,
   "id": "a6795899",
   "metadata": {},
   "outputs": [],
   "source": [
    "ri = RangeIndex({'w': str}, engine='pandas')\n",
    "ri.add_many(words)"
   ]
  },
  {
   "cell_type": "code",
   "execution_count": 7,
   "id": "4afa5998",
   "metadata": {},
   "outputs": [
    {
     "name": "stdout",
     "output_type": "stream",
     "text": [
      "w == '<__main__.Word object at 0x7ff4b0b04e80>'\n",
      "0 0\n",
      "1.3357820510864258\n",
      "0.6797213554382324\n",
      "0.509 x faster\n"
     ]
    }
   ],
   "source": [
    "target = random.choice(words)\n",
    "t0 = time.time()\n",
    "q = ri.find(f\"w == '{target}'\")\n",
    "#q = ri.find([(\"w\", \"<\", 'quiz'), (\"w\", \">\", \"picky\")])\n",
    "t1 = time.time()\n",
    "qq = [w for w in words if w.w == target]\n",
    "t2 = time.time()\n",
    "print(len(q), len(qq))\n",
    "print(t1-t0)\n",
    "print(t2-t1)\n",
    "print(round((t2-t1)/(t1-t0),3), 'x faster')"
   ]
  },
  {
   "cell_type": "code",
   "execution_count": 9,
   "id": "60e88ba7",
   "metadata": {},
   "outputs": [
    {
     "data": {
      "text/plain": [
       "True"
      ]
     },
     "execution_count": 9,
     "metadata": {},
     "output_type": "execute_result"
    }
   ],
   "source": [
    "target in words"
   ]
  },
  {
   "cell_type": "code",
   "execution_count": 10,
   "id": "cd76b6b7",
   "metadata": {},
   "outputs": [
    {
     "data": {
      "text/plain": [
       "[]"
      ]
     },
     "execution_count": 10,
     "metadata": {},
     "output_type": "execute_result"
    }
   ],
   "source": [
    "qq = [w for w in words if w.w == target]\n",
    "qq"
   ]
  },
  {
   "cell_type": "code",
   "execution_count": 11,
   "id": "2f20b3ca",
   "metadata": {},
   "outputs": [
    {
     "data": {
      "text/plain": [
       "'jqqbe'"
      ]
     },
     "execution_count": 11,
     "metadata": {},
     "output_type": "execute_result"
    }
   ],
   "source": [
    "target.w"
   ]
  },
  {
   "cell_type": "code",
   "execution_count": null,
   "id": "2ddb1d3e",
   "metadata": {},
   "outputs": [],
   "source": []
  },
  {
   "cell_type": "code",
   "execution_count": null,
   "id": "9786776a",
   "metadata": {},
   "outputs": [],
   "source": []
  }
 ],
 "metadata": {
  "kernelspec": {
   "display_name": "Python 3 (ipykernel)",
   "language": "python",
   "name": "python3"
  },
  "language_info": {
   "codemirror_mode": {
    "name": "ipython",
    "version": 3
   },
   "file_extension": ".py",
   "mimetype": "text/x-python",
   "name": "python",
   "nbconvert_exporter": "python",
   "pygments_lexer": "ipython3",
   "version": "3.9.7"
  }
 },
 "nbformat": 4,
 "nbformat_minor": 5
}
