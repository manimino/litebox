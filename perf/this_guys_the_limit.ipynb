{
 "cells": [
  {
   "cell_type": "code",
   "execution_count": 1,
   "id": "1b52991b",
   "metadata": {},
   "outputs": [
    {
     "data": {
      "text/plain": [
       "'/home/theo/repos/rangeindex/perf'"
      ]
     },
     "execution_count": 1,
     "metadata": {},
     "output_type": "execute_result"
    }
   ],
   "source": [
    "import os\n",
    "os.getcwd()"
   ]
  },
  {
   "cell_type": "code",
   "execution_count": 8,
   "id": "f7460624",
   "metadata": {},
   "outputs": [],
   "source": [
    "import random\n",
    "import time\n",
    "from dataclasses import dataclass\n",
    "from rangeindex import RangeIndex\n",
    "from matplotlib import pyplot as plt\n",
    "%matplotlib inline\n",
    "\n",
    "az = 'qwertyuiopasdfghjklzxcvbnm'\n",
    "ten = list(range(10))\n",
    "\n",
    "\n",
    "@dataclass\n",
    "class Thing:\n",
    "    x: int\n",
    "    y: float\n",
    "    desc: str\n",
    "\n",
    "\n",
    "def make_thing():\n",
    "    s = []\n",
    "    for i in range(5):\n",
    "        s.append(random.choice(az))\n",
    "    return Thing(x=random.choice(ten), y=random.random(), desc=''.join(s))\n",
    "\n",
    "\n",
    "def compare_speeds(n=10**3, portion_to_find=0.1, limit=1):\n",
    "    # amount_to_find\n",
    "    things = [make_thing() for _ in range(n)]\n",
    "    ri = RangeIndex({'x': int, 'y': float}, limit=limit)\n",
    "    t0 = time.time()\n",
    "    ri.add_many(things)\n",
    "    t1 = time.time()\n",
    "    found_float = ri.find([('y', '<', portion_to_find), ('x', '<=', 10)])\n",
    "    t2 = time.time()\n",
    "    #found_str = ri.find([('desc', '<', 'zzzzz')])\n",
    "    t3 = time.time()\n",
    "    #linear_find = tuple(t for t in things if t.y < portion_to_find and t.x <= 10)\n",
    "    linear_find = tuple(filter(lambda t: t.y < portion_to_find and t.x <= 10, things))\n",
    "    t4 = time.time()\n",
    "    \n",
    "    results = {\n",
    "        'filter': t4-t3,\n",
    "        'ri_find': t2-t1\n",
    "    }\n",
    "\n",
    "    \"\"\"\n",
    "    print('t_add {} elements:'.format(len(things)), t1-t0)\n",
    "    print('t_find {} elements:'.format(len(found_float)), t2-t1)\n",
    "    #print('t_find {} elements:'.format(len(found_str)), t3-t2)\n",
    "    print('linear find {} elements:'.format(len(linear_find)), t4-t3)\n",
    "\n",
    "    print((t4-t3)/(t2-t1))\n",
    "    \"\"\"\n",
    "    return results"
   ]
  },
  {
   "cell_type": "code",
   "execution_count": 12,
   "id": "f767b833",
   "metadata": {},
   "outputs": [
    {
     "data": {
      "text/plain": [
       "{'filter': 0.12411999702453613, 'ri_find': 1.505995273590088}"
      ]
     },
     "execution_count": 12,
     "metadata": {},
     "output_type": "execute_result"
    }
   ],
   "source": [
    "compare_speeds(n=10**6, portion_to_find=1, limit=1)"
   ]
  },
  {
   "cell_type": "code",
   "execution_count": 13,
   "id": "c60a5a04",
   "metadata": {},
   "outputs": [
    {
     "data": {
      "text/plain": [
       "{'filter': 0.12957215309143066, 'ri_find': 0.14911293983459473}"
      ]
     },
     "execution_count": 13,
     "metadata": {},
     "output_type": "execute_result"
    }
   ],
   "source": [
    "compare_speeds(n=10**6, portion_to_find=1, limit=0.1)"
   ]
  },
  {
   "cell_type": "code",
   "execution_count": null,
   "id": "21bd4ba3",
   "metadata": {},
   "outputs": [],
   "source": []
  }
 ],
 "metadata": {
  "kernelspec": {
   "display_name": "Python 3 (ipykernel)",
   "language": "python",
   "name": "python3"
  },
  "language_info": {
   "codemirror_mode": {
    "name": "ipython",
    "version": 3
   },
   "file_extension": ".py",
   "mimetype": "text/x-python",
   "name": "python",
   "nbconvert_exporter": "python",
   "pygments_lexer": "ipython3",
   "version": "3.9.7"
  }
 },
 "nbformat": 4,
 "nbformat_minor": 5
}
