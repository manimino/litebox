{
 "cells": [
  {
   "cell_type": "code",
   "execution_count": 2,
   "id": "51fd6d09",
   "metadata": {},
   "outputs": [],
   "source": [
    "import random\n",
    "import time\n",
    "import duckdb\n",
    "import pandas as pd\n",
    "import sys\n",
    "from pympler.asizeof import asizeof\n"
   ]
  },
  {
   "cell_type": "code",
   "execution_count": 3,
   "id": "cb975b00",
   "metadata": {},
   "outputs": [],
   "source": [
    "letters = ['qwertyuiopasdfghjklzxcvbnm']\n",
    "class Thing:\n",
    "    def __init__(self):\n",
    "        self.x = random.random()\n",
    "        self.y = random.random()\n",
    "        #self.s = ''.join(random.choice(letters) for _ in range(5))\n",
    "\n",
    "n_things = 10**7\n",
    "things = [Thing() for _ in range(n_things)]\n",
    "\n",
    "# 10^7: 2.3G"
   ]
  },
  {
   "cell_type": "code",
   "execution_count": 4,
   "id": "3c5b9990",
   "metadata": {},
   "outputs": [
    {
     "name": "stdout",
     "output_type": "stream",
     "text": [
      "19.40508484840393\n"
     ]
    }
   ],
   "source": [
    "# connect to an in-memory database\n",
    "con = duckdb.connect()\n",
    "\n",
    "t0 = time.time()\n",
    "# build a pandas df and insert that; this is ~10x faster than using executemany() to insert a long list of values.\n",
    "df = pd.DataFrame({\n",
    "    'x': [t.x for t in things],\n",
    "    'y': [t.y for t in things],\n",
    "    'obj_id': [id(t) for t in things],\n",
    "    }\n",
    ")\n",
    "\n",
    "# convert the df into a DuckDB db\n",
    "con.execute('DROP TABLE IF EXISTS my_table')\n",
    "con.execute(\"CREATE TABLE my_table AS SELECT * FROM df\")\n",
    "del df\n",
    "obj_lookup = {id(t): t for t in things}\n",
    "t1 = time.time()\n",
    "print(t1-t0)\n",
    "# Ater: 2.8GB, so 500MB used\n",
    "# 3.5GB, so another 600MB there.\n",
    "# Roughly 1.2GB spent on index total."
   ]
  },
  {
   "cell_type": "code",
   "execution_count": null,
   "id": "5093a475",
   "metadata": {},
   "outputs": [],
   "source": []
  },
  {
   "cell_type": "code",
   "execution_count": 6,
   "id": "46f64ce2",
   "metadata": {},
   "outputs": [
    {
     "name": "stdout",
     "output_type": "stream",
     "text": [
      "[(139947766431456,), (139946298726480,), (139946298726336,), (139946298724848,), (139946298724704,), (139946298724416,), (139946298726816,), (139946298726912,), (139946298725568,), (139946298725664,)]\n"
     ]
    }
   ],
   "source": [
    "con.execute('SELECT obj_id FROM my_table LIMIT 10')\n",
    "res = con.fetchall()\n",
    "print(res)"
   ]
  },
  {
   "cell_type": "code",
   "execution_count": null,
   "id": "62ed543e",
   "metadata": {},
   "outputs": [],
   "source": []
  },
  {
   "cell_type": "code",
   "execution_count": null,
   "id": "eff89a98",
   "metadata": {},
   "outputs": [],
   "source": []
  },
  {
   "cell_type": "code",
   "execution_count": 7,
   "id": "6b2609e5",
   "metadata": {},
   "outputs": [
    {
     "name": "stdout",
     "output_type": "stream",
     "text": [
      "1 0.002308559417724609\n",
      "9 0.0035325527191162115\n",
      "110 0.02782580852508545\n",
      "1005 0.09927351474761963\n",
      "9983 0.1311617136001587\n",
      "100131 0.20639636516571044\n",
      "1001995 0.8211596727371214\n",
      "10000000 4.665687894821167\n"
     ]
    }
   ],
   "source": [
    "\n",
    "n_runs = 10\n",
    "for e in range(0, 8):\n",
    "    thresh = 10**e / 10**7\n",
    "    t_duck = 0\n",
    "    t_ls = 0\n",
    "    avg_len = 0\n",
    "    for _ in range(n_runs):\n",
    "        t0 = time.time()\n",
    "        con.execute(\"SELECT obj_id FROM my_table where x <=1 and y <= {}\".format(thresh))\n",
    "        res = con.fetchall()\n",
    "        objs = [obj_lookup[r[0]] for r in res]\n",
    "        #objs = [ctypes.cast(r[0], ctypes.py_object).value for r in res]\n",
    "        t1 = time.time()\n",
    "        #objs_ls = [t for t in things if t.x<=1 and t.y <= thresh]\n",
    "        t2 = time.time()\n",
    "        t_duck += (t1-t0)/n_runs\n",
    "        t_ls += (t2-t1) / n_runs\n",
    "        avg_len += len(objs) / n_runs\n",
    "    print(int(avg_len), t_duck)"
   ]
  },
  {
   "cell_type": "code",
   "execution_count": 46,
   "id": "334b31c8",
   "metadata": {},
   "outputs": [
    {
     "data": {
      "text/plain": [
       "[<__main__.Thing at 0x7f1c9f649100>]"
      ]
     },
     "execution_count": 46,
     "metadata": {},
     "output_type": "execute_result"
    }
   ],
   "source": []
  },
  {
   "cell_type": "code",
   "execution_count": null,
   "id": "18e7c932",
   "metadata": {},
   "outputs": [],
   "source": []
  }
 ],
 "metadata": {
  "kernelspec": {
   "display_name": "Python 3 (ipykernel)",
   "language": "python",
   "name": "python3"
  },
  "language_info": {
   "codemirror_mode": {
    "name": "ipython",
    "version": 3
   },
   "file_extension": ".py",
   "mimetype": "text/x-python",
   "name": "python",
   "nbconvert_exporter": "python",
   "pygments_lexer": "ipython3",
   "version": "3.9.7"
  }
 },
 "nbformat": 4,
 "nbformat_minor": 5
}
