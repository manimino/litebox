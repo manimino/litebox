{
 "cells": [
  {
   "cell_type": "code",
   "execution_count": 8,
   "id": "51fd6d09",
   "metadata": {},
   "outputs": [],
   "source": [
    "import random\n",
    "import time\n",
    "import duckdb\n",
    "import pandas as pd\n",
    "import sys\n",
    "import weakref\n",
    "from pympler.asizeof import asizeof\n"
   ]
  },
  {
   "cell_type": "code",
   "execution_count": 2,
   "id": "cb975b00",
   "metadata": {},
   "outputs": [],
   "source": [
    "letters = ['qwertyuiopasdfghjklzxcvbnm']\n",
    "class Thing:\n",
    "    def __init__(self):\n",
    "        self.x = random.random()\n",
    "        self.y = random.random()\n",
    "        #self.s = ''.join(random.choice(letters) for _ in range(5))\n",
    "\n",
    "n_things = 10**7\n",
    "things = [Thing() for _ in range(n_things)]\n",
    "\n",
    "# 10^7: 2.3G"
   ]
  },
  {
   "cell_type": "code",
   "execution_count": 5,
   "id": "3c5b9990",
   "metadata": {},
   "outputs": [
    {
     "name": "stdout",
     "output_type": "stream",
     "text": [
      "0.5390448570251465\n"
     ]
    }
   ],
   "source": [
    "# connect to an in-memory database\n",
    "con = duckdb.connect()\n",
    "\n",
    "t0 = time.time()\n",
    "# build a pandas df and insert that; this is ~10x faster than using executemany() to insert a long list of values.\n",
    "df = pd.DataFrame({\n",
    "    'x': [t.x for t in things],\n",
    "    'y': [t.y for t in things],\n",
    "    'obj_id': [id(t) for t in things],\n",
    "    }\n",
    ")\n",
    "\n",
    "# convert the df into a DuckDB db\n",
    "con.execute('DROP TABLE IF EXISTS my_table')\n",
    "t0 = time.time()\n",
    "con.execute(\"CREATE TABLE my_table AS SELECT * FROM df\")\n",
    "t1 = time.time()\n",
    "del df\n",
    "print(t1-t0)\n",
    "# Ater: 2.8GB, so 500MB used"
   ]
  },
  {
   "cell_type": "code",
   "execution_count": 14,
   "id": "5093a475",
   "metadata": {},
   "outputs": [
    {
     "name": "stdout",
     "output_type": "stream",
     "text": [
      "3.414109945297241\n"
     ]
    }
   ],
   "source": [
    "\n",
    "t0 = time.time()\n",
    "obj_lookup = {id(t): t for t in things}\n",
    "t1 = time.time()\n",
    "print(t1-t0)\n",
    "# 3.5GB, so another 600MB there.\n",
    "# Roughly 1.2GB spent on index total."
   ]
  },
  {
   "cell_type": "code",
   "execution_count": 15,
   "id": "46f64ce2",
   "metadata": {},
   "outputs": [
    {
     "name": "stdout",
     "output_type": "stream",
     "text": [
      "[(139762278905264,), (139762278905360,), (139762278905456,), (139762278905552,), (139762278905648,), (139762278905744,), (139762278905840,), (139762278905936,), (139762278906032,), (139762278906128,)]\n"
     ]
    }
   ],
   "source": [
    "con.execute('SELECT obj_id FROM my_table LIMIT 10')\n",
    "res = con.fetchall()\n",
    "print(res)"
   ]
  },
  {
   "cell_type": "code",
   "execution_count": 62,
   "id": "62ed543e",
   "metadata": {},
   "outputs": [
    {
     "data": {
      "text/plain": [
       "12.824144840240479"
      ]
     },
     "execution_count": 62,
     "metadata": {},
     "output_type": "execute_result"
    }
   ],
   "source": [
    "t0 = time.time()\n",
    "df = pd.DataFrame({'t': things, 'obj_id': [id(t) for t in things]})\n",
    "t1 = time.time()\n",
    "t1-t0"
   ]
  },
  {
   "cell_type": "code",
   "execution_count": 70,
   "id": "eff89a98",
   "metadata": {},
   "outputs": [
    {
     "name": "stdout",
     "output_type": "stream",
     "text": [
      "0.35831308364868164\n"
     ]
    }
   ],
   "source": [
    "t0 = time.time()\n",
    "for s in sl:\n",
    "    pass\n",
    "t1 = time.time()\n",
    "print(t1-t0)"
   ]
  },
  {
   "cell_type": "code",
   "execution_count": 67,
   "id": "6b2609e5",
   "metadata": {},
   "outputs": [
    {
     "name": "stdout",
     "output_type": "stream",
     "text": [
      "0.2728706121444702\n",
      "1.5862774133682251\n",
      "0.7015307903289795\n",
      "0.6235203504562378\n",
      "0.9881726026535034\n"
     ]
    },
    {
     "ename": "KeyboardInterrupt",
     "evalue": "",
     "output_type": "error",
     "traceback": [
      "\u001b[0;31m---------------------------------------------------------------------------\u001b[0m",
      "\u001b[0;31mKeyboardInterrupt\u001b[0m                         Traceback (most recent call last)",
      "\u001b[0;32m/tmp/ipykernel_26438/2037145731.py\u001b[0m in \u001b[0;36m<module>\u001b[0;34m\u001b[0m\n\u001b[1;32m     10\u001b[0m         \u001b[0mres\u001b[0m \u001b[0;34m=\u001b[0m \u001b[0mcon\u001b[0m\u001b[0;34m.\u001b[0m\u001b[0mfetchall\u001b[0m\u001b[0;34m(\u001b[0m\u001b[0;34m)\u001b[0m\u001b[0;34m\u001b[0m\u001b[0;34m\u001b[0m\u001b[0m\n\u001b[1;32m     11\u001b[0m         \u001b[0mobj_ids\u001b[0m \u001b[0;34m=\u001b[0m \u001b[0;34m[\u001b[0m\u001b[0mobj_lookup\u001b[0m\u001b[0;34m[\u001b[0m\u001b[0mr\u001b[0m\u001b[0;34m[\u001b[0m\u001b[0;36m0\u001b[0m\u001b[0;34m]\u001b[0m\u001b[0;34m]\u001b[0m \u001b[0;32mfor\u001b[0m \u001b[0mr\u001b[0m \u001b[0;32min\u001b[0m \u001b[0mres\u001b[0m\u001b[0;34m]\u001b[0m\u001b[0;34m\u001b[0m\u001b[0;34m\u001b[0m\u001b[0m\n\u001b[0;32m---> 12\u001b[0;31m         \u001b[0mobjs\u001b[0m \u001b[0;34m=\u001b[0m \u001b[0mdf\u001b[0m\u001b[0;34m[\u001b[0m\u001b[0mdf\u001b[0m\u001b[0;34m.\u001b[0m\u001b[0mobj_id\u001b[0m\u001b[0;34m.\u001b[0m\u001b[0misin\u001b[0m\u001b[0;34m(\u001b[0m\u001b[0mobj_ids\u001b[0m\u001b[0;34m)\u001b[0m\u001b[0;34m]\u001b[0m\u001b[0;34m.\u001b[0m\u001b[0mt\u001b[0m\u001b[0;34m.\u001b[0m\u001b[0mto_list\u001b[0m\u001b[0;34m(\u001b[0m\u001b[0;34m)\u001b[0m\u001b[0;34m\u001b[0m\u001b[0;34m\u001b[0m\u001b[0m\n\u001b[0m\u001b[1;32m     13\u001b[0m         \u001b[0;31m#objs = [obj_lookup[r[0]] for r in res]\u001b[0m\u001b[0;34m\u001b[0m\u001b[0;34m\u001b[0m\u001b[0m\n\u001b[1;32m     14\u001b[0m         \u001b[0;31m#objs = [ctypes.cast(r[0], ctypes.py_object).value for r in res]\u001b[0m\u001b[0;34m\u001b[0m\u001b[0;34m\u001b[0m\u001b[0m\n",
      "\u001b[0;32m~/anaconda3/lib/python3.9/site-packages/pandas/core/series.py\u001b[0m in \u001b[0;36misin\u001b[0;34m(self, values)\u001b[0m\n\u001b[1;32m   5023\u001b[0m         \u001b[0mdtype\u001b[0m\u001b[0;34m:\u001b[0m \u001b[0mbool\u001b[0m\u001b[0;34m\u001b[0m\u001b[0;34m\u001b[0m\u001b[0m\n\u001b[1;32m   5024\u001b[0m         \"\"\"\n\u001b[0;32m-> 5025\u001b[0;31m         \u001b[0mresult\u001b[0m \u001b[0;34m=\u001b[0m \u001b[0malgorithms\u001b[0m\u001b[0;34m.\u001b[0m\u001b[0misin\u001b[0m\u001b[0;34m(\u001b[0m\u001b[0mself\u001b[0m\u001b[0;34m.\u001b[0m\u001b[0m_values\u001b[0m\u001b[0;34m,\u001b[0m \u001b[0mvalues\u001b[0m\u001b[0;34m)\u001b[0m\u001b[0;34m\u001b[0m\u001b[0;34m\u001b[0m\u001b[0m\n\u001b[0m\u001b[1;32m   5026\u001b[0m         return self._constructor(result, index=self.index).__finalize__(\n\u001b[1;32m   5027\u001b[0m             \u001b[0mself\u001b[0m\u001b[0;34m,\u001b[0m \u001b[0mmethod\u001b[0m\u001b[0;34m=\u001b[0m\u001b[0;34m\"isin\"\u001b[0m\u001b[0;34m\u001b[0m\u001b[0;34m\u001b[0m\u001b[0m\n",
      "\u001b[0;32m~/anaconda3/lib/python3.9/site-packages/pandas/core/algorithms.py\u001b[0m in \u001b[0;36misin\u001b[0;34m(comps, values)\u001b[0m\n\u001b[1;32m    522\u001b[0m         \u001b[0mf\u001b[0m \u001b[0;34m=\u001b[0m \u001b[0mhtable\u001b[0m\u001b[0;34m.\u001b[0m\u001b[0mismember\u001b[0m\u001b[0;34m\u001b[0m\u001b[0;34m\u001b[0m\u001b[0m\n\u001b[1;32m    523\u001b[0m \u001b[0;34m\u001b[0m\u001b[0m\n\u001b[0;32m--> 524\u001b[0;31m     \u001b[0;32mreturn\u001b[0m \u001b[0mf\u001b[0m\u001b[0;34m(\u001b[0m\u001b[0mcomps\u001b[0m\u001b[0;34m,\u001b[0m \u001b[0mvalues\u001b[0m\u001b[0;34m)\u001b[0m\u001b[0;34m\u001b[0m\u001b[0;34m\u001b[0m\u001b[0m\n\u001b[0m\u001b[1;32m    525\u001b[0m \u001b[0;34m\u001b[0m\u001b[0m\n\u001b[1;32m    526\u001b[0m \u001b[0;34m\u001b[0m\u001b[0m\n",
      "\u001b[0;31mKeyboardInterrupt\u001b[0m: "
     ]
    }
   ],
   "source": [
    "import ctypes\n",
    "n_runs = 10\n",
    "for e in range(0, 8):\n",
    "    thresh = 10**e / 10**7\n",
    "    t_duck = 0\n",
    "    t_ls = 0\n",
    "    for _ in range(n_runs):\n",
    "        t0 = time.time()\n",
    "        con.execute(\"SELECT obj_id FROM my_table where x <=1 and y <= {} ORDER BY obj_id\".format(thresh))\n",
    "        res = con.fetchall()\n",
    "        obj_ids = [obj_lookup[r[0]] for r in res]\n",
    "        objs = df[df.obj_id.isin(obj_ids)].t.to_list()\n",
    "        #objs = [obj_lookup[r[0]] for r in res]\n",
    "        #objs = [ctypes.cast(r[0], ctypes.py_object).value for r in res]\n",
    "        t1 = time.time()\n",
    "        #objs_ls = [t for t in things if t.x<=1 and t.y <= thresh]\n",
    "        t2 = time.time()\n",
    "        t_duck += (t1-t0)/n_runs\n",
    "        t_ls += (t2-t1) / n_runs\n",
    "    print(t_duck)"
   ]
  },
  {
   "cell_type": "code",
   "execution_count": 46,
   "id": "334b31c8",
   "metadata": {},
   "outputs": [
    {
     "data": {
      "text/plain": [
       "[<__main__.Thing at 0x7f1c9f649100>]"
      ]
     },
     "execution_count": 46,
     "metadata": {},
     "output_type": "execute_result"
    }
   ],
   "source": []
  },
  {
   "cell_type": "code",
   "execution_count": null,
   "id": "18e7c932",
   "metadata": {},
   "outputs": [],
   "source": []
  }
 ],
 "metadata": {
  "kernelspec": {
   "display_name": "Python 3 (ipykernel)",
   "language": "python",
   "name": "python3"
  },
  "language_info": {
   "codemirror_mode": {
    "name": "ipython",
    "version": 3
   },
   "file_extension": ".py",
   "mimetype": "text/x-python",
   "name": "python",
   "nbconvert_exporter": "python",
   "pygments_lexer": "ipython3",
   "version": "3.9.7"
  }
 },
 "nbformat": 4,
 "nbformat_minor": 5
}
