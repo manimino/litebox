{
 "cells": [
  {
   "cell_type": "markdown",
   "id": "dee64bbe",
   "metadata": {},
   "source": [
    "Let's test all operations in Pandas to check if it can compete with the sqlite implementation.\n",
    "\n",
    "Object:\n",
    "x: float, y: float, s: string\n",
    "\n",
    "DataFrame Columns:\n",
    "x, y, s, obj_id, obj\n",
    "where obj_id is a unique index"
   ]
  },
  {
   "cell_type": "markdown",
   "id": "24d9085c",
   "metadata": {},
   "source": [
    "Update: Nope, using an index to look up numbers is very bad. Building an indexed df of 10k items took > 1 second. \n",
    "Let's just resign ourselves to:\n",
    " - O(n) remove, maybe with a mark-and-sweep gc\n",
    " - O(n) update, since we have to find the obj_id."
   ]
  },
  {
   "cell_type": "markdown",
   "id": "90f1275c",
   "metadata": {},
   "source": [
    "O(n) update looking good! <1ms on 1M item set."
   ]
  },
  {
   "cell_type": "code",
   "execution_count": 37,
   "id": "bc497c4f",
   "metadata": {},
   "outputs": [],
   "source": [
    "import random\n",
    "import time\n",
    "import pandas as pd\n",
    "import sys\n",
    "from pympler.asizeof import asizeof\n"
   ]
  },
  {
   "cell_type": "code",
   "execution_count": null,
   "id": "e7e7a996",
   "metadata": {},
   "outputs": [],
   "source": []
  },
  {
   "cell_type": "code",
   "execution_count": null,
   "id": "89dd753e",
   "metadata": {},
   "outputs": [],
   "source": []
  },
  {
   "cell_type": "code",
   "execution_count": 38,
   "id": "be9c0183",
   "metadata": {},
   "outputs": [],
   "source": [
    "letters = ['qwertyuiopasdfghjklzxcvbnm']\n",
    "class Thing:\n",
    "    def __init__(self):\n",
    "        self.x = random.random()\n",
    "        self.y = random.random()\n",
    "        #self.s = ''.join(random.choice(letters) for _ in range(5))\n",
    "\n",
    "n_things = 10**7\n",
    "things = [Thing() for _ in range(n_things)]\n",
    "\n",
    "# 10^7: 2.3G"
   ]
  },
  {
   "cell_type": "code",
   "execution_count": 39,
   "id": "99f4c965",
   "metadata": {},
   "outputs": [
    {
     "name": "stdout",
     "output_type": "stream",
     "text": [
      "15.85633659362793\n"
     ]
    }
   ],
   "source": [
    "t0 = time.time()\n",
    "df = pd.DataFrame({\n",
    "        'x': [t.x for t in things],\n",
    "        'y': [t.y for t in things],\n",
    "        't': [t for t in things],\n",
    "        'obj_id': [id(t) for t in things],\n",
    "    }\n",
    ")\n",
    "t1 = time.time()\n",
    "print(t1-t0)\n",
    "# 10^7: 2.6G, so 300MB. Nice!"
   ]
  },
  {
   "cell_type": "code",
   "execution_count": 4,
   "id": "293a4688",
   "metadata": {},
   "outputs": [
    {
     "data": {
      "text/plain": [
       "128.0008584"
      ]
     },
     "execution_count": 4,
     "metadata": {},
     "output_type": "execute_result"
    }
   ],
   "source": [
    "asizeof(df) / n_things"
   ]
  },
  {
   "cell_type": "code",
   "execution_count": null,
   "id": "57bf0fc2",
   "metadata": {
    "scrolled": true
   },
   "outputs": [],
   "source": []
  },
  {
   "cell_type": "code",
   "execution_count": null,
   "id": "7a92071f",
   "metadata": {},
   "outputs": [],
   "source": []
  },
  {
   "cell_type": "code",
   "execution_count": 5,
   "id": "a6b5af30",
   "metadata": {},
   "outputs": [
    {
     "data": {
      "text/plain": [
       "\"\\n# 128 bytes / obj before\\ndf = df.set_index('obj_id')\\n# 362 bytes / obj after, ouch.\\n\\nn_lookups = 10**3\\nt0 = time.time()\\nfor _ in range(n_lookups):\\n    oid = id(random.choice(things))\\n    df.loc[oid]\\nt1 = time.time()\\nprint(t1-t0)\\n\""
      ]
     },
     "execution_count": 5,
     "metadata": {},
     "output_type": "execute_result"
    }
   ],
   "source": [
    "\"\"\"\n",
    "# 128 bytes / obj before\n",
    "df = df.set_index('obj_id')\n",
    "# 362 bytes / obj after, ouch.\n",
    "\n",
    "n_lookups = 10**3\n",
    "t0 = time.time()\n",
    "for _ in range(n_lookups):\n",
    "    oid = id(random.choice(things))\n",
    "    df.loc[oid]\n",
    "t1 = time.time()\n",
    "print(t1-t0)\n",
    "\"\"\"\n",
    "# sub-millisecond find by id. That's good!"
   ]
  },
  {
   "cell_type": "code",
   "execution_count": 6,
   "id": "7167d271",
   "metadata": {},
   "outputs": [
    {
     "name": "stdout",
     "output_type": "stream",
     "text": [
      "0.005534781932830811\n"
     ]
    },
    {
     "data": {
      "text/html": [
       "<div>\n",
       "<style scoped>\n",
       "    .dataframe tbody tr th:only-of-type {\n",
       "        vertical-align: middle;\n",
       "    }\n",
       "\n",
       "    .dataframe tbody tr th {\n",
       "        vertical-align: top;\n",
       "    }\n",
       "\n",
       "    .dataframe thead th {\n",
       "        text-align: right;\n",
       "    }\n",
       "</style>\n",
       "<table border=\"1\" class=\"dataframe\">\n",
       "  <thead>\n",
       "    <tr style=\"text-align: right;\">\n",
       "      <th></th>\n",
       "      <th>x</th>\n",
       "      <th>y</th>\n",
       "      <th>t</th>\n",
       "      <th>obj_id</th>\n",
       "    </tr>\n",
       "  </thead>\n",
       "  <tbody>\n",
       "    <tr>\n",
       "      <th>3715099</th>\n",
       "      <td>0.806781</td>\n",
       "      <td>0.854579</td>\n",
       "      <td>&lt;__main__.Thing object at 0x7fc1889f81c0&gt;</td>\n",
       "      <td>140469197570496</td>\n",
       "    </tr>\n",
       "  </tbody>\n",
       "</table>\n",
       "</div>"
      ],
      "text/plain": [
       "                x         y                                          t  \\\n",
       "3715099  0.806781  0.854579  <__main__.Thing object at 0x7fc1889f81c0>   \n",
       "\n",
       "                  obj_id  \n",
       "3715099  140469197570496  "
      ]
     },
     "execution_count": 6,
     "metadata": {},
     "output_type": "execute_result"
    }
   ],
   "source": [
    "# no-index lookup by id\n",
    "n_runs = 10**3\n",
    "t0 = time.time()\n",
    "for _ in range(n_runs):\n",
    "    t = random.choice(things)\n",
    "    df[df['obj_id'] == id(t)]\n",
    "t1 = time.time()\n",
    "print((t1-t0)/n_runs)\n",
    "t = random.choice(things)\n",
    "df[df['obj_id'] == id(t)]\n",
    "\n",
    "# still sub-ms lookup at 1M items, very nice!"
   ]
  },
  {
   "cell_type": "code",
   "execution_count": null,
   "id": "0eac090e",
   "metadata": {},
   "outputs": [],
   "source": []
  },
  {
   "cell_type": "code",
   "execution_count": 7,
   "id": "29126571",
   "metadata": {},
   "outputs": [
    {
     "name": "stdout",
     "output_type": "stream",
     "text": [
      "1 0.035682296752929686\n",
      "10 0.03392667770385742\n",
      "100 0.03681635856628418\n",
      "1000 0.035766983032226564\n",
      "10000 0.04104337692260743\n",
      "100000 0.06929659843444824\n",
      "1000000 0.20270094871520997\n",
      "10000000 0.6384607315063476\n"
     ]
    }
   ],
   "source": [
    "n_runs = 5\n",
    "for e in range(0,8):\n",
    "    n_finds = 10**e\n",
    "    thresh = n_finds/10**7\n",
    "    t_run = 0\n",
    "    for _ in range(n_runs):\n",
    "        t0 = time.time()\n",
    "        ls = df.query('x <= {}'.format(thresh))['t'].to_list()\n",
    "        t1 = time.time()\n",
    "        t_run += (t1-t0)/n_runs\n",
    "    print(n_finds, t_run)\n",
    "\n",
    "# 3.5ms query @ 1M, 38ms @ 10M"
   ]
  },
  {
   "cell_type": "code",
   "execution_count": 40,
   "id": "e1c40702",
   "metadata": {},
   "outputs": [],
   "source": [
    "from rangeindex import RangeIndex\n",
    "ri = RangeIndex({'x':float, 'y': float}, things, 'pandas')"
   ]
  },
  {
   "cell_type": "code",
   "execution_count": 43,
   "id": "5f099189",
   "metadata": {},
   "outputs": [
    {
     "name": "stdout",
     "output_type": "stream",
     "text": [
      "1 0.034227180480957034 0.47257580757141116 13.807032917430579\n",
      "10 0.016726589202880858 0.4675947666168213 27.955177289598673\n",
      "100 0.0176180362701416 0.4690868854522705 26.625378575662356\n",
      "1000 0.016965293884277345 0.4678145408630371 27.574797351231627\n",
      "10000 0.02004523277282715 0.4715585708618164 23.524724117998282\n",
      "100000 0.04016070365905761 0.4818202018737793 11.99730477743042\n",
      "1000000 0.1439764976501465 0.5277787685394287 3.6657286234444784\n",
      "10000000 0.5199972152709961 0.6394063472747802 1.229634175909104\n"
     ]
    }
   ],
   "source": [
    "t0 = time.time()\n",
    "n_runs = 5\n",
    "for e in range(0,8):\n",
    "    n_finds = 10**e\n",
    "    thresh = n_finds/10**7\n",
    "    t_run = 0\n",
    "    t_gen = 0\n",
    "    for _ in range(n_runs):\n",
    "        t0 = time.time()\n",
    "        ls = ri.find('x <= {}'.format(thresh))\n",
    "        t1 = time.time()\n",
    "        g = [o for o in things if o.x <= thresh]\n",
    "        t2 = time.time()\n",
    "        t_run += (t1-t0)/n_runs\n",
    "        t_gen += (t2-t1)/n_runs\n",
    "    print(n_finds, t_run, t_gen, t_gen/t_run)"
   ]
  },
  {
   "cell_type": "code",
   "execution_count": 52,
   "id": "4ab4b824",
   "metadata": {},
   "outputs": [],
   "source": [
    "import random\n",
    "\n",
    "import time\n",
    "from rangeindex import RangeIndex\n",
    "\n",
    "class Object:\n",
    "    def __init__(self):\n",
    "        self.size = random.random()\n",
    "        self.x = random.random()\n",
    "        self.y = random.random()\n",
    "        self.s = random.choice(list('qwertyuiopasdfghjklzxcvbnm'))\n",
    "\n",
    "objects = [Object() for _ in range(10**6)]\n",
    "ri = RangeIndex({'x': float}, objects, engine)\n"
   ]
  },
  {
   "cell_type": "code",
   "execution_count": 98,
   "id": "2582bb90",
   "metadata": {},
   "outputs": [
    {
     "name": "stdout",
     "output_type": "stream",
     "text": [
      "=== pandas 1 ===\n",
      "1000000 1000000\n",
      "0.07951235771179199 0.04459095001220703\n",
      "1.783x speedup\n",
      "=== pandas 1 ===\n",
      "1000000 1000000\n",
      "0.0876920223236084 0.043865203857421875\n",
      "1.999x speedup\n",
      "=== pandas 1 ===\n",
      "1000000 1000000\n",
      "0.08917713165283203 0.04437971115112305\n",
      "2.009x speedup\n",
      "=== pandas 1 ===\n",
      "1000000 1000000\n",
      "0.08647036552429199 0.0444331169128418\n",
      "1.946x speedup\n",
      "=== pandas 1 ===\n",
      "1000000 1000000\n",
      "0.09085822105407715 0.044862985610961914\n",
      "2.025x speedup\n",
      "=== pandas 0.1 ===\n",
      "99502 99502\n",
      "0.06303596496582031 0.019763708114624023\n",
      "3.189x speedup\n",
      "=== pandas 0.001 ===\n",
      "963 963\n",
      "0.05473589897155762 0.004719734191894531\n",
      "11.597x speedup\n",
      "=== pandas 0.0001 ===\n",
      "110 110\n",
      "0.05023837089538574 0.003261089324951172\n",
      "15.405x speedup\n",
      "=== pandas 0.0001 ===\n",
      "110 110\n",
      "0.05178213119506836 0.00337982177734375\n",
      "15.321x speedup\n",
      "=== pandas 0.0001 ===\n",
      "110 110\n",
      "0.04863905906677246 0.0034329891204833984\n",
      "14.168x speedup\n",
      "=== pandas 1e-06 ===\n",
      "1 1\n",
      "0.0482487678527832 0.003052234649658203\n",
      "15.808x speedup\n"
     ]
    }
   ],
   "source": [
    "\n",
    "ri = RangeIndex({'x': float}, objects, engine)\n",
    "for engine in ['pandas']:\n",
    "    for thresh in [1, 1, 1, 1, 1, 0.1, 0.001, 0.0001, 0.0001, 0.0001, 0.000001]:\n",
    "        #found = ri.find(f\"x > 1000\")  # Doing this nonsense query speeds up all later queries by ~2X. (???)\n",
    "        #found = ri.find(f\"x <= {thresh}\") \n",
    "        t0 = time.time()\n",
    "        found = ri.find(f\"x <= {thresh}\")\n",
    "        t1 = time.time()\n",
    "        found_2 = [o for o in objects if o.x <= thresh]\n",
    "        t2 = time.time()\n",
    "\n",
    "        print('===', engine, thresh, '===')\n",
    "        print(len(found), len(found_2))\n",
    "        print(t2-t1, t1-t0)\n",
    "        print('{}x speedup'.format( round((t2-t1)/(t1-t0), 3) ))\n",
    "\n"
   ]
  },
  {
   "cell_type": "code",
   "execution_count": 74,
   "id": "9ba286de",
   "metadata": {},
   "outputs": [
    {
     "name": "stdout",
     "output_type": "stream",
     "text": [
      "=== pandas 0.1 ===\n",
      "99502 99502\n",
      "2.0575451692255493x speedup\n",
      "=== pandas 0.01 ===\n",
      "9949 9949\n",
      "8.8298308353759x speedup\n",
      "=== pandas 0.001 ===\n",
      "963 963\n",
      "14.150432616675406x speedup\n",
      "=== pandas 0.0001 ===\n",
      "110 110\n",
      "15.189874342489771x speedup\n"
     ]
    }
   ],
   "source": [
    "\n",
    "for engine in ['pandas']:\n",
    "    for thresh in [0.1, 0.01, 0.001, 0.0001]:\n",
    "        t0 = time.time()\n",
    "        found = ri.find(f\"x <= {thresh}\")\n",
    "        t1 = time.time()\n",
    "        found_2 = [o for o in objects if o.x <= thresh]\n",
    "        t2 = time.time()\n",
    "            \n",
    "\n",
    "        print('===', engine, thresh, '===')\n",
    "        print(len(found), len(found_2))\n",
    "        print('{}x speedup'.format( (t2-t1)/(t1-t0) ))\n",
    "\n"
   ]
  },
  {
   "cell_type": "code",
   "execution_count": 42,
   "id": "65f8b8ec",
   "metadata": {},
   "outputs": [
    {
     "data": {
      "text/plain": [
       "1.0"
      ]
     },
     "execution_count": 42,
     "metadata": {},
     "output_type": "execute_result"
    }
   ],
   "source": [
    "len(ri) / 10**7"
   ]
  },
  {
   "cell_type": "code",
   "execution_count": 21,
   "id": "a2bbd3e8",
   "metadata": {},
   "outputs": [
    {
     "name": "stdout",
     "output_type": "stream",
     "text": [
      "0.010246312618255616\n"
     ]
    },
    {
     "data": {
      "text/plain": [
       "x                                              12.0\n",
       "y                                          0.717548\n",
       "t         <__main__.Thing object at 0x7f421c1123d0>\n",
       "obj_id                              139921915454416\n",
       "Name: 8001709, dtype: object"
      ]
     },
     "execution_count": 21,
     "metadata": {},
     "output_type": "execute_result"
    }
   ],
   "source": [
    "n_runs = 10**2\n",
    "t0 = time.time()\n",
    "for _ in range(n_runs):\n",
    "    t = random.choice(things)\n",
    "    idx = df[df['obj_id'] == id(t)].index[0]\n",
    "    df.at[idx,'x'] = 12\n",
    "    t.x = 12\n",
    "t1 = time.time()\n",
    "print((t1-t0)/n_runs)\n",
    "df.loc[idx]\n",
    "\n",
    "# 5ms update on one of 10M items"
   ]
  },
  {
   "cell_type": "code",
   "execution_count": 22,
   "id": "9c51910d",
   "metadata": {},
   "outputs": [
    {
     "name": "stdout",
     "output_type": "stream",
     "text": [
      "9999997\n",
      "9999996\n",
      "0.6332800388336182\n"
     ]
    }
   ],
   "source": [
    "print(len(df))\n",
    "t0=time.time()\n",
    "df.drop(idx, inplace=True)\n",
    "t1 = time.time()\n",
    "print(len(df))\n",
    "print(t1-t0)"
   ]
  },
  {
   "cell_type": "code",
   "execution_count": 18,
   "id": "35ee9eb8",
   "metadata": {},
   "outputs": [
    {
     "data": {
      "text/plain": [
       "0.6305458545684814"
      ]
     },
     "execution_count": 18,
     "metadata": {},
     "output_type": "execute_result"
    }
   ],
   "source": [
    "t1-t0"
   ]
  }
 ],
 "metadata": {
  "kernelspec": {
   "display_name": "Python 3 (ipykernel)",
   "language": "python",
   "name": "python3"
  },
  "language_info": {
   "codemirror_mode": {
    "name": "ipython",
    "version": 3
   },
   "file_extension": ".py",
   "mimetype": "text/x-python",
   "name": "python",
   "nbconvert_exporter": "python",
   "pygments_lexer": "ipython3",
   "version": "3.9.7"
  }
 },
 "nbformat": 4,
 "nbformat_minor": 5
}
