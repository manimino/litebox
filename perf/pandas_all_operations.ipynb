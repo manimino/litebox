{
 "cells": [
  {
   "cell_type": "markdown",
   "id": "72b0d1b2",
   "metadata": {},
   "source": [
    "Let's test all operations in Pandas to check if it can compete with the sqlite implementation.\n",
    "\n",
    "Object:\n",
    "x: float, y: float, s: string\n",
    "\n",
    "DataFrame Columns:\n",
    "x, y, s, obj_id, obj\n",
    "where obj_id is a unique index"
   ]
  },
  {
   "cell_type": "code",
   "execution_count": 16,
   "id": "210b9a4f",
   "metadata": {},
   "outputs": [],
   "source": [
    "import random\n",
    "import time\n",
    "import pandas as pd\n",
    "import sys\n",
    "from pympler.asizeof import asizeof\n"
   ]
  },
  {
   "cell_type": "code",
   "execution_count": 7,
   "id": "60e6a7cf",
   "metadata": {},
   "outputs": [
    {
     "data": {
      "text/plain": [
       "Int64Index([1, 2, 3, 1], dtype='int64')"
      ]
     },
     "execution_count": 7,
     "metadata": {},
     "output_type": "execute_result"
    }
   ],
   "source": [
    "pd.Index([1, 2, 3, 1])"
   ]
  },
  {
   "cell_type": "code",
   "execution_count": 8,
   "id": "a71fbf7f",
   "metadata": {},
   "outputs": [
    {
     "data": {
      "text/html": [
       "<div>\n",
       "<style scoped>\n",
       "    .dataframe tbody tr th:only-of-type {\n",
       "        vertical-align: middle;\n",
       "    }\n",
       "\n",
       "    .dataframe tbody tr th {\n",
       "        vertical-align: top;\n",
       "    }\n",
       "\n",
       "    .dataframe thead th {\n",
       "        text-align: right;\n",
       "    }\n",
       "</style>\n",
       "<table border=\"1\" class=\"dataframe\">\n",
       "  <thead>\n",
       "    <tr style=\"text-align: right;\">\n",
       "      <th></th>\n",
       "      <th>x</th>\n",
       "      <th>y</th>\n",
       "      <th>s</th>\n",
       "      <th>obj</th>\n",
       "    </tr>\n",
       "    <tr>\n",
       "      <th>obj_id</th>\n",
       "      <th></th>\n",
       "      <th></th>\n",
       "      <th></th>\n",
       "      <th></th>\n",
       "    </tr>\n",
       "  </thead>\n",
       "  <tbody>\n",
       "  </tbody>\n",
       "</table>\n",
       "</div>"
      ],
      "text/plain": [
       "Empty DataFrame\n",
       "Columns: [x, y, s, obj]\n",
       "Index: []"
      ]
     },
     "execution_count": 8,
     "metadata": {},
     "output_type": "execute_result"
    }
   ],
   "source": [
    "df = pd.DataFrame({'x': pd.Series(dtype='float'),\n",
    "                   'y': pd.Series(dtype='float'),\n",
    "                   's': pd.Series(dtype='str'),\n",
    "                   'obj_id': pd.Series(dtype='uint64'),\n",
    "                   'obj': pd.Series(dtype='O')\n",
    "                   })\n",
    "df.set_index('obj_id')"
   ]
  },
  {
   "cell_type": "code",
   "execution_count": 9,
   "id": "94c424be",
   "metadata": {},
   "outputs": [],
   "source": [
    "letters = ['qwertyuiopasdfghjklzxcvbnm']\n",
    "class Thing:\n",
    "    def __init__(self):\n",
    "        self.x = random.random()\n",
    "        self.y = random.random()\n",
    "        self.s = ''.join(random.choice(letters) for _ in range(5))\n",
    "\n",
    "n_things = 10**4\n",
    "things = [Thing() for _ in range(n_things)]"
   ]
  },
  {
   "cell_type": "code",
   "execution_count": 19,
   "id": "8ac110c1",
   "metadata": {},
   "outputs": [
    {
     "name": "stdout",
     "output_type": "stream",
     "text": [
      "13.231499433517456\n"
     ]
    }
   ],
   "source": [
    "t0 = time.time()\n",
    "for t in things:\n",
    "    df.loc[id(t)] = {'x': t.x, 'y': t.y, 's': t.s, 'obj': t}\n",
    "t1 = time.time()\n",
    "print(t1-t0)"
   ]
  },
  {
   "cell_type": "code",
   "execution_count": 20,
   "id": "d97f3729",
   "metadata": {},
   "outputs": [
    {
     "data": {
      "text/plain": [
       "778.3432"
      ]
     },
     "execution_count": 20,
     "metadata": {},
     "output_type": "execute_result"
    }
   ],
   "source": [
    "asizeof(df) / len(df)"
   ]
  },
  {
   "cell_type": "code",
   "execution_count": 21,
   "id": "7cc2aa61",
   "metadata": {},
   "outputs": [
    {
     "data": {
      "text/plain": [
       "10000"
      ]
     },
     "execution_count": 21,
     "metadata": {},
     "output_type": "execute_result"
    }
   ],
   "source": [
    "len(df)"
   ]
  },
  {
   "cell_type": "code",
   "execution_count": null,
   "id": "626a50ef",
   "metadata": {},
   "outputs": [],
   "source": []
  }
 ],
 "metadata": {
  "kernelspec": {
   "display_name": "Python 3 (ipykernel)",
   "language": "python",
   "name": "python3"
  },
  "language_info": {
   "codemirror_mode": {
    "name": "ipython",
    "version": 3
   },
   "file_extension": ".py",
   "mimetype": "text/x-python",
   "name": "python",
   "nbconvert_exporter": "python",
   "pygments_lexer": "ipython3",
   "version": "3.9.7"
  }
 },
 "nbformat": 4,
 "nbformat_minor": 5
}
