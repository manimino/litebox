{
 "cells": [
  {
   "cell_type": "markdown",
   "id": "dee64bbe",
   "metadata": {},
   "source": [
    "Let's test all operations in Pandas to check if it can compete with the sqlite implementation.\n",
    "\n",
    "Object:\n",
    "x: float, y: float, s: string\n",
    "\n",
    "DataFrame Columns:\n",
    "x, y, s, obj_id, obj\n",
    "where obj_id is a unique index"
   ]
  },
  {
   "cell_type": "markdown",
   "id": "24d9085c",
   "metadata": {},
   "source": [
    "Update: Nope, using an index to look up numbers is very bad. Building an indexed df of 10k items took > 1 second. \n",
    "Let's just resign ourselves to:\n",
    " - O(n) remove, maybe with a mark-and-sweep gc\n",
    " - O(n) update, since we have to find the obj_id."
   ]
  },
  {
   "cell_type": "markdown",
   "id": "90f1275c",
   "metadata": {},
   "source": [
    "O(n) update looking good! <1ms on 1M item set."
   ]
  },
  {
   "cell_type": "code",
   "execution_count": 1,
   "id": "bc497c4f",
   "metadata": {},
   "outputs": [],
   "source": [
    "import random\n",
    "import time\n",
    "import pandas as pd\n",
    "import sys\n",
    "from pympler.asizeof import asizeof\n"
   ]
  },
  {
   "cell_type": "code",
   "execution_count": null,
   "id": "e7e7a996",
   "metadata": {},
   "outputs": [],
   "source": []
  },
  {
   "cell_type": "code",
   "execution_count": null,
   "id": "89dd753e",
   "metadata": {},
   "outputs": [],
   "source": []
  },
  {
   "cell_type": "code",
   "execution_count": 2,
   "id": "be9c0183",
   "metadata": {},
   "outputs": [],
   "source": [
    "letters = ['qwertyuiopasdfghjklzxcvbnm']\n",
    "class Thing:\n",
    "    def __init__(self):\n",
    "        self.x = random.random()\n",
    "        self.y = random.random()\n",
    "        #self.s = ''.join(random.choice(letters) for _ in range(5))\n",
    "\n",
    "n_things = 10**7\n",
    "things = [Thing() for _ in range(n_things)]\n",
    "\n",
    "# 10^7: 2.3G"
   ]
  },
  {
   "cell_type": "code",
   "execution_count": 3,
   "id": "99f4c965",
   "metadata": {},
   "outputs": [
    {
     "name": "stdout",
     "output_type": "stream",
     "text": [
      "15.785856246948242\n"
     ]
    }
   ],
   "source": [
    "t0 = time.time()\n",
    "df = pd.DataFrame({\n",
    "    'x': [t.x for t in things],\n",
    "    'y': [t.y for t in things],\n",
    "    't': [t for t in things],\n",
    "    'obj_id': [id(t) for t in things],\n",
    "    }\n",
    ")\n",
    "t1 = time.time()\n",
    "print(t1-t0)\n",
    "# 10^7: 2.6G, so 300MB. Nice!"
   ]
  },
  {
   "cell_type": "code",
   "execution_count": 4,
   "id": "293a4688",
   "metadata": {},
   "outputs": [
    {
     "data": {
      "text/plain": [
       "128.0008584"
      ]
     },
     "execution_count": 4,
     "metadata": {},
     "output_type": "execute_result"
    }
   ],
   "source": [
    "asizeof(df) / n_things"
   ]
  },
  {
   "cell_type": "code",
   "execution_count": null,
   "id": "57bf0fc2",
   "metadata": {
    "scrolled": true
   },
   "outputs": [],
   "source": []
  },
  {
   "cell_type": "code",
   "execution_count": null,
   "id": "7a92071f",
   "metadata": {},
   "outputs": [],
   "source": []
  },
  {
   "cell_type": "code",
   "execution_count": 15,
   "id": "a6b5af30",
   "metadata": {},
   "outputs": [
    {
     "data": {
      "text/plain": [
       "\"\\n# 128 bytes / obj before\\ndf = df.set_index('obj_id')\\n# 362 bytes / obj after, ouch.\\n\\nn_lookups = 10**3\\nt0 = time.time()\\nfor _ in range(n_lookups):\\n    oid = id(random.choice(things))\\n    df.loc[oid]\\nt1 = time.time()\\nprint(t1-t0)\\n\""
      ]
     },
     "execution_count": 15,
     "metadata": {},
     "output_type": "execute_result"
    }
   ],
   "source": [
    "\"\"\"\n",
    "# 128 bytes / obj before\n",
    "df = df.set_index('obj_id')\n",
    "# 362 bytes / obj after, ouch.\n",
    "\n",
    "n_lookups = 10**3\n",
    "t0 = time.time()\n",
    "for _ in range(n_lookups):\n",
    "    oid = id(random.choice(things))\n",
    "    df.loc[oid]\n",
    "t1 = time.time()\n",
    "print(t1-t0)\n",
    "\"\"\"\n",
    "# sub-millisecond find by id. That's good!"
   ]
  },
  {
   "cell_type": "code",
   "execution_count": 28,
   "id": "7167d271",
   "metadata": {},
   "outputs": [
    {
     "name": "stdout",
     "output_type": "stream",
     "text": [
      "0.005320491552352905\n"
     ]
    },
    {
     "data": {
      "text/html": [
       "<div>\n",
       "<style scoped>\n",
       "    .dataframe tbody tr th:only-of-type {\n",
       "        vertical-align: middle;\n",
       "    }\n",
       "\n",
       "    .dataframe tbody tr th {\n",
       "        vertical-align: top;\n",
       "    }\n",
       "\n",
       "    .dataframe thead th {\n",
       "        text-align: right;\n",
       "    }\n",
       "</style>\n",
       "<table border=\"1\" class=\"dataframe\">\n",
       "  <thead>\n",
       "    <tr style=\"text-align: right;\">\n",
       "      <th></th>\n",
       "      <th>x</th>\n",
       "      <th>y</th>\n",
       "      <th>t</th>\n",
       "      <th>obj_id</th>\n",
       "    </tr>\n",
       "  </thead>\n",
       "  <tbody>\n",
       "    <tr>\n",
       "      <th>248988</th>\n",
       "      <td>0.525043</td>\n",
       "      <td>0.016362</td>\n",
       "      <td>&lt;__main__.Thing object at 0x7f1a31ad44c0&gt;</td>\n",
       "      <td>139750479316160</td>\n",
       "    </tr>\n",
       "  </tbody>\n",
       "</table>\n",
       "</div>"
      ],
      "text/plain": [
       "               x         y                                          t  \\\n",
       "248988  0.525043  0.016362  <__main__.Thing object at 0x7f1a31ad44c0>   \n",
       "\n",
       "                 obj_id  \n",
       "248988  139750479316160  "
      ]
     },
     "execution_count": 28,
     "metadata": {},
     "output_type": "execute_result"
    }
   ],
   "source": [
    "# no-index lookup by id\n",
    "n_runs = 10**3\n",
    "t0 = time.time()\n",
    "for _ in range(n_runs):\n",
    "    t = random.choice(things)\n",
    "    df[df['obj_id'] == id(t)]\n",
    "t1 = time.time()\n",
    "print((t1-t0)/n_runs)\n",
    "t = random.choice(things)\n",
    "df[df['obj_id'] == id(t)]\n",
    "\n",
    "# still sub-ms lookup at 1M items, very nice!"
   ]
  },
  {
   "cell_type": "code",
   "execution_count": null,
   "id": "0eac090e",
   "metadata": {},
   "outputs": [],
   "source": []
  },
  {
   "cell_type": "code",
   "execution_count": 25,
   "id": "29126571",
   "metadata": {},
   "outputs": [
    {
     "name": "stdout",
     "output_type": "stream",
     "text": [
      "1 0.06491284370422364\n",
      "10 0.039666366577148435\n",
      "100 0.03907394409179688\n",
      "1000 0.039962148666381835\n",
      "10000 0.04311203956604004\n",
      "100000 0.07470993995666504\n",
      "1000000 0.1988347053527832\n",
      "10000000 0.6385342121124267\n"
     ]
    }
   ],
   "source": [
    "n_runs = 5\n",
    "for e in range(0,8):\n",
    "    n_finds = 10**e\n",
    "    thresh = n_finds/10**7\n",
    "    t_run = 0\n",
    "    for _ in range(n_runs):\n",
    "        df.query('y <= 1 and x <= {}'.format(thresh)).t.to_list()\n",
    "        t0 = time.time()\n",
    "        ls = df.query('y <= 1 and x <= {}'.format(thresh)).t.to_list()\n",
    "        t1 = time.time()\n",
    "        t_run += (t1-t0)/n_runs\n",
    "    print(n_finds, t_run)\n",
    "\n",
    "# 3.5ms query @ 1M, 38ms @ 10M"
   ]
  },
  {
   "cell_type": "code",
   "execution_count": 21,
   "id": "a2bbd3e8",
   "metadata": {},
   "outputs": [
    {
     "name": "stdout",
     "output_type": "stream",
     "text": [
      "0.010246312618255616\n"
     ]
    },
    {
     "data": {
      "text/plain": [
       "x                                              12.0\n",
       "y                                          0.717548\n",
       "t         <__main__.Thing object at 0x7f421c1123d0>\n",
       "obj_id                              139921915454416\n",
       "Name: 8001709, dtype: object"
      ]
     },
     "execution_count": 21,
     "metadata": {},
     "output_type": "execute_result"
    }
   ],
   "source": [
    "n_runs = 10**2\n",
    "t0 = time.time()\n",
    "for _ in range(n_runs):\n",
    "    t = random.choice(things)\n",
    "    idx = df[df['obj_id'] == id(t)].index[0]\n",
    "    df.at[idx,'x'] = 12\n",
    "    t.x = 12\n",
    "t1 = time.time()\n",
    "print((t1-t0)/n_runs)\n",
    "df.loc[idx]\n",
    "\n",
    "# 5ms update on one of 10M items"
   ]
  },
  {
   "cell_type": "code",
   "execution_count": 22,
   "id": "9c51910d",
   "metadata": {},
   "outputs": [
    {
     "name": "stdout",
     "output_type": "stream",
     "text": [
      "9999997\n",
      "9999996\n",
      "0.6332800388336182\n"
     ]
    }
   ],
   "source": [
    "print(len(df))\n",
    "t0=time.time()\n",
    "df.drop(idx, inplace=True)\n",
    "t1 = time.time()\n",
    "print(len(df))\n",
    "print(t1-t0)"
   ]
  },
  {
   "cell_type": "code",
   "execution_count": 18,
   "id": "35ee9eb8",
   "metadata": {},
   "outputs": [
    {
     "data": {
      "text/plain": [
       "0.6305458545684814"
      ]
     },
     "execution_count": 18,
     "metadata": {},
     "output_type": "execute_result"
    }
   ],
   "source": [
    "t1-t0"
   ]
  },
  {
   "cell_type": "code",
   "execution_count": null,
   "id": "3fa62e87",
   "metadata": {},
   "outputs": [],
   "source": []
  }
 ],
 "metadata": {
  "kernelspec": {
   "display_name": "Python 3 (ipykernel)",
   "language": "python",
   "name": "python3"
  },
  "language_info": {
   "codemirror_mode": {
    "name": "ipython",
    "version": 3
   },
   "file_extension": ".py",
   "mimetype": "text/x-python",
   "name": "python",
   "nbconvert_exporter": "python",
   "pygments_lexer": "ipython3",
   "version": "3.9.7"
  }
 },
 "nbformat": 4,
 "nbformat_minor": 5
}
