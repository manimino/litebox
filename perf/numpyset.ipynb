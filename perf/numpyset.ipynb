{
 "cells": [
  {
   "cell_type": "code",
   "execution_count": 4,
   "id": "1e63255d",
   "metadata": {},
   "outputs": [],
   "source": [
    "import random\n",
    "import string\n",
    "import numpy as np"
   ]
  },
  {
   "cell_type": "code",
   "execution_count": 21,
   "id": "29a61f93",
   "metadata": {},
   "outputs": [
    {
     "data": {
      "text/plain": [
       "'sjzru'"
      ]
     },
     "execution_count": 21,
     "metadata": {},
     "output_type": "execute_result"
    }
   ],
   "source": [
    "def gen_item(length=10):\n",
    "    return ''.join([random.choice(string.ascii_lowercase) for _ in range(length)])\n",
    "\n",
    "gen_item(5)"
   ]
  },
  {
   "cell_type": "code",
   "execution_count": 6,
   "id": "1d6fbc58",
   "metadata": {},
   "outputs": [],
   "source": [
    "class ResizableArray:\n",
    "    def __init__(self, dtype):\n",
    "        self.size = 0\n",
    "        self.capacity = 10\n",
    "        self.data = np.zeros((self.capacity,), dtype=dtype)\n",
    "\n",
    "    def append(self, x):\n",
    "        if self.size == self.capacity:\n",
    "            self.capacity *= 4\n",
    "            new_arr = np.zeros((self.capacity,))\n",
    "            new_arr[:self.size] = self.data\n",
    "            self.data = newdata\n",
    "\n",
    "        self.data[self.size] = x\n",
    "        self.size += 1\n",
    "\n",
    "    def finalize(self):\n",
    "        data = self.data[:self.size]\n",
    "        return np.reshape(data, newshape=(len(data)/5, 5))\n",
    "\n",
    "\n",
    "class NumpySet:\n",
    "    \n",
    "    def __init__(self, objs=None, dtype=None):\n",
    "        if not objs and not dtype:\n",
    "            raise ValueError('Must provide at least one object or a dtype')\n",
    "        if not dtype:\n",
    "            dtype = np.array([objs[0]]).dtype\n",
    "        \n",
    "        self.k = 1\n",
    "        self.arrays = [ResizableArray(dtype) for _ in range(self.k)]\n",
    "        "
   ]
  },
  {
   "cell_type": "code",
   "execution_count": 22,
   "id": "d2c8f806",
   "metadata": {},
   "outputs": [
    {
     "name": "stdout",
     "output_type": "stream",
     "text": [
      "9\n",
      "2\n",
      "5\n",
      "1\n",
      "8\n",
      "3\n",
      "8\n",
      "0\n",
      "3\n",
      "4\n"
     ]
    }
   ],
   "source": [
    "for i in range(10):\n",
    "    print(hash(gen_item()) % 10)"
   ]
  },
  {
   "cell_type": "code",
   "execution_count": null,
   "id": "728a25c9",
   "metadata": {},
   "outputs": [],
   "source": []
  }
 ],
 "metadata": {
  "kernelspec": {
   "display_name": "Python 3 (ipykernel)",
   "language": "python",
   "name": "python3"
  },
  "language_info": {
   "codemirror_mode": {
    "name": "ipython",
    "version": 3
   },
   "file_extension": ".py",
   "mimetype": "text/x-python",
   "name": "python",
   "nbconvert_exporter": "python",
   "pygments_lexer": "ipython3",
   "version": "3.9.7"
  }
 },
 "nbformat": 4,
 "nbformat_minor": 5
}
