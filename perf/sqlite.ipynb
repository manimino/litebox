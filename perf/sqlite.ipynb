{
 "cells": [
  {
   "cell_type": "code",
   "execution_count": 1,
   "id": "7f847878",
   "metadata": {},
   "outputs": [],
   "source": [
    "import random\n",
    "import time\n",
    "from dataclasses import dataclass\n",
    "from rangeindex import RangeIndex\n",
    "from matplotlib import pyplot as plt\n",
    "%matplotlib inline\n",
    "\n",
    "az = 'qwertyuiopasdfghjklzxcvbnm'\n",
    "ten = list(range(10))\n",
    "\n",
    "\n",
    "@dataclass\n",
    "class Thing:\n",
    "    x: int\n",
    "    y: float\n",
    "    desc: str\n",
    "\n",
    "\n",
    "def make_thing():\n",
    "    s = []\n",
    "    for i in range(5):\n",
    "        s.append(random.choice(az))\n",
    "    return Thing(x=random.choice(ten), y=random.random(), desc=''.join(s))\n",
    "\n",
    "\n",
    "def compare_speeds(ri, portion_to_find=0.1):\n",
    "    # amount_to_find\n",
    "    # things = [make_thing() for _ in range(n)]\n",
    "    # ri = RangeIndex({'x': int, 'y': float})\n",
    "    # t0 = time.time()\n",
    "    # ri.add_many(things)\n",
    "    t1 = time.time()\n",
    "    found_float = ri.find([('y', '<', portion_to_find), ('x', '<=', 10)])\n",
    "    t2 = time.time()\n",
    "    #found_str = ri.find([('desc', '<', 'zzzzz')])\n",
    "    t3 = time.time()\n",
    "    #linear_find = tuple(t for t in things if t.y < portion_to_find and t.x <= 10)\n",
    "    #linear_find = tuple(filter(lambda t: t.y < portion_to_find and t.x <= 10, things))\n",
    "    t4 = time.time()\n",
    "    \n",
    "    results = {\n",
    "     #   'filter': t4-t3,\n",
    "        'ri_find': t2-t1\n",
    "    }\n",
    "\n",
    "    \"\"\"\n",
    "    print('t_add {} elements:'.format(len(things)), t1-t0)\n",
    "    print('t_find {} elements:'.format(len(found_float)), t2-t1)\n",
    "    #print('t_find {} elements:'.format(len(found_str)), t3-t2)\n",
    "    print('linear find {} elements:'.format(len(linear_find)), t4-t3)\n",
    "\n",
    "    print((t4-t3)/(t2-t1))\n",
    "    \"\"\"\n",
    "    return results"
   ]
  },
  {
   "cell_type": "code",
   "execution_count": 2,
   "id": "b86d80a4",
   "metadata": {},
   "outputs": [
    {
     "name": "stdout",
     "output_type": "stream",
     "text": [
      "30.729199171066284\n"
     ]
    }
   ],
   "source": [
    "def insert_time(n=10**6):\n",
    "    things = [make_thing() for _ in range(n)]\n",
    "    ri = RangeIndex({'x': int, 'y': float})\n",
    "    t0 = time.time()\n",
    "    #for t in things:\n",
    "    #    ri.add(t)\n",
    "    t1 = time.time()\n",
    "    ri.add_many(things)\n",
    "    t2 = time.time()\n",
    "    \n",
    "    t_each = t1-t0\n",
    "    t_many = t2-t1\n",
    "    print(t_many)\n",
    "    \n",
    "insert_time(n=10**7)\n"
   ]
  },
  {
   "cell_type": "code",
   "execution_count": 3,
   "id": "f73cbc61",
   "metadata": {},
   "outputs": [],
   "source": [
    "n = 10**7\n",
    "things = [make_thing() for _ in range(n)]\n",
    "# 10^7: 2.6GB GB"
   ]
  },
  {
   "cell_type": "code",
   "execution_count": 4,
   "id": "2064ec6e",
   "metadata": {},
   "outputs": [
    {
     "name": "stdout",
     "output_type": "stream",
     "text": [
      "30.347527503967285\n"
     ]
    }
   ],
   "source": [
    "ri = RangeIndex({'x': int, 'y': float})\n",
    "t1 = time.time()\n",
    "ri.add_many(things)\n",
    "t2 = time.time()\n",
    "print(t2-t1)\n",
    "# tot 4.7 GB, so that took 2.1GB. "
   ]
  },
  {
   "cell_type": "code",
   "execution_count": null,
   "id": "2fbbce60",
   "metadata": {},
   "outputs": [],
   "source": []
  },
  {
   "cell_type": "code",
   "execution_count": 5,
   "id": "85e59fee",
   "metadata": {},
   "outputs": [],
   "source": [
    "find_times = {}\n",
    "filter_times = {}\n",
    "n_runs = 10\n",
    "for reps in range(n_runs):\n",
    "    n_exp=7\n",
    "    for p_exp in range(-7, 1):\n",
    "        p = 10**p_exp\n",
    "        res = compare_speeds(ri, portion_to_find=p)\n",
    "        n_objs = int(p*n)\n",
    "        find_times[n_objs] = find_times.get(n_objs, 0) + res['ri_find'] / n_runs\n",
    "        # filter_times[n_objs] = filter_times.get(n_objs, 0) + res['filter'] / n_runs"
   ]
  },
  {
   "cell_type": "code",
   "execution_count": 6,
   "id": "870b7db9",
   "metadata": {},
   "outputs": [
    {
     "name": "stdout",
     "output_type": "stream",
     "text": [
      "1 0.118ms\n",
      "10 0.094ms\n",
      "100 0.358ms\n",
      "1000 0.003s\n",
      "10000 0.448s\n",
      "100000 0.513s\n",
      "1000000 1.249s\n",
      "10000000 7.095s\n"
     ]
    }
   ],
   "source": [
    "def to_str(t: float):\n",
    "    if t < 10**-6:\n",
    "        return \"{}μs\".format(round(t*10**6,3))\n",
    "    elif t < 10**-3:\n",
    "        return \"{}ms\".format(round(t*10**3, 3))\n",
    "    else:\n",
    "        return \"{}s\".format(round(t, 3))\n",
    "\n",
    "for key in sorted(find_times.keys()):\n",
    "    ft = find_times[key]\n",
    "    print(key, to_str(find_times[key]))"
   ]
  },
  {
   "cell_type": "code",
   "execution_count": null,
   "id": "7e523b8a",
   "metadata": {},
   "outputs": [],
   "source": [
    "len(ri.objs) / 10**7"
   ]
  },
  {
   "cell_type": "code",
   "execution_count": null,
   "id": "37a29a04",
   "metadata": {},
   "outputs": [],
   "source": [
    "t0 = time.time()\n",
    "ls = ri.find([('y', '<=', 1.0), ('x', '<=', 10)])\n",
    "t1 = time.time()\n",
    "print(t1-t0)"
   ]
  },
  {
   "cell_type": "code",
   "execution_count": 27,
   "id": "d33fa5f7",
   "metadata": {},
   "outputs": [
    {
     "data": {
      "text/plain": [
       "1.0"
      ]
     },
     "execution_count": 27,
     "metadata": {},
     "output_type": "execute_result"
    }
   ],
   "source": [
    "len(ls) / 10**7"
   ]
  },
  {
   "cell_type": "code",
   "execution_count": 22,
   "id": "74d6f4ae",
   "metadata": {},
   "outputs": [
    {
     "data": {
      "text/plain": [
       "[4, 7, 3, 9, 8, 2, 7, 0, 3, 5]"
      ]
     },
     "execution_count": 22,
     "metadata": {},
     "output_type": "execute_result"
    }
   ],
   "source": [
    "[things[i].x for i in range(-10, 0)]"
   ]
  },
  {
   "cell_type": "code",
   "execution_count": 24,
   "id": "7ad7659a",
   "metadata": {},
   "outputs": [
    {
     "data": {
      "text/plain": [
       "1.0"
      ]
     },
     "execution_count": 24,
     "metadata": {},
     "output_type": "execute_result"
    }
   ],
   "source": [
    "len(things) / 10**7"
   ]
  },
  {
   "cell_type": "code",
   "execution_count": 36,
   "id": "82136eee",
   "metadata": {},
   "outputs": [],
   "source": [
    "t0 = time.time()\n",
    "things.remove(things[10**7-10**6])\n",
    "t1 = time.time()"
   ]
  },
  {
   "cell_type": "code",
   "execution_count": 37,
   "id": "a78f9b6a",
   "metadata": {},
   "outputs": [
    {
     "data": {
      "text/plain": [
       "2.211230516433716"
      ]
     },
     "execution_count": 37,
     "metadata": {},
     "output_type": "execute_result"
    }
   ],
   "source": [
    "t1-t0"
   ]
  },
  {
   "cell_type": "code",
   "execution_count": null,
   "id": "642443ba",
   "metadata": {},
   "outputs": [],
   "source": []
  }
 ],
 "metadata": {
  "kernelspec": {
   "display_name": "Python 3 (ipykernel)",
   "language": "python",
   "name": "python3"
  },
  "language_info": {
   "codemirror_mode": {
    "name": "ipython",
    "version": 3
   },
   "file_extension": ".py",
   "mimetype": "text/x-python",
   "name": "python",
   "nbconvert_exporter": "python",
   "pygments_lexer": "ipython3",
   "version": "3.9.7"
  }
 },
 "nbformat": 4,
 "nbformat_minor": 5
}
