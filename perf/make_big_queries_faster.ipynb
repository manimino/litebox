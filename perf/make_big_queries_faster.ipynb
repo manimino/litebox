{
 "cells": [
  {
   "cell_type": "markdown",
   "id": "399be4d6",
   "metadata": {},
   "source": [
    "#### Looking up every item in a dict is killing performance on large queries.\n",
    "#### Gotta find a better way, even if it tanks performance on remove() and/or update() ops."
   ]
  },
  {
   "cell_type": "code",
   "execution_count": 46,
   "id": "3635a9a3",
   "metadata": {},
   "outputs": [],
   "source": [
    "import random\n",
    "import time\n",
    "import pandas as pd\n",
    "import numpy as np\n",
    "import sortednp as snp"
   ]
  },
  {
   "cell_type": "code",
   "execution_count": 3,
   "id": "7188aff6",
   "metadata": {},
   "outputs": [],
   "source": [
    "class Thing:\n",
    "    def __init__(self):\n",
    "        self.x = random.random()\n",
    "\n",
    "things = [Thing() for _ in range(10**7)]\n",
    "obj_ids = [id(t) for t in things]\n",
    "obj_dict = {id(t): t for t in things}"
   ]
  },
  {
   "cell_type": "code",
   "execution_count": 5,
   "id": "00f65e45",
   "metadata": {},
   "outputs": [
    {
     "name": "stdout",
     "output_type": "stream",
     "text": [
      "subset size:  0.9932565\n"
     ]
    }
   ],
   "source": [
    "# make a subset containing most of the objects\n",
    "some_idxs = list(set(random.choice(range(len(things))) for _ in range(5*10**7)))\n",
    "some_ids = [obj_ids[k] for k in some_idxs]\n",
    "print('subset size: ', len(some_ids) / len(obj_ids))"
   ]
  },
  {
   "cell_type": "code",
   "execution_count": 6,
   "id": "e2ece7da",
   "metadata": {},
   "outputs": [
    {
     "name": "stdout",
     "output_type": "stream",
     "text": [
      "list lookup: 1.419527530670166\n",
      "dict lookup: 2.361854314804077\n"
     ]
    }
   ],
   "source": [
    "# test dict and list lookup time for subset. \n",
    "# This is the best we can do with raw Python.\n",
    "t0 = time.time()\n",
    "s1 = [obj_dict[obj_id] for obj_id in some_ids]\n",
    "t1 = time.time()\n",
    "s2 = [things[idx] for idx in some_idxs]\n",
    "t2 = time.time()\n",
    "\n",
    "print('list lookup:', t2-t1)\n",
    "print('dict lookup:', t1-t0)"
   ]
  },
  {
   "cell_type": "code",
   "execution_count": null,
   "id": "797da60f",
   "metadata": {
    "scrolled": true
   },
   "outputs": [],
   "source": [
    "# The SortedCollections are a lot slower than either. Tried SortedList and SortedSet.\n",
    "# Too many lookups. Omitted."
   ]
  },
  {
   "cell_type": "code",
   "execution_count": 7,
   "id": "178ef77c",
   "metadata": {},
   "outputs": [
    {
     "name": "stdout",
     "output_type": "stream",
     "text": [
      "pandas df lookups: 2.985320568084717\n"
     ]
    }
   ],
   "source": [
    "# what about making a dataframe to do the lookups?\n",
    "# nope -- worse than dict (probably similar algorithm though)\n",
    "df = pd.DataFrame({'obj': things, 'obj_id': obj_ids})\n",
    "t0 = time.time()\n",
    "res = df[df['obj_id'].isin(some_ids)]['obj'].to_list()\n",
    "t1 = time.time()\n",
    "print('pandas df lookups:', t1-t0)"
   ]
  },
  {
   "cell_type": "code",
   "execution_count": 8,
   "id": "0688fe57",
   "metadata": {},
   "outputs": [
    {
     "name": "stdout",
     "output_type": "stream",
     "text": [
      "8.117634057998657\n"
     ]
    }
   ],
   "source": [
    "# Maybe merge two dfs?\n",
    "# nope, that's worse.\n",
    "left_df = pd.DataFrame({'obj_id': some_ids})\n",
    "t0 = time.time()\n",
    "left_df.merge(df, on='obj_id', how='left')['obj'].to_list()\n",
    "t1 = time.time()\n",
    "print(t1-t0)"
   ]
  },
  {
   "cell_type": "code",
   "execution_count": 44,
   "id": "e08ac3c5",
   "metadata": {},
   "outputs": [
    {
     "name": "stdout",
     "output_type": "stream",
     "text": [
      "neither sorted 0.6735236644744873\n",
      "little sorted 0.5764756202697754\n",
      "big sorted 0.47378015518188477\n",
      "both sorted 0.450084924697876\n"
     ]
    }
   ],
   "source": [
    "# OK, let's try REALLY basic numpy. If this doesn't work nothing will.\n",
    "# Nice! Looks like a ~4x speedup, as long as we can use this mask efficiently. \n",
    "\n",
    "def in_it_time(main, subset):\n",
    "    main_arr = np.array(main)\n",
    "    subset_arr = np.array(subset)\n",
    "    t0 = time.time()\n",
    "    np.in1d(a2, a1, assume_unique=True)\n",
    "    t1 = time.time()\n",
    "    return t1-t0\n",
    "\n",
    "print('neither sorted', in_it_time(obj_ids, some_ids))\n",
    "print('little sorted', in_it_time(obj_ids, sorted(some_ids)))\n",
    "print('big sorted', in_it_time(sorted(obj_ids), some_ids))\n",
    "print('both sorted', in_it_time(sorted(obj_ids), sorted(some_ids)))\n"
   ]
  },
  {
   "cell_type": "code",
   "execution_count": 55,
   "id": "5860cc5e",
   "metadata": {},
   "outputs": [
    {
     "name": "stdout",
     "output_type": "stream",
     "text": [
      "0.09005618095397949\n"
     ]
    }
   ],
   "source": [
    "# what about this \"sortednp\" library, is it good?\n",
    "sort_all = np.array(sorted(obj_ids))\n",
    "sort_sub = np.array(sorted(some_ids))\n",
    "\n",
    "t0 = time.time()\n",
    "m = snp.intersect(sort_sub, sort_all, indices=True)\n",
    "t1 = time.time()\n",
    "print(t1-t0)\n",
    "# NOW THAT'S MORE LIKE IT\n",
    "# 0.09s let's gooooooo"
   ]
  },
  {
   "cell_type": "code",
   "execution_count": 75,
   "id": "e017fadd",
   "metadata": {},
   "outputs": [
    {
     "name": "stdout",
     "output_type": "stream",
     "text": [
      "df lookup on that 0.3775930404663086\n"
     ]
    }
   ],
   "source": [
    "t0 = time.time()\n",
    "df.iloc[m[1][1]]['obj']\n",
    "t1 = time.time()\n",
    "print('df lookup on that', t1-t0)\n",
    "# WHAT NOW BITCHES\n"
   ]
  },
  {
   "cell_type": "code",
   "execution_count": 77,
   "id": "df1ae377",
   "metadata": {},
   "outputs": [
    {
     "name": "stdout",
     "output_type": "stream",
     "text": [
      "0.39373033046722417\n",
      "9932565\n"
     ]
    }
   ],
   "source": [
    "# all together now\n",
    "n_runs = 10\n",
    "t_tot = 0\n",
    "for _ in range(n_runs):\n",
    "    t0 = time.time()\n",
    "    m = snp.intersect(sort_sub, sort_all, indices=True)\n",
    "    winna = df.iloc[m[1][1]]['obj']\n",
    "    t1 = time.time()\n",
    "    t_tot += (t1-t0)/n_runs\n",
    "print(t_tot)\n",
    "\n",
    "print(len(winna))"
   ]
  },
  {
   "cell_type": "code",
   "execution_count": 82,
   "id": "0b9344c2",
   "metadata": {},
   "outputs": [
    {
     "name": "stdout",
     "output_type": "stream",
     "text": [
      "🎉 6.0 x speedup 🎉\n"
     ]
    }
   ],
   "source": [
    "print('🎉', round(2.361854/0.3937, 2), 'x speedup 🎉')"
   ]
  },
  {
   "cell_type": "code",
   "execution_count": null,
   "id": "50bdbd0f",
   "metadata": {},
   "outputs": [],
   "source": []
  },
  {
   "cell_type": "code",
   "execution_count": null,
   "id": "f7ea4525",
   "metadata": {},
   "outputs": [],
   "source": []
  },
  {
   "cell_type": "code",
   "execution_count": null,
   "id": "eeb53dab",
   "metadata": {},
   "outputs": [],
   "source": []
  },
  {
   "cell_type": "code",
   "execution_count": null,
   "id": "7ba18eeb",
   "metadata": {},
   "outputs": [],
   "source": []
  },
  {
   "cell_type": "code",
   "execution_count": null,
   "id": "32ef055a",
   "metadata": {},
   "outputs": [],
   "source": [
    "# here are some other junks I tried that were bad."
   ]
  },
  {
   "cell_type": "code",
   "execution_count": 40,
   "id": "f20d08ac",
   "metadata": {},
   "outputs": [
    {
     "name": "stdout",
     "output_type": "stream",
     "text": [
      "1.1768853664398193\n"
     ]
    }
   ],
   "source": [
    "# Maybe use the mask on that df?\n",
    "t0 = time.time()\n",
    "mask = np.in1d(a2, a1, assume_unique=True)\n",
    "ls = df[mask]['obj'].to_list()\n",
    "t1 = time.time()\n",
    "print(t1-t0)"
   ]
  },
  {
   "cell_type": "code",
   "execution_count": 39,
   "id": "3285beb6",
   "metadata": {},
   "outputs": [
    {
     "name": "stdout",
     "output_type": "stream",
     "text": [
      "making the obj array took 9.505001068115234\n",
      "0.9139652252197266\n"
     ]
    }
   ],
   "source": [
    "# ok, looks like you can actually have a numpy array of objects directly. That \n",
    "# any better than a df?\n",
    "# it is a little actually\n",
    "t0 = time.time()\n",
    "obj_arr = np.array(things)\n",
    "t1 = time.time()\n",
    "print('making the obj array took', t1-t0)\n",
    "\n",
    "t0 = time.time()\n",
    "mask = np.in1d(a2, a1, assume_unique=True)\n",
    "wat = obj_arr[mask]\n",
    "t1 = time.time()\n",
    "print('', t1-t0)\n",
    "\n",
    "# so, 10M per second\n",
    "# that's around 0.1ms per item\n",
    "# 0.5ms to find the mask, then the other 0.5ms to get the items"
   ]
  },
  {
   "cell_type": "code",
   "execution_count": 32,
   "id": "ea644deb",
   "metadata": {},
   "outputs": [
    {
     "name": "stdout",
     "output_type": "stream",
     "text": [
      "1.8870890140533447\n"
     ]
    }
   ],
   "source": [
    "# desperation time\n",
    "# what if we did like... a list comprehension\n",
    "# nah it worse\n",
    "t0 = time.time()\n",
    "mask = np.in1d(a2, a1, assume_unique=True)\n",
    "ok = [things[i] for i in range(len(things)) if mask[i]]\n",
    "t1 = time.time()\n",
    "print(t1-t0)\n"
   ]
  },
  {
   "cell_type": "code",
   "execution_count": 27,
   "id": "45565a13",
   "metadata": {},
   "outputs": [
    {
     "data": {
      "text/plain": [
       "<__main__.Thing at 0x7fbe42dfa400>"
      ]
     },
     "execution_count": 27,
     "metadata": {},
     "output_type": "execute_result"
    }
   ],
   "source": [
    "obj_arr[0]"
   ]
  },
  {
   "cell_type": "code",
   "execution_count": 29,
   "id": "1aebfa32",
   "metadata": {},
   "outputs": [
    {
     "name": "stdout",
     "output_type": "stream",
     "text": [
      "140455142466560\n",
      "140455142466560\n"
     ]
    }
   ],
   "source": [
    "print(int('7fbe42dfa400', 16))\n",
    "print(id(things[0]))"
   ]
  },
  {
   "cell_type": "code",
   "execution_count": 17,
   "id": "0e930f2f",
   "metadata": {},
   "outputs": [
    {
     "data": {
      "text/plain": [
       "2.140007254261879"
      ]
     },
     "execution_count": 17,
     "metadata": {},
     "output_type": "execute_result"
    }
   ],
   "source": [
    "# it's not a huge speedup... about the same as using a list. Damn.\n",
    "2.36 / 1.1028"
   ]
  },
  {
   "cell_type": "code",
   "execution_count": null,
   "id": "5bfbf256",
   "metadata": {},
   "outputs": [],
   "source": []
  }
 ],
 "metadata": {
  "kernelspec": {
   "display_name": "Python 3 (ipykernel)",
   "language": "python",
   "name": "python3"
  },
  "language_info": {
   "codemirror_mode": {
    "name": "ipython",
    "version": 3
   },
   "file_extension": ".py",
   "mimetype": "text/x-python",
   "name": "python",
   "nbconvert_exporter": "python",
   "pygments_lexer": "ipython3",
   "version": "3.9.7"
  }
 },
 "nbformat": 4,
 "nbformat_minor": 5
}
