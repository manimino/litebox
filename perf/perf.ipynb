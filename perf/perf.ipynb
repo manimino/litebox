{
 "cells": [
  {
   "cell_type": "code",
   "execution_count": 52,
   "id": "7f847878",
   "metadata": {},
   "outputs": [],
   "source": [
    "import random\n",
    "import time\n",
    "from dataclasses import dataclass\n",
    "from rangeindex import RangeIndex\n",
    "from matplotlib import pyplot as plt\n",
    "%matplotlib inline\n",
    "\n",
    "az = 'qwertyuiopasdfghjklzxcvbnm'\n",
    "ten = list(range(10))\n",
    "\n",
    "\n",
    "@dataclass\n",
    "class Thing:\n",
    "    x: int\n",
    "    y: float\n",
    "    desc: str\n",
    "\n",
    "\n",
    "def make_thing():\n",
    "    s = []\n",
    "    for i in range(5):\n",
    "        s.append(random.choice(az))\n",
    "    return Thing(x=random.choice(ten), y=random.random(), desc=''.join(s))\n",
    "\n",
    "\n",
    "def compare_speeds(n=10**3, portion_to_find=0.1):\n",
    "    # amount_to_find\n",
    "    things = [make_thing() for _ in range(n)]\n",
    "    ri = RangeIndex({'x': int, 'y': float})\n",
    "    t0 = time.time()\n",
    "    ri.add_many(things)\n",
    "    t1 = time.time()\n",
    "    found_float = ri.find([('y', '<', portion_to_find), ('x', '<=', 10)])\n",
    "    t2 = time.time()\n",
    "    #found_str = ri.find([('desc', '<', 'zzzzz')])\n",
    "    t3 = time.time()\n",
    "    #linear_find = tuple(t for t in things if t.y < portion_to_find and t.x <= 10)\n",
    "    linear_find = tuple(filter(lambda t: t.y < portion_to_find and t.x <= 10, things))\n",
    "    t4 = time.time()\n",
    "    \n",
    "    results = {\n",
    "        'filter': t4-t3,\n",
    "        'ri_find': t2-t1\n",
    "    }\n",
    "\n",
    "    \"\"\"\n",
    "    print('t_add {} elements:'.format(len(things)), t1-t0)\n",
    "    print('t_find {} elements:'.format(len(found_float)), t2-t1)\n",
    "    #print('t_find {} elements:'.format(len(found_str)), t3-t2)\n",
    "    print('linear find {} elements:'.format(len(linear_find)), t4-t3)\n",
    "\n",
    "    print((t4-t3)/(t2-t1))\n",
    "    \"\"\"\n",
    "    return results"
   ]
  },
  {
   "cell_type": "code",
   "execution_count": 46,
   "id": "b86d80a4",
   "metadata": {},
   "outputs": [
    {
     "name": "stdout",
     "output_type": "stream",
     "text": [
      "0.09688425064086914 0.02398061752319336\n",
      "0.9980337619781494 0.5340995788574219\n",
      "10.601683139801025 4.041484832763672\n"
     ]
    }
   ],
   "source": [
    "def insert_time(n=10**6):\n",
    "    things = [make_thing() for _ in range(n)]\n",
    "    ri = RangeIndex({'x': int, 'y': float})\n",
    "    rj = RangeIndex({'x': int, 'y': float})\n",
    "    t0 = time.time()\n",
    "    for t in things:\n",
    "        ri.add(t)\n",
    "    t1 = time.time()\n",
    "    ri.add_many(things)\n",
    "    t2 = time.time()\n",
    "    \n",
    "    t_each = t1-t0\n",
    "    t_many = t2-t1\n",
    "    print(t_each, t_many)\n",
    "    \n",
    "for e in range(4,7):\n",
    "    insert_time(n=10**e)"
   ]
  },
  {
   "cell_type": "code",
   "execution_count": 51,
   "id": "2fbbce60",
   "metadata": {},
   "outputs": [
    {
     "data": {
      "text/plain": [
       "4.0414848327636716e-06"
      ]
     },
     "execution_count": 51,
     "metadata": {},
     "output_type": "execute_result"
    }
   ],
   "source": [
    "4.041484832763672/10**6"
   ]
  },
  {
   "cell_type": "code",
   "execution_count": 53,
   "id": "85e59fee",
   "metadata": {},
   "outputs": [],
   "source": [
    "find_times = {}\n",
    "filter_times = {}\n",
    "n_runs = 5\n",
    "for reps in range(n_runs):\n",
    "    for n_exp in range(6,7):\n",
    "        for p_exp in range(-6, 1):\n",
    "            n = 10**n_exp\n",
    "            p = 10**p_exp\n",
    "            res = compare_speeds(n=n, portion_to_find=p)\n",
    "            n_objs = int(p*n)\n",
    "            find_times[n_objs] = find_times.get(n_objs, 0) + res['ri_find'] / n_runs\n",
    "            filter_times[n_objs] = filter_times.get(n_objs, 0) + res['filter'] / n_runs"
   ]
  },
  {
   "cell_type": "code",
   "execution_count": 54,
   "id": "870b7db9",
   "metadata": {},
   "outputs": [
    {
     "name": "stdout",
     "output_type": "stream",
     "text": [
      "1 0.106ms 0.08s 752.424\n",
      "10 0.106ms 0.08s 709.286\n",
      "100 0.268ms 0.08s 282.092\n",
      "1000 0.0s 0.07s 42.132\n",
      "10000 0.02s 0.07s 4.926\n",
      "100000 0.15s 0.08s 0.522\n",
      "1000000 1.43s 0.12s 0.083\n"
     ]
    }
   ],
   "source": [
    "def to_str(t: float):\n",
    "    if t < 10**-6:\n",
    "        return \"{}μs\".format(round(t*10**6,3))\n",
    "    elif t < 10**-3:\n",
    "        return \"{}ms\".format(round(t*10**3, 3))\n",
    "    else:\n",
    "        return \"{}s\".format(round(t, 2))\n",
    "\n",
    "for key in sorted(find_times.keys()):\n",
    "    ft = find_times[key]\n",
    "    print(key, to_str(find_times[key]), to_str(filter_times[key]), round(filter_times[key]/find_times[key],3))"
   ]
  },
  {
   "cell_type": "code",
   "execution_count": null,
   "id": "7e523b8a",
   "metadata": {},
   "outputs": [],
   "source": []
  }
 ],
 "metadata": {
  "kernelspec": {
   "display_name": "Python 3 (ipykernel)",
   "language": "python",
   "name": "python3"
  },
  "language_info": {
   "codemirror_mode": {
    "name": "ipython",
    "version": 3
   },
   "file_extension": ".py",
   "mimetype": "text/x-python",
   "name": "python",
   "nbconvert_exporter": "python",
   "pygments_lexer": "ipython3",
   "version": "3.9.7"
  }
 },
 "nbformat": 4,
 "nbformat_minor": 5
}
