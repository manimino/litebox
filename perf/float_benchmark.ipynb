{
 "cells": [
  {
   "cell_type": "code",
   "execution_count": 1,
   "id": "77951dbd",
   "metadata": {
    "scrolled": true
   },
   "outputs": [],
   "source": [
    "import random\n",
    "import time\n",
    "from rangeindex import RangeIndex\n",
    "import matplotlib\n",
    "from matplotlib import pyplot as plt\n",
    "%matplotlib inline"
   ]
  },
  {
   "cell_type": "code",
   "execution_count": 2,
   "id": "c11db8c7",
   "metadata": {
    "scrolled": true
   },
   "outputs": [],
   "source": [
    "alpha = 'qwertyuiopasdfghjklzxcvbnm'\n",
    "nums = list(range(10**4))\n",
    "w_length = 5\n",
    "\n",
    "class Thing():\n",
    "    def __init__(self):\n",
    "        self.f0 = random.random()\n",
    "        self.f1 = random.random()\n",
    "\"\"\"\n",
    "self.f2 = random.random()\n",
    "self.f3 = random.random()\n",
    "self.f4 = random.random()\n",
    "self.f5 = random.random()\n",
    "self.f6 = random.random()\n",
    "self.f7 = random.random()\n",
    "self.f8 = random.random()\n",
    "self.f9 = random.random()\n",
    "self.c0 = random.choice(alpha)\n",
    "self.c1 = random.choice(alpha)\n",
    "self.c2 = random.choice(alpha)\n",
    "self.c3 = random.choice(alpha)\n",
    "self.c4 = random.choice(alpha)\n",
    "self.c5 = random.choice(alpha)\n",
    "self.c6 = random.choice(alpha)\n",
    "self.c7 = random.choice(alpha)\n",
    "self.c8 = random.choice(alpha)\n",
    "self.c9 = random.choice(alpha)\n",
    "self.w0 = ''.join(random.choice(alpha) for _ in range(w_length))\n",
    "self.w1 = ''.join(random.choice(alpha) for _ in range(w_length))\n",
    "self.w2 = ''.join(random.choice(alpha) for _ in range(w_length))\n",
    "self.w3 = ''.join(random.choice(alpha) for _ in range(w_length))\n",
    "self.w4 = ''.join(random.choice(alpha) for _ in range(w_length))\n",
    "self.w5 = ''.join(random.choice(alpha) for _ in range(w_length))\n",
    "self.w6 = ''.join(random.choice(alpha) for _ in range(w_length))\n",
    "self.w7 = ''.join(random.choice(alpha) for _ in range(w_length))\n",
    "self.w8 = ''.join(random.choice(alpha) for _ in range(w_length))\n",
    "self.w9 = ''.join(random.choice(alpha) for _ in range(w_length))\n",
    "self.i0 = random.choice(nums)\n",
    "self.i1 = random.choice(nums)\n",
    "self.i2 = random.choice(nums)\n",
    "self.i3 = random.choice(nums)\n",
    "self.i4 = random.choice(nums)\n",
    "self.i5 = random.choice(nums)\n",
    "self.i6 = random.choice(nums)\n",
    "self.i7 = random.choice(nums)\n",
    "self.i8 = random.choice(nums)\n",
    "self.i9 = random.choice(nums)\n",
    "\"\"\"\n",
    "things = [Thing() for _ in range(10**6)]"
   ]
  },
  {
   "cell_type": "markdown",
   "id": "411f160b",
   "metadata": {},
   "source": [
    "Let's benchmark on some floats!"
   ]
  },
  {
   "cell_type": "code",
   "execution_count": 3,
   "id": "8d8af2c1",
   "metadata": {},
   "outputs": [],
   "source": [
    "engines = ['pandas', 'sqlite']"
   ]
  },
  {
   "cell_type": "code",
   "execution_count": 4,
   "id": "a1a45aeb",
   "metadata": {
    "scrolled": true
   },
   "outputs": [],
   "source": [
    "def generate_float_range(n_results=1, n_idx=1, dataset_size=10**6) -> tuple[float, float]:\n",
    "    \"\"\"\n",
    "    Generate a range of float values that, when queried, will return approx n_results items.\n",
    "    Example: if n_idx is 1, and we want 1/10 of the items in the dataset, we could return (0.5, 0.6)\n",
    "    as that will be 1/10 of the items.\n",
    "    But if n_idx is 2, we want a range of 0.1**(1/2) items, to account for the fact that we have \n",
    "    two independent value ranges.\n",
    "    \"\"\"\n",
    "    width = (n_results / dataset_size)**(1/n_idx)\n",
    "    lim_1 = random.random()*(1-width)\n",
    "    lim_2 = lim_1 + width\n",
    "    return lim_1, lim_2\n"
   ]
  },
  {
   "cell_type": "code",
   "execution_count": 5,
   "id": "4db490db",
   "metadata": {
    "scrolled": true
   },
   "outputs": [],
   "source": [
    "def bench_floats(n_idx=1, n_runs=5):\n",
    "    results = {}\n",
    "    n_runs = 10\n",
    "    fields = {f'f{i}': float for i in range(n_idx)}\n",
    "    ris = []\n",
    "    for engine in engines:\n",
    "        if engine == 'sqlite':\n",
    "            ri = RangeIndex(fields, things, engine, indices=[('f0', 'f1')])\n",
    "        else:\n",
    "            ri = RangeIndex(fields, things, engine)\n",
    "        ris.append(ri)\n",
    "    ris.append('linear')\n",
    "    for ri in ris:\n",
    "        for n_items in [10**e for e in range(0, 7)]:\n",
    "            # Run 2 bechmarks, take the second. Queries are randomized so this isn't a cache cheat.\n",
    "            # Rather, this gives a \"warm-up\" round so that the data more accurately reflects\n",
    "            # the performance you'd get at steady-state.\n",
    "            # Without this, you get really weird distorted data.\n",
    "            for _ in range(2):  \n",
    "                t_tot = 0\n",
    "                n_tot = 0\n",
    "                for run in range(n_runs):\n",
    "                    lo, hi = generate_float_range(n_items, n_idx)\n",
    "                    if ri == 'linear':\n",
    "                        q = ' and '.join([\n",
    "                            f't.f{i} > {lo} and t.f{i} <= {hi}'\n",
    "                            for i in range(n_idx)\n",
    "                        ])\n",
    "                        t0 = time.time()\n",
    "                        items_got = eval(f'[t for t in things if {q}]')\n",
    "                        t1 = time.time()\n",
    "                    else:\n",
    "                        q = ' and '.join([\n",
    "                            f'f{i} > {lo} and f{i} <= {hi}'\n",
    "                            for i in range(n_idx)\n",
    "                        ])\n",
    "                        t0 = time.time()\n",
    "                        items_got = ri.find(q)\n",
    "                        t1 = time.time()\n",
    "                    t_tot += (t1-t0) / n_runs\n",
    "                    n_tot += len(items_got) / n_runs\n",
    "                if ri == 'linear':\n",
    "                    cond = 'linear'\n",
    "                else:\n",
    "                    cond = ri.engine\n",
    "                results[(cond, n_items)] = {'got': n_tot, 'time': t_tot}\n",
    "\n",
    "    return results"
   ]
  },
  {
   "cell_type": "code",
   "execution_count": 6,
   "id": "c900355f",
   "metadata": {
    "scrolled": true
   },
   "outputs": [
    {
     "name": "stdout",
     "output_type": "stream",
     "text": [
      "2 fields indexed\n",
      "pandas, 1: 0.004614710807800293\t\t(12.436)\n",
      "pandas, 10: 0.004745912551879883\t\t(12.282)\n",
      "pandas, 100: 0.004777193069458008\t\t(12.192)\n",
      "pandas, 1000: 0.004915928840637207\t\t(11.519)\n",
      "pandas, 10000: 0.006965613365173339\t\t(9.016)\n",
      "pandas, 100000: 0.020560669898986816\t\t(3.971)\n",
      "pandas, 1000000: 0.051887392997741706\t\t(2.941)\n",
      "sqlite, 1: 0.0001325845718383789\t\t(432.835)\n",
      "sqlite, 10: 0.0003547191619873047\t\t(164.325)\n",
      "sqlite, 100: 0.0009864330291748048\t\t(59.045)\n",
      "sqlite, 1000: 0.0038203477859497068\t\t(14.823)\n",
      "sqlite, 10000: 0.02279205322265625\t\t(2.755)\n",
      "sqlite, 100000: 0.16119072437286375\t\t(0.507)\n",
      "sqlite, 1000000: 0.6258428573608398\t\t(0.244)\n"
     ]
    },
    {
     "data": {
      "text/plain": [
       "<Figure size 1440x720 with 0 Axes>"
      ]
     },
     "metadata": {},
     "output_type": "display_data"
    }
   ],
   "source": [
    "# raw numbers, much better for tweaking\n",
    "\n",
    "for n_idx in [2]:\n",
    "    results = bench_floats(n_idx=n_idx)\n",
    "    plt.figure(figsize=(20,10))\n",
    "    if n_idx == 1:\n",
    "        title = '1 field indexed'\n",
    "    else:\n",
    "        title = f'{n_idx} fields indexed'\n",
    "    print(title)\n",
    "\n",
    "    for i, engine in enumerate(engines):\n",
    "        for n_items in [10**e for e in range(0, 7)]:\n",
    "            baseline = results[('linear', n_items)]['time']\n",
    "            result = results[(engine, n_items)]['time']\n",
    "            speedup = round(baseline/result, 3)\n",
    "            print(f'{engine}, {n_items}: {result}\\t\\t({speedup})')\n"
   ]
  },
  {
   "cell_type": "code",
   "execution_count": null,
   "id": "f60bc1e3",
   "metadata": {},
   "outputs": [],
   "source": []
  },
  {
   "cell_type": "code",
   "execution_count": null,
   "id": "3ff5129a",
   "metadata": {},
   "outputs": [],
   "source": []
  },
  {
   "cell_type": "code",
   "execution_count": null,
   "id": "d1442a4f",
   "metadata": {},
   "outputs": [],
   "source": []
  },
  {
   "cell_type": "code",
   "execution_count": null,
   "id": "8c297167",
   "metadata": {},
   "outputs": [],
   "source": []
  },
  {
   "cell_type": "code",
   "execution_count": null,
   "id": "1f05d94f",
   "metadata": {},
   "outputs": [],
   "source": []
  },
  {
   "cell_type": "code",
   "execution_count": 7,
   "id": "b8607833",
   "metadata": {},
   "outputs": [
    {
     "name": "stdout",
     "output_type": "stream",
     "text": [
      "2 fields indexed\n"
     ]
    },
    {
     "data": {
      "image/png": "[encoded data removed]",
      "text/plain": [
       "<Figure size 1440x720 with 1 Axes>"
      ]
     },
     "metadata": {
      "needs_background": "light"
     },
     "output_type": "display_data"
    }
   ],
   "source": [
    "matplotlib.rc('font', size=20)\n",
    "\n",
    "# for n_idx in [1, 2, 5, 10]:\n",
    "for n_idx in [2]:\n",
    "    results = bench_floats(n_idx=n_idx)\n",
    "    plt.figure(figsize=(20,10))\n",
    "    if n_idx == 1:\n",
    "        title = '1 field indexed'\n",
    "    else:\n",
    "        title = f'{n_idx} fields indexed'\n",
    "    print(title)\n",
    "    # plt.title(f'{title}', fontsize=30)\n",
    "\n",
    "    for i, engine in enumerate(engines):\n",
    "        x = []\n",
    "        y = []\n",
    "        for n_items in [10**e for e in range(0, 7)]:\n",
    "            baseline = results[('linear', n_items)]['time']\n",
    "            result = results[(engine, n_items)]['time']\n",
    "            speedup = round(baseline/result, 3)\n",
    "            #print(f'{engine}, {n_items}: {speedup}x')\n",
    "            x.append(n_items)\n",
    "            y.append(speedup)\n",
    "        plt.loglog(x, y, label=engine)\n",
    "        plt.xlabel('number of items returned')\n",
    "        plt.ylabel('relative speedup')\n",
    "    plt.loglog([1, 10**6], [1, 1], '--', label='linear')\n",
    "    plt.xlabel('number of items returned', fontsize=30)\n",
    "    plt.ylabel('relative speedup', fontsize=30)\n",
    "    plt.legend()\n",
    "    plt.show()"
   ]
  },
  {
   "cell_type": "code",
   "execution_count": 8,
   "id": "5b219782",
   "metadata": {
    "scrolled": true
   },
   "outputs": [
    {
     "name": "stdout",
     "output_type": "stream",
     "text": [
      "dict lookup of 100K items: 0.011332273483276367\n",
      "dict lookup of 1M items: 0.12438344955444336\n"
     ]
    }
   ],
   "source": [
    "# quick check, how much of that is dict lookup?\n",
    "obj_ids = [id(t) for t in things]\n",
    "obj_dict = {id(t): t for t in things}\n",
    "\n",
    "t0 = time.time()\n",
    "zz = [obj_dict[obj_id] for obj_id in obj_ids[:len(obj_ids)//10]]\n",
    "t1 = time.time()\n",
    "print('dict lookup of 100K items:', t1-t0)\n",
    "\n",
    "t0 = time.time()\n",
    "zz = [obj_dict[obj_id] for obj_id in obj_ids]\n",
    "t1 = time.time()\n",
    "print('dict lookup of 1M items:', t1-t0)"
   ]
  },
  {
   "cell_type": "code",
   "execution_count": 9,
   "id": "34349611",
   "metadata": {},
   "outputs": [
    {
     "data": {
      "text/plain": [
       "1.3171912832929782"
      ]
     },
     "execution_count": 9,
     "metadata": {},
     "output_type": "execute_result"
    }
   ],
   "source": [
    "(0.408)/(0.408-0.1179*5/6)"
   ]
  },
  {
   "cell_type": "code",
   "execution_count": null,
   "id": "633d09bd",
   "metadata": {},
   "outputs": [],
   "source": []
  }
 ],
 "metadata": {
  "kernelspec": {
   "display_name": "Python 3 (ipykernel)",
   "language": "python",
   "name": "python3"
  },
  "language_info": {
   "codemirror_mode": {
    "name": "ipython",
    "version": 3
   },
   "file_extension": ".py",
   "mimetype": "text/x-python",
   "name": "python",
   "nbconvert_exporter": "python",
   "pygments_lexer": "ipython3",
   "version": "3.9.7"
  }
 },
 "nbformat": 4,
 "nbformat_minor": 5
}
