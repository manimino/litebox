{
 "cells": [
  {
   "cell_type": "code",
   "execution_count": 1,
   "id": "77951dbd",
   "metadata": {
    "scrolled": true
   },
   "outputs": [],
   "source": [
    "import random\n",
    "import time\n",
    "from rangeindex import RangeIndex\n",
    "import matplotlib\n",
    "from matplotlib import pyplot as plt\n",
    "%matplotlib inline"
   ]
  },
  {
   "cell_type": "code",
   "execution_count": 2,
   "id": "c11db8c7",
   "metadata": {
    "scrolled": true
   },
   "outputs": [],
   "source": [
    "alpha = 'qwertyuiopasdfghjklzxcvbnm'\n",
    "nums = list(range(10**4))\n",
    "w_length = 5\n",
    "\n",
    "class Thing():\n",
    "    def __init__(self):\n",
    "        self.f0 = random.random()\n",
    "        self.f1 = random.random()\n",
    "        self.f2 = random.random()\n",
    "        self.f3 = random.random()\n",
    "        self.f4 = random.random()\n",
    "        self.f5 = random.random()\n",
    "        self.f6 = random.random()\n",
    "        self.f7 = random.random()\n",
    "        self.f8 = random.random()\n",
    "        self.f9 = random.random()\n",
    "        self.data = '12894398ur8fehsiungjksgkjshgkdkh'\n",
    "\"\"\"\n",
    "self.c0 = random.choice(alpha)\n",
    "self.c1 = random.choice(alpha)\n",
    "self.c2 = random.choice(alpha)\n",
    "self.c3 = random.choice(alpha)\n",
    "self.c4 = random.choice(alpha)\n",
    "self.c5 = random.choice(alpha)\n",
    "self.c6 = random.choice(alpha)\n",
    "self.c7 = random.choice(alpha)\n",
    "self.c8 = random.choice(alpha)\n",
    "self.c9 = random.choice(alpha)\n",
    "self.w0 = ''.join(random.choice(alpha) for _ in range(w_length))\n",
    "self.w1 = ''.join(random.choice(alpha) for _ in range(w_length))\n",
    "self.w2 = ''.join(random.choice(alpha) for _ in range(w_length))\n",
    "self.w3 = ''.join(random.choice(alpha) for _ in range(w_length))\n",
    "self.w4 = ''.join(random.choice(alpha) for _ in range(w_length))\n",
    "self.w5 = ''.join(random.choice(alpha) for _ in range(w_length))\n",
    "self.w6 = ''.join(random.choice(alpha) for _ in range(w_length))\n",
    "self.w7 = ''.join(random.choice(alpha) for _ in range(w_length))\n",
    "self.w8 = ''.join(random.choice(alpha) for _ in range(w_length))\n",
    "self.w9 = ''.join(random.choice(alpha) for _ in range(w_length))\n",
    "self.i0 = random.choice(nums)\n",
    "self.i1 = random.choice(nums)\n",
    "self.i2 = random.choice(nums)\n",
    "self.i3 = random.choice(nums)\n",
    "self.i4 = random.choice(nums)\n",
    "self.i5 = random.choice(nums)\n",
    "self.i6 = random.choice(nums)\n",
    "self.i7 = random.choice(nums)\n",
    "self.i8 = random.choice(nums)\n",
    "self.i9 = random.choice(nums)\n",
    "\"\"\"\n",
    "EXP = 7\n",
    "things = [Thing() for _ in range(10**EXP)]"
   ]
  },
  {
   "cell_type": "markdown",
   "id": "411f160b",
   "metadata": {},
   "source": [
    "Let's benchmark on some floats!"
   ]
  },
  {
   "cell_type": "code",
   "execution_count": 3,
   "id": "8d8af2c1",
   "metadata": {},
   "outputs": [],
   "source": [
    "engines = ['pandas', 'sqlite']"
   ]
  },
  {
   "cell_type": "code",
   "execution_count": 4,
   "id": "a1a45aeb",
   "metadata": {
    "scrolled": true
   },
   "outputs": [],
   "source": [
    "def generate_float_range(n_results=1, n_idx=1, dataset_size=10**EXP) -> tuple[float, float]:\n",
    "    \"\"\"\n",
    "    Generate a range of float values that, when queried, will return approx n_results items.\n",
    "    Example: if n_idx is 1, and we want 1/10 of the items in the dataset, we could return (0.5, 0.6)\n",
    "    as that will be 1/10 of the items.\n",
    "    But if n_idx is 2, we want a range of 0.1**(1/2) items, to account for the fact that we have \n",
    "    two independent value ranges.\n",
    "    \"\"\"\n",
    "    width = (n_results / dataset_size)**(1/n_idx)\n",
    "    lim_1 = random.random()*(1-width)\n",
    "    lim_2 = lim_1 + width\n",
    "    return lim_1, lim_2\n"
   ]
  },
  {
   "cell_type": "code",
   "execution_count": 5,
   "id": "4db490db",
   "metadata": {
    "scrolled": true
   },
   "outputs": [],
   "source": [
    "def bench_floats(n_idx=1, n_runs=5):\n",
    "    results = {}\n",
    "    n_runs = 10\n",
    "    fields = {f'f{i}': float for i in range(n_idx)}\n",
    "    ris = []\n",
    "    for engine in engines:\n",
    "        if engine == 'sqlite':\n",
    "            ri = RangeIndex(things, fields,  engine, table_index=[('f0', 'f1')])\n",
    "        else:\n",
    "            ri = RangeIndex(things, fields,  engine)\n",
    "        ris.append(ri)\n",
    "    ris.append('linear')\n",
    "    for ri in ris:\n",
    "        for n_items in [10**e for e in range(0, EXP+1)]:\n",
    "            # Run 2 bechmarks, take the second. Queries are randomized so this isn't a cache cheat.\n",
    "            # Rather, this gives a \"warm-up\" round so that the data more accurately reflects\n",
    "            # the performance you'd get at steady-state.\n",
    "            # Without this, you get really weird distorted data.\n",
    "            for _ in range(2):  \n",
    "                t_tot = 0\n",
    "                n_tot = 0\n",
    "                for run in range(n_runs):\n",
    "                    lo, hi = generate_float_range(n_items, n_idx)\n",
    "                    if ri == 'linear':\n",
    "                        q = ' and '.join([\n",
    "                            f't.f{i} > {lo} and t.f{i} <= {hi}'\n",
    "                            for i in range(n_idx)\n",
    "                        ])\n",
    "                        t0 = time.time()\n",
    "                        items_got = eval(f'[t for t in things if {q}]')\n",
    "                        t1 = time.time()\n",
    "                    else:\n",
    "                        q = ' and '.join([\n",
    "                            f'f{i} > {lo} and f{i} <= {hi}'\n",
    "                            for i in range(n_idx)\n",
    "                        ])\n",
    "                        t0 = time.time()\n",
    "                        items_got = ri.find(q)\n",
    "                        t1 = time.time()\n",
    "                    t_tot += (t1-t0) / n_runs\n",
    "                    n_tot += len(items_got) / n_runs\n",
    "                if ri == 'linear':\n",
    "                    cond = 'linear'\n",
    "                else:\n",
    "                    cond = ri.engine\n",
    "                results[(cond, n_items)] = {'got': n_tot, 'time': t_tot}\n",
    "\n",
    "    return results"
   ]
  },
  {
   "cell_type": "code",
   "execution_count": 6,
   "id": "0e382394",
   "metadata": {},
   "outputs": [],
   "source": [
    "def time_str(t: float) -> str:\n",
    "    if t < 10 ** -4:\n",
    "        return \"{}μs\".format(round(t * 10 ** 6, 1))\n",
    "    elif t < 10 ** -1:\n",
    "        return \"{}ms\".format(round(t * 10 ** 3, 1))\n",
    "    else:\n",
    "        return \"{}s\".format(round(t, 2))\n",
    "\n",
    "def num_str(n: int) -> str:\n",
    "    if n >= 10 ** 9:\n",
    "        return \"{}B\".format(int(round(n / 10 ** 9)))\n",
    "    elif n >= 10 ** 6:\n",
    "        return \"{}M\".format(int(round(n / 10 ** 6)))\n",
    "    elif n >= 10 ** 3:\n",
    "        return \"{}K\".format(int(round(n / 10 ** 3)))\n",
    "    else:\n",
    "        return str(n)"
   ]
  },
  {
   "cell_type": "code",
   "execution_count": 7,
   "id": "c900355f",
   "metadata": {
    "scrolled": true
   },
   "outputs": [
    {
     "name": "stdout",
     "output_type": "stream",
     "text": [
      "2 fields indexed\n",
      "pandas, 1: 43.1ms\t\t(21.97)\n",
      "pandas, 10: 44.9ms\t\t(20.047)\n",
      "pandas, 100: 43.8ms\t\t(22.963)\n",
      "pandas, 1K: 43.9ms\t\t(23.729)\n",
      "pandas, 10K: 47.6ms\t\t(24.046)\n",
      "pandas, 100K: 88.3ms\t\t(13.718)\n",
      "pandas, 1M: 0.2s\t\t(10.242)\n",
      "pandas, 10M: 0.5s\t\t(6.391)\n",
      "sqlite, 1: 0.2ms\t\t(4124.44)\n",
      "sqlite, 10: 0.7ms\t\t(1382.198)\n",
      "sqlite, 100: 1.9ms\t\t(519.747)\n",
      "sqlite, 1K: 6.7ms\t\t(155.984)\n",
      "sqlite, 10K: 27.2ms\t\t(42.043)\n",
      "sqlite, 100K: 0.2s\t\t(7.868)\n",
      "sqlite, 1M: 1.4s\t\t(1.216)\n",
      "sqlite, 10M: 10.6s\t\t(0.275)\n",
      "linear, 1: 0.9s\t\t(1.0)\n",
      "linear, 10: 0.9s\t\t(1.0)\n",
      "linear, 100: 1.0s\t\t(1.0)\n",
      "linear, 1K: 1.0s\t\t(1.0)\n",
      "linear, 10K: 1.1s\t\t(1.0)\n",
      "linear, 100K: 1.2s\t\t(1.0)\n",
      "linear, 1M: 1.7s\t\t(1.0)\n",
      "linear, 10M: 2.9s\t\t(1.0)\n"
     ]
    },
    {
     "data": {
      "text/plain": [
       "<Figure size 1440x720 with 0 Axes>"
      ]
     },
     "metadata": {},
     "output_type": "display_data"
    }
   ],
   "source": [
    "# raw numbers, much better for tweaking\n",
    "\n",
    "for n_idx in [2]:\n",
    "    results = bench_floats(n_idx=n_idx)\n",
    "    plt.figure(figsize=(20,10))\n",
    "    if n_idx == 1:\n",
    "        title = '1 field indexed'\n",
    "    else:\n",
    "        title = f'{n_idx} fields indexed'\n",
    "    print(title)\n",
    "\n",
    "    for i, engine in enumerate(engines + ['linear']):\n",
    "        for n_items in [10**e for e in range(0, EXP+1)]:\n",
    "            baseline = results[('linear', n_items)]['time']\n",
    "            result = results[(engine, n_items)]['time']\n",
    "            speedup = round(baseline/result, 3)\n",
    "            print(f'{engine}, {num_str(n_items)}: {time_str(result)}\\t\\t({speedup})')\n"
   ]
  },
  {
   "cell_type": "code",
   "execution_count": 8,
   "id": "b8607833",
   "metadata": {},
   "outputs": [
    {
     "name": "stdout",
     "output_type": "stream",
     "text": [
      "2 fields indexed\n"
     ]
    },
    {
     "data": {
      "image/png": "[encoded data removed]",
      "text/plain": [
       "<Figure size 1440x720 with 1 Axes>"
      ]
     },
     "metadata": {
      "needs_background": "light"
     },
     "output_type": "display_data"
    }
   ],
   "source": [
    "matplotlib.rc('font', size=20)\n",
    "\n",
    "# for n_idx in [1, 2, 5, 10]:\n",
    "for n_idx in [2]:\n",
    "    results = bench_floats(n_idx=n_idx)\n",
    "    plt.figure(figsize=(20,10))\n",
    "    if n_idx == 1:\n",
    "        title = '1 field indexed'\n",
    "    else:\n",
    "        title = f'{n_idx} fields indexed'\n",
    "    print(title)\n",
    "    # plt.title(f'{title}', fontsize=30)\n",
    "\n",
    "    for i, engine in enumerate(engines):\n",
    "        x = []\n",
    "        y = []\n",
    "        for n_items in [10**e for e in range(0, EXP+1)]:\n",
    "            baseline = results[('linear', n_items)]['time']\n",
    "            result = results[(engine, n_items)]['time']\n",
    "            speedup = round(baseline/result, 3)\n",
    "            #print(f'{engine}, {n_items}: {speedup}x')\n",
    "            x.append(n_items)\n",
    "            y.append(speedup)\n",
    "        plt.loglog(x, y, label=engine)\n",
    "        plt.xlabel('number of items returned')\n",
    "        plt.ylabel('relative speedup')\n",
    "    plt.loglog([1, 10**EXP], [1, 1], '--', label='baseline')\n",
    "    plt.xlabel('number of items returned', fontsize=30)\n",
    "    plt.ylabel('relative speedup', fontsize=30)\n",
    "    plt.legend()\n",
    "    plt.show()"
   ]
  },
  {
   "cell_type": "code",
   "execution_count": 9,
   "id": "5b219782",
   "metadata": {
    "scrolled": true
   },
   "outputs": [
    {
     "name": "stdout",
     "output_type": "stream",
     "text": [
      "dict lookup of 100K items: 0.012914419174194336\n",
      "dict lookup of 1M items: 0.15543532371520996\n",
      "dict lookup of 10M items: 1.9858479499816895\n"
     ]
    }
   ],
   "source": [
    "# quick check, how much of that is dict lookup?\n",
    "obj_ids = [id(t) for t in things]\n",
    "obj_dict = {id(t): t for t in things}\n",
    "\n",
    "t0 = time.time()\n",
    "zz = [obj_dict[obj_id] for obj_id in obj_ids[:len(obj_ids)//100]]\n",
    "t1 = time.time()\n",
    "print('dict lookup of 100K items:', t1-t0)\n",
    "\n",
    "t0 = time.time()\n",
    "zz = [obj_dict[obj_id] for obj_id in obj_ids[:len(obj_ids)//10]]\n",
    "t1 = time.time()\n",
    "print('dict lookup of 1M items:', t1-t0)\n",
    "\n",
    "t0 = time.time()\n",
    "zz = [obj_dict[obj_id] for obj_id in obj_ids]\n",
    "t1 = time.time()\n",
    "print('dict lookup of 10M items:', t1-t0)"
   ]
  },
  {
   "cell_type": "code",
   "execution_count": 10,
   "id": "34349611",
   "metadata": {},
   "outputs": [
    {
     "data": {
      "text/plain": [
       "1.3171912832929782"
      ]
     },
     "execution_count": 10,
     "metadata": {},
     "output_type": "execute_result"
    }
   ],
   "source": [
    "(0.408)/(0.408-0.1179*5/6)"
   ]
  },
  {
   "cell_type": "code",
   "execution_count": null,
   "id": "633d09bd",
   "metadata": {},
   "outputs": [],
   "source": []
  }
 ],
 "metadata": {
  "kernelspec": {
   "display_name": "Python 3 (ipykernel)",
   "language": "python",
   "name": "python3"
  },
  "language_info": {
   "codemirror_mode": {
    "name": "ipython",
    "version": 3
   },
   "file_extension": ".py",
   "mimetype": "text/x-python",
   "name": "python",
   "nbconvert_exporter": "python",
   "pygments_lexer": "ipython3",
   "version": "3.9.7"
  }
 },
 "nbformat": 4,
 "nbformat_minor": 5
}
