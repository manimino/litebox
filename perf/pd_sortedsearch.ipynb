{
 "cells": [
  {
   "cell_type": "markdown",
   "id": "efb3d265",
   "metadata": {},
   "source": [
    "seeing a weird result where doing a sortedsearch is slower than a full scan on 1M items\n",
    "\n",
    "replicate and debug"
   ]
  },
  {
   "cell_type": "code",
   "execution_count": 14,
   "id": "79469748",
   "metadata": {},
   "outputs": [],
   "source": [
    "import random\n",
    "import time\n",
    "import pandas as pd\n"
   ]
  },
  {
   "cell_type": "code",
   "execution_count": 15,
   "id": "e87c7121",
   "metadata": {},
   "outputs": [
    {
     "data": {
      "text/html": [
       "<div>\n",
       "<style scoped>\n",
       "    .dataframe tbody tr th:only-of-type {\n",
       "        vertical-align: middle;\n",
       "    }\n",
       "\n",
       "    .dataframe tbody tr th {\n",
       "        vertical-align: top;\n",
       "    }\n",
       "\n",
       "    .dataframe thead th {\n",
       "        text-align: right;\n",
       "    }\n",
       "</style>\n",
       "<table border=\"1\" class=\"dataframe\">\n",
       "  <thead>\n",
       "    <tr style=\"text-align: right;\">\n",
       "      <th></th>\n",
       "      <th>ids</th>\n",
       "      <th>x</th>\n",
       "    </tr>\n",
       "  </thead>\n",
       "  <tbody>\n",
       "    <tr>\n",
       "      <th>10224</th>\n",
       "      <td>21497</td>\n",
       "      <td>0.246577</td>\n",
       "    </tr>\n",
       "    <tr>\n",
       "      <th>13066</th>\n",
       "      <td>27557</td>\n",
       "      <td>0.023987</td>\n",
       "    </tr>\n",
       "    <tr>\n",
       "      <th>14169</th>\n",
       "      <td>29835</td>\n",
       "      <td>0.172047</td>\n",
       "    </tr>\n",
       "    <tr>\n",
       "      <th>16056</th>\n",
       "      <td>33902</td>\n",
       "      <td>0.222844</td>\n",
       "    </tr>\n",
       "    <tr>\n",
       "      <th>103985</th>\n",
       "      <td>43325</td>\n",
       "      <td>0.256925</td>\n",
       "    </tr>\n",
       "    <tr>\n",
       "      <th>28201</th>\n",
       "      <td>59260</td>\n",
       "      <td>0.237232</td>\n",
       "    </tr>\n",
       "    <tr>\n",
       "      <th>34970</th>\n",
       "      <td>73590</td>\n",
       "      <td>0.154951</td>\n",
       "    </tr>\n",
       "    <tr>\n",
       "      <th>45616</th>\n",
       "      <td>95913</td>\n",
       "      <td>0.607471</td>\n",
       "    </tr>\n",
       "  </tbody>\n",
       "</table>\n",
       "</div>"
      ],
      "text/plain": [
       "          ids         x\n",
       "10224   21497  0.246577\n",
       "13066   27557  0.023987\n",
       "14169   29835  0.172047\n",
       "16056   33902  0.222844\n",
       "103985  43325  0.256925\n",
       "28201   59260  0.237232\n",
       "34970   73590  0.154951\n",
       "45616   95913  0.607471"
      ]
     },
     "execution_count": 15,
     "metadata": {},
     "output_type": "execute_result"
    }
   ],
   "source": [
    "ids = list(set(random.choice(range(9999999999)) for _ in range(10**6)))\n",
    "xs = [random.random() for _ in range(len(ids))]\n",
    "\n",
    "df = pd.DataFrame({'ids': ids, 'x': xs})\n",
    "df.sort_values('ids', inplace=True)\n",
    "df.head(n=8)"
   ]
  },
  {
   "cell_type": "code",
   "execution_count": 35,
   "id": "71f468c2",
   "metadata": {},
   "outputs": [
    {
     "name": "stdout",
     "output_type": "stream",
     "text": [
      "0.12146663665771484\n",
      "5436896889.0\n",
      "5436896889\n"
     ]
    }
   ],
   "source": [
    "t0 = time.time()\n",
    "for _ in range(1000):\n",
    "    rand_id = random.choice(ids)\n",
    "    r = df.iloc[df['ids'].searchsorted(rand_id)]\n",
    "t1 = time.time()\n",
    "print(t1-t0)\n",
    "print(r['ids'])\n",
    "print(rand_id)"
   ]
  },
  {
   "cell_type": "code",
   "execution_count": 36,
   "id": "c263129d",
   "metadata": {},
   "outputs": [
    {
     "name": "stdout",
     "output_type": "stream",
     "text": [
      "0.9073905944824219\n",
      "[4044968394]\n",
      "4044968394\n"
     ]
    }
   ],
   "source": [
    "t0 = time.time()\n",
    "for _ in range(1000):\n",
    "    rand_id = random.choice(ids)\n",
    "    r = df[df['ids'] == rand_id] \n",
    "t1 = time.time()\n",
    "print(t1-t0)\n",
    "print(r['ids'].values)\n",
    "print(rand_id)"
   ]
  },
  {
   "cell_type": "code",
   "execution_count": 39,
   "id": "a4c0c216",
   "metadata": {},
   "outputs": [
    {
     "data": {
      "text/plain": [
       "0"
      ]
     },
     "execution_count": 39,
     "metadata": {},
     "output_type": "execute_result"
    }
   ],
   "source": [
    "df = pd.DataFrame({'ids': [], 'x': []})\n",
    "df['ids'].searchsorted(rand_id)"
   ]
  },
  {
   "cell_type": "code",
   "execution_count": 40,
   "id": "58d60ea0",
   "metadata": {},
   "outputs": [
    {
     "data": {
      "text/plain": [
       "0"
      ]
     },
     "execution_count": 40,
     "metadata": {},
     "output_type": "execute_result"
    }
   ],
   "source": [
    "len(df['ids'])"
   ]
  },
  {
   "cell_type": "code",
   "execution_count": null,
   "id": "3766a549",
   "metadata": {},
   "outputs": [],
   "source": []
  }
 ],
 "metadata": {
  "kernelspec": {
   "display_name": "Python 3 (ipykernel)",
   "language": "python",
   "name": "python3"
  },
  "language_info": {
   "codemirror_mode": {
    "name": "ipython",
    "version": 3
   },
   "file_extension": ".py",
   "mimetype": "text/x-python",
   "name": "python",
   "nbconvert_exporter": "python",
   "pygments_lexer": "ipython3",
   "version": "3.9.7"
  }
 },
 "nbformat": 4,
 "nbformat_minor": 5
}
