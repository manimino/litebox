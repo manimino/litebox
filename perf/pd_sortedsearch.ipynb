{
 "cells": [
  {
   "cell_type": "markdown",
   "id": "c1ce7f62",
   "metadata": {},
   "source": [
    "seeing a weird result where doing a sortedsearch is slower than a full scan on 1M items\n",
    "\n",
    "replicate and debug"
   ]
  },
  {
   "cell_type": "code",
   "execution_count": 1,
   "id": "4adf3581",
   "metadata": {},
   "outputs": [],
   "source": [
    "import random\n",
    "import time\n",
    "import pandas as pd\n"
   ]
  },
  {
   "cell_type": "code",
   "execution_count": 2,
   "id": "2c28cd24",
   "metadata": {},
   "outputs": [
    {
     "data": {
      "text/html": [
       "<div>\n",
       "<style scoped>\n",
       "    .dataframe tbody tr th:only-of-type {\n",
       "        vertical-align: middle;\n",
       "    }\n",
       "\n",
       "    .dataframe tbody tr th {\n",
       "        vertical-align: top;\n",
       "    }\n",
       "\n",
       "    .dataframe thead th {\n",
       "        text-align: right;\n",
       "    }\n",
       "</style>\n",
       "<table border=\"1\" class=\"dataframe\">\n",
       "  <thead>\n",
       "    <tr style=\"text-align: right;\">\n",
       "      <th></th>\n",
       "      <th>ids</th>\n",
       "      <th>x</th>\n",
       "    </tr>\n",
       "  </thead>\n",
       "  <tbody>\n",
       "    <tr>\n",
       "      <th>1540</th>\n",
       "      <td>3277</td>\n",
       "      <td>0.437723</td>\n",
       "    </tr>\n",
       "    <tr>\n",
       "      <th>2778</th>\n",
       "      <td>5880</td>\n",
       "      <td>0.653906</td>\n",
       "    </tr>\n",
       "    <tr>\n",
       "      <th>3807</th>\n",
       "      <td>7992</td>\n",
       "      <td>0.056061</td>\n",
       "    </tr>\n",
       "    <tr>\n",
       "      <th>11820</th>\n",
       "      <td>24792</td>\n",
       "      <td>0.698452</td>\n",
       "    </tr>\n",
       "    <tr>\n",
       "      <th>16480</th>\n",
       "      <td>34521</td>\n",
       "      <td>0.572589</td>\n",
       "    </tr>\n",
       "    <tr>\n",
       "      <th>23965</th>\n",
       "      <td>50072</td>\n",
       "      <td>0.395231</td>\n",
       "    </tr>\n",
       "    <tr>\n",
       "      <th>26307</th>\n",
       "      <td>54781</td>\n",
       "      <td>0.052122</td>\n",
       "    </tr>\n",
       "    <tr>\n",
       "      <th>31475</th>\n",
       "      <td>65709</td>\n",
       "      <td>0.093516</td>\n",
       "    </tr>\n",
       "  </tbody>\n",
       "</table>\n",
       "</div>"
      ],
      "text/plain": [
       "         ids         x\n",
       "1540    3277  0.437723\n",
       "2778    5880  0.653906\n",
       "3807    7992  0.056061\n",
       "11820  24792  0.698452\n",
       "16480  34521  0.572589\n",
       "23965  50072  0.395231\n",
       "26307  54781  0.052122\n",
       "31475  65709  0.093516"
      ]
     },
     "execution_count": 2,
     "metadata": {},
     "output_type": "execute_result"
    }
   ],
   "source": [
    "ids = list(set(random.choice(range(9999999999)) for _ in range(10**6)))\n",
    "xs = [random.random() for _ in range(len(ids))]\n",
    "\n",
    "df = pd.DataFrame({'ids': ids, 'x': xs})\n",
    "df.sort_values('ids', inplace=True)\n",
    "df.head(n=8)"
   ]
  },
  {
   "cell_type": "code",
   "execution_count": 35,
   "id": "1681e2ed",
   "metadata": {},
   "outputs": [
    {
     "name": "stdout",
     "output_type": "stream",
     "text": [
      "0.12146663665771484\n",
      "5436896889.0\n",
      "5436896889\n"
     ]
    }
   ],
   "source": [
    "t0 = time.time()\n",
    "for _ in range(1000):\n",
    "    rand_id = random.choice(ids)\n",
    "    r = df.iloc[df['ids'].searchsorted(rand_id)]\n",
    "t1 = time.time()\n",
    "print(t1-t0)\n",
    "print(r['ids'])\n",
    "print(rand_id)"
   ]
  },
  {
   "cell_type": "code",
   "execution_count": 36,
   "id": "95980b3b",
   "metadata": {},
   "outputs": [
    {
     "name": "stdout",
     "output_type": "stream",
     "text": [
      "0.9073905944824219\n",
      "[4044968394]\n",
      "4044968394\n"
     ]
    }
   ],
   "source": [
    "t0 = time.time()\n",
    "for _ in range(1000):\n",
    "    rand_id = random.choice(ids)\n",
    "    r = df[df['ids'] == rand_id] \n",
    "t1 = time.time()\n",
    "print(t1-t0)\n",
    "print(r['ids'].values)\n",
    "print(rand_id)"
   ]
  },
  {
   "cell_type": "code",
   "execution_count": 39,
   "id": "e1103f56",
   "metadata": {},
   "outputs": [
    {
     "data": {
      "text/plain": [
       "0"
      ]
     },
     "execution_count": 39,
     "metadata": {},
     "output_type": "execute_result"
    }
   ],
   "source": [
    "df = pd.DataFrame({'ids': [], 'x': []})\n",
    "df['ids'].searchsorted(rand_id)"
   ]
  },
  {
   "cell_type": "code",
   "execution_count": 40,
   "id": "e90cac80",
   "metadata": {},
   "outputs": [
    {
     "data": {
      "text/plain": [
       "0"
      ]
     },
     "execution_count": 40,
     "metadata": {},
     "output_type": "execute_result"
    }
   ],
   "source": [
    "len(df['ids'])"
   ]
  },
  {
   "cell_type": "code",
   "execution_count": 51,
   "id": "8b2a194d",
   "metadata": {},
   "outputs": [
    {
     "data": {
      "text/plain": [
       "792814"
      ]
     },
     "execution_count": 51,
     "metadata": {},
     "output_type": "execute_result"
    }
   ],
   "source": [
    "pos = df['ids'].searchsorted(rand_id)\n",
    "df.iloc[pos].name"
   ]
  },
  {
   "cell_type": "code",
   "execution_count": 4,
   "id": "e0a2873e",
   "metadata": {},
   "outputs": [
    {
     "name": "stdout",
     "output_type": "stream",
     "text": [
      "3312123877\n"
     ]
    },
    {
     "data": {
      "text/plain": [
       "3312123877"
      ]
     },
     "execution_count": 4,
     "metadata": {},
     "output_type": "execute_result"
    }
   ],
   "source": [
    "rand_id = random.choice(ids)\n",
    "s = df['ids']\n",
    "pos = s.searchsorted(rand_id)\n",
    "print(rand_id)\n",
    "s.values[pos]"
   ]
  },
  {
   "cell_type": "code",
   "execution_count": 5,
   "id": "b04972ee",
   "metadata": {},
   "outputs": [
    {
     "data": {
      "text/plain": [
       "1540      3277\n",
       "2778      5880\n",
       "3807      7992\n",
       "11820    24792\n",
       "16480    34521\n",
       "Name: ids, dtype: int64"
      ]
     },
     "execution_count": 5,
     "metadata": {},
     "output_type": "execute_result"
    }
   ],
   "source": [
    "s.head()"
   ]
  },
  {
   "cell_type": "code",
   "execution_count": 6,
   "id": "ca9cf92a",
   "metadata": {},
   "outputs": [
    {
     "data": {
      "text/html": [
       "<div>\n",
       "<style scoped>\n",
       "    .dataframe tbody tr th:only-of-type {\n",
       "        vertical-align: middle;\n",
       "    }\n",
       "\n",
       "    .dataframe tbody tr th {\n",
       "        vertical-align: top;\n",
       "    }\n",
       "\n",
       "    .dataframe thead th {\n",
       "        text-align: right;\n",
       "    }\n",
       "</style>\n",
       "<table border=\"1\" class=\"dataframe\">\n",
       "  <thead>\n",
       "    <tr style=\"text-align: right;\">\n",
       "      <th></th>\n",
       "      <th>ids</th>\n",
       "      <th>x</th>\n",
       "    </tr>\n",
       "  </thead>\n",
       "  <tbody>\n",
       "    <tr>\n",
       "      <th>1540</th>\n",
       "      <td>3277</td>\n",
       "      <td>0.437723</td>\n",
       "    </tr>\n",
       "    <tr>\n",
       "      <th>2778</th>\n",
       "      <td>5880</td>\n",
       "      <td>0.653906</td>\n",
       "    </tr>\n",
       "    <tr>\n",
       "      <th>3807</th>\n",
       "      <td>7992</td>\n",
       "      <td>0.056061</td>\n",
       "    </tr>\n",
       "    <tr>\n",
       "      <th>11820</th>\n",
       "      <td>24792</td>\n",
       "      <td>0.698452</td>\n",
       "    </tr>\n",
       "    <tr>\n",
       "      <th>16480</th>\n",
       "      <td>34521</td>\n",
       "      <td>0.572589</td>\n",
       "    </tr>\n",
       "  </tbody>\n",
       "</table>\n",
       "</div>"
      ],
      "text/plain": [
       "         ids         x\n",
       "1540    3277  0.437723\n",
       "2778    5880  0.653906\n",
       "3807    7992  0.056061\n",
       "11820  24792  0.698452\n",
       "16480  34521  0.572589"
      ]
     },
     "execution_count": 6,
     "metadata": {},
     "output_type": "execute_result"
    }
   ],
   "source": [
    "df.head()"
   ]
  },
  {
   "cell_type": "code",
   "execution_count": 7,
   "id": "00ded5e6",
   "metadata": {},
   "outputs": [
    {
     "data": {
      "text/plain": [
       "2"
      ]
     },
     "execution_count": 7,
     "metadata": {},
     "output_type": "execute_result"
    }
   ],
   "source": [
    "s.searchsorted(7992)"
   ]
  },
  {
   "cell_type": "code",
   "execution_count": 8,
   "id": "c1f801a0",
   "metadata": {},
   "outputs": [
    {
     "data": {
      "text/plain": [
       "3185573894"
      ]
     },
     "execution_count": 8,
     "metadata": {},
     "output_type": "execute_result"
    }
   ],
   "source": [
    "s[2]"
   ]
  },
  {
   "cell_type": "code",
   "execution_count": 11,
   "id": "ef70049c",
   "metadata": {},
   "outputs": [
    {
     "data": {
      "text/plain": [
       "3185573894"
      ]
     },
     "execution_count": 11,
     "metadata": {},
     "output_type": "execute_result"
    }
   ],
   "source": [
    "s.at[2]"
   ]
  },
  {
   "cell_type": "code",
   "execution_count": 12,
   "id": "9b548cda",
   "metadata": {},
   "outputs": [
    {
     "data": {
      "text/plain": [
       "7992"
      ]
     },
     "execution_count": 12,
     "metadata": {},
     "output_type": "execute_result"
    }
   ],
   "source": [
    "s.values[2]"
   ]
  },
  {
   "cell_type": "code",
   "execution_count": null,
   "id": "4d9d2856",
   "metadata": {},
   "outputs": [],
   "source": []
  }
 ],
 "metadata": {
  "kernelspec": {
   "display_name": "Python 3 (ipykernel)",
   "language": "python",
   "name": "python3"
  },
  "language_info": {
   "codemirror_mode": {
    "name": "ipython",
    "version": 3
   },
   "file_extension": ".py",
   "mimetype": "text/x-python",
   "name": "python",
   "nbconvert_exporter": "python",
   "pygments_lexer": "ipython3",
   "version": "3.9.7"
  }
 },
 "nbformat": 4,
 "nbformat_minor": 5
}
