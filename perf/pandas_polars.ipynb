{
 "cells": [
  {
   "cell_type": "code",
   "execution_count": null,
   "id": "6f2a05de",
   "metadata": {},
   "outputs": [],
   "source": [
    "\"\"\"\n",
    "While pandas is gonna be an O(n) range query, the underlying data structure\n",
    "is really fast (numpy arrays). [np_array > 5] should be many times faster than [obj.x > 5], but how many?\n",
    "\"\"\""
   ]
  },
  {
   "cell_type": "code",
   "execution_count": 13,
   "id": "562f15cc",
   "metadata": {},
   "outputs": [],
   "source": [
    "import random\n",
    "import sys\n",
    "import time\n",
    "import numpy as np\n",
    "import pandas as pd\n",
    "import polars as pl"
   ]
  },
  {
   "cell_type": "code",
   "execution_count": 14,
   "id": "d5cb80ec",
   "metadata": {},
   "outputs": [],
   "source": [
    "class Thing:\n",
    "    def __init__(self):\n",
    "        self.x = random.random()\n",
    "        self.y = random.random()\n",
    "        self.z = random.random()\n",
    "\n",
    "N_THINGS = 10**7\n",
    "\n",
    "things = [Thing() for _ in range(N_THINGS)]\n"
   ]
  },
  {
   "cell_type": "code",
   "execution_count": 15,
   "id": "86c4631b",
   "metadata": {},
   "outputs": [
    {
     "name": "stdout",
     "output_type": "stream",
     "text": [
      "built df in 14.840728044509888\n",
      "640.000144 MB\n"
     ]
    },
    {
     "data": {
      "text/plain": [
       "Index(['x', 'y', 'z', 't'], dtype='object')"
      ]
     },
     "execution_count": 15,
     "metadata": {},
     "output_type": "execute_result"
    }
   ],
   "source": [
    "t0 = time.time()\n",
    "df_pd = pd.DataFrame({'x': [t.x for t in things], 'y': [t.y for t in things], 'z': [t.z for t in things], 't': things})\n",
    "t1 = time.time()\n",
    "print('built df in', t1-t0)\n",
    "print(sys.getsizeof(df_pd) / 10**6, 'MB')\n",
    "df_pd.columns"
   ]
  },
  {
   "cell_type": "code",
   "execution_count": 10,
   "id": "2be3d1a0",
   "metadata": {},
   "outputs": [
    {
     "name": "stdout",
     "output_type": "stream",
     "text": [
      "0.0071866512298583984\n",
      "33\n"
     ]
    }
   ],
   "source": [
    "t0 = time.time()\n",
    "ls = df_pd.query('x < 0.0001 and y < 1 and z > 0.5').t.to_list()\n",
    "t1 = time.time()\n",
    "print(t1-t0)\n",
    "print(len(ls))"
   ]
  },
  {
   "cell_type": "code",
   "execution_count": 11,
   "id": "714d48e6",
   "metadata": {},
   "outputs": [
    {
     "name": "stdout",
     "output_type": "stream",
     "text": [
      "0.050518035888671875\n",
      "33\n"
     ]
    }
   ],
   "source": [
    "t0 = time.time()\n",
    "[t for t in things if t.x<0.0001 and t.y < 1 and t.z > 0.5]\n",
    "t1 = time.time()\n",
    "print(t1-t0)\n",
    "print(len(ls))"
   ]
  },
  {
   "cell_type": "code",
   "execution_count": 16,
   "id": "c7557c06",
   "metadata": {},
   "outputs": [
    {
     "name": "stdout",
     "output_type": "stream",
     "text": [
      "built polars df in 2.7918601036071777\n"
     ]
    }
   ],
   "source": [
    "t0 = time.time()\n",
    "df_pl = pl.DataFrame({'x': [t.x for t in things], 'y': [t.y for t in things], \n",
    "                      'z': [t.z for t in things], 't': things})\n",
    "t1 = time.time()\n",
    "print('built polars df in', t1-t0)"
   ]
  },
  {
   "cell_type": "code",
   "execution_count": 17,
   "id": "1f97cc29",
   "metadata": {},
   "outputs": [
    {
     "name": "stdout",
     "output_type": "stream",
     "text": [
      "0.0544133186340332\n",
      "502\n"
     ]
    }
   ],
   "source": [
    "t0 = time.time()\n",
    "ls = df_pl.select(\n",
    "    pl.col(\"t\").filter((pl.col('x') < 0.0001) & (pl.col('y') < 1.0) & (pl.col('z') > 0.5))\n",
    ").t.to_list()\n",
    "# ls = df_pl[df_pl['x'] < 0.0001].t.to_list()\n",
    "t1 = time.time()\n",
    "print(t1-t0)\n",
    "print(len(ls))"
   ]
  },
  {
   "cell_type": "code",
   "execution_count": null,
   "id": "568ee2d9",
   "metadata": {},
   "outputs": [],
   "source": [
    "len(df_pd)"
   ]
  },
  {
   "cell_type": "code",
   "execution_count": null,
   "id": "7ec1a560",
   "metadata": {},
   "outputs": [],
   "source": []
  }
 ],
 "metadata": {
  "kernelspec": {
   "display_name": "Python 3 (ipykernel)",
   "language": "python",
   "name": "python3"
  },
  "language_info": {
   "codemirror_mode": {
    "name": "ipython",
    "version": 3
   },
   "file_extension": ".py",
   "mimetype": "text/x-python",
   "name": "python",
   "nbconvert_exporter": "python",
   "pygments_lexer": "ipython3",
   "version": "3.9.7"
  }
 },
 "nbformat": 4,
 "nbformat_minor": 5
}
