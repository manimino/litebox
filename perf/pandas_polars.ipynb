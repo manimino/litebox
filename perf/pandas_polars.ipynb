{
 "cells": [
  {
   "cell_type": "code",
   "execution_count": null,
   "id": "6f2a05de",
   "metadata": {},
   "outputs": [],
   "source": [
    "\"\"\"\n",
    "While pandas is gonna be an O(n) range query, the underlying data structure\n",
    "is really fast (numpy arrays). [np_array > 5] should be many times faster than [obj.x > 5], but how many?\n",
    "\"\"\""
   ]
  },
  {
   "cell_type": "code",
   "execution_count": 43,
   "id": "562f15cc",
   "metadata": {},
   "outputs": [],
   "source": [
    "import random\n",
    "import sys\n",
    "import time\n",
    "import numpy as np\n",
    "import pandas as pd\n",
    "import polars as pl"
   ]
  },
  {
   "cell_type": "code",
   "execution_count": 3,
   "id": "5465d240",
   "metadata": {},
   "outputs": [],
   "source": [
    "class Thing:\n",
    "    def __init__(self):\n",
    "        self.x = random.random()"
   ]
  },
  {
   "cell_type": "code",
   "execution_count": 28,
   "id": "490bb2c2",
   "metadata": {},
   "outputs": [],
   "source": [
    "N_THINGS = 10**7\n",
    "N_MATCHING = 10**2\n",
    "thresh = N_MATCHING / N_THINGS\n"
   ]
  },
  {
   "cell_type": "code",
   "execution_count": 29,
   "id": "5f5f90c0",
   "metadata": {},
   "outputs": [
    {
     "data": {
      "text/plain": [
       "99"
      ]
     },
     "execution_count": 29,
     "metadata": {},
     "output_type": "execute_result"
    }
   ],
   "source": [
    "len(np.where(np_rands < thresh)[0])"
   ]
  },
  {
   "cell_type": "code",
   "execution_count": 42,
   "id": "912e484e",
   "metadata": {},
   "outputs": [
    {
     "name": "stdout",
     "output_type": "stream",
     "text": [
      "(0.0064585208892822266, 0.4583597183227539, '70.9697663258149x')\n"
     ]
    }
   ],
   "source": [
    "def get_speedup(n_things=10**6, n_matching=10**1):\n",
    "    # make things\n",
    "    things = [Thing() for _ in range(N_THINGS)]\n",
    "    np_rands = np.random.random(N_THINGS)\n",
    "    \n",
    "    # match them \n",
    "    t0 = time.time()\n",
    "    np_result = np.where(np_rands < thresh)[0]\n",
    "    t1 = time.time()\n",
    "    obj_result = [t for t in things if t.x < thresh]\n",
    "    t2 = time.time()\n",
    "    np_time = t1-t0\n",
    "    obj_time = t2-t1\n",
    "    speedup = obj_time / np_time\n",
    "    return np_time, obj_time, f'{speedup}x'\n",
    "\n",
    "print(get_speedup())"
   ]
  },
  {
   "cell_type": "code",
   "execution_count": null,
   "id": "df5a3f2a",
   "metadata": {},
   "outputs": [],
   "source": []
  },
  {
   "cell_type": "code",
   "execution_count": 34,
   "id": "d5cb80ec",
   "metadata": {},
   "outputs": [],
   "source": [
    "class Thing:\n",
    "    def __init__(self):\n",
    "        self.x = random.random()\n",
    "        self.y = random.random()\n",
    "\n",
    "things = [Thing() for _ in range(N_THINGS)]"
   ]
  },
  {
   "cell_type": "code",
   "execution_count": 104,
   "id": "86c4631b",
   "metadata": {},
   "outputs": [
    {
     "name": "stdout",
     "output_type": "stream",
     "text": [
      "built df in 12.80781888961792\n",
      "560.000144 MB\n"
     ]
    },
    {
     "data": {
      "text/plain": [
       "Index(['x', 'y', 't'], dtype='object')"
      ]
     },
     "execution_count": 104,
     "metadata": {},
     "output_type": "execute_result"
    }
   ],
   "source": [
    "t0 = time.time()\n",
    "df_pd = pd.DataFrame({'x': [t.x for t in things], 'y': [t.y for t in things], 't': things})\n",
    "t1 = time.time()\n",
    "print('built df in', t1-t0)\n",
    "print(sys.getsizeof(df_pd) / 10**6, 'MB')\n",
    "df_pd.columns"
   ]
  },
  {
   "cell_type": "code",
   "execution_count": 95,
   "id": "2be3d1a0",
   "metadata": {},
   "outputs": [
    {
     "name": "stdout",
     "output_type": "stream",
     "text": [
      "0.019664764404296875\n",
      "1025\n"
     ]
    }
   ],
   "source": [
    "t0 = time.time()\n",
    "ls = df_pd[df_pd['x'] < 0.0001].t.to_list()\n",
    "t1 = time.time()\n",
    "print(t1-t0)\n",
    "print(len(ls))"
   ]
  },
  {
   "cell_type": "code",
   "execution_count": 100,
   "id": "c7557c06",
   "metadata": {},
   "outputs": [
    {
     "name": "stdout",
     "output_type": "stream",
     "text": [
      "built df in 2.729921817779541\n"
     ]
    }
   ],
   "source": [
    "t0 = time.time()\n",
    "df_pl = pl.DataFrame({'x': [t.x for t in things], 'y': [t.y for t in things], 't': things})\n",
    "t1 = time.time()\n",
    "print('built df in', t1-t0)"
   ]
  },
  {
   "cell_type": "code",
   "execution_count": 97,
   "id": "1f97cc29",
   "metadata": {},
   "outputs": [
    {
     "name": "stdout",
     "output_type": "stream",
     "text": [
      "0.07121968269348145\n",
      "1025\n"
     ]
    }
   ],
   "source": [
    "t0 = time.time()\n",
    "ls = df_pl[df_pl['x'] < 0.0001].t.to_list()\n",
    "t1 = time.time()\n",
    "print(t1-t0)\n",
    "print(len(ls))"
   ]
  },
  {
   "cell_type": "code",
   "execution_count": 101,
   "id": "568ee2d9",
   "metadata": {},
   "outputs": [
    {
     "data": {
      "text/plain": [
       "560000144"
      ]
     },
     "execution_count": 101,
     "metadata": {},
     "output_type": "execute_result"
    }
   ],
   "source": []
  },
  {
   "cell_type": "code",
   "execution_count": null,
   "id": "7ec1a560",
   "metadata": {},
   "outputs": [],
   "source": []
  }
 ],
 "metadata": {
  "kernelspec": {
   "display_name": "Python 3 (ipykernel)",
   "language": "python",
   "name": "python3"
  },
  "language_info": {
   "codemirror_mode": {
    "name": "ipython",
    "version": 3
   },
   "file_extension": ".py",
   "mimetype": "text/x-python",
   "name": "python",
   "nbconvert_exporter": "python",
   "pygments_lexer": "ipython3",
   "version": "3.9.7"
  }
 },
 "nbformat": 4,
 "nbformat_minor": 5
}
