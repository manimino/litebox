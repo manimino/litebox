{
 "cells": [
  {
   "cell_type": "code",
   "execution_count": 1,
   "id": "9aef5ac2",
   "metadata": {},
   "outputs": [],
   "source": [
    "import awkward as ak\n"
   ]
  },
  {
   "cell_type": "code",
   "execution_count": 2,
   "id": "2ecc2fc8",
   "metadata": {},
   "outputs": [],
   "source": [
    "\n",
    "d = ak.Array([{'a': list(range(1000)), 'b': list(range(100))}])"
   ]
  },
  {
   "cell_type": "code",
   "execution_count": 3,
   "id": "6353b383",
   "metadata": {},
   "outputs": [
    {
     "data": {
      "text/plain": [
       "<Array [... 994, 995, 996, 997, 998, 999]] type='1 * var * int64'>"
      ]
     },
     "execution_count": 3,
     "metadata": {},
     "output_type": "execute_result"
    }
   ],
   "source": [
    "d['a']"
   ]
  },
  {
   "cell_type": "code",
   "execution_count": 4,
   "id": "b8ddb722",
   "metadata": {},
   "outputs": [],
   "source": [
    "# so maybe each dict is an awkward array that maps key: List[obj_id]\n",
    "# and then what"
   ]
  },
  {
   "cell_type": "code",
   "execution_count": 5,
   "id": "6704e69e",
   "metadata": {},
   "outputs": [
    {
     "data": {
      "text/plain": [
       "awkward.highlevel.Array"
      ]
     },
     "execution_count": 5,
     "metadata": {},
     "output_type": "execute_result"
    }
   ],
   "source": [
    "type(d['a'])"
   ]
  },
  {
   "cell_type": "code",
   "execution_count": 6,
   "id": "c616cc23",
   "metadata": {},
   "outputs": [],
   "source": [
    "arr = d['a']"
   ]
  },
  {
   "cell_type": "code",
   "execution_count": null,
   "id": "98b64612",
   "metadata": {},
   "outputs": [],
   "source": []
  },
  {
   "cell_type": "code",
   "execution_count": null,
   "id": "ab272c3c",
   "metadata": {},
   "outputs": [],
   "source": []
  },
  {
   "cell_type": "code",
   "execution_count": null,
   "id": "40289981",
   "metadata": {},
   "outputs": [],
   "source": []
  }
 ],
 "metadata": {
  "kernelspec": {
   "display_name": "Python 3 (ipykernel)",
   "language": "python",
   "name": "python3"
  },
  "language_info": {
   "codemirror_mode": {
    "name": "ipython",
    "version": 3
   },
   "file_extension": ".py",
   "mimetype": "text/x-python",
   "name": "python",
   "nbconvert_exporter": "python",
   "pygments_lexer": "ipython3",
   "version": "3.9.7"
  }
 },
 "nbformat": 4,
 "nbformat_minor": 5
}
