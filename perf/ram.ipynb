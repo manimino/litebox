{
 "cells": [
  {
   "cell_type": "code",
   "execution_count": 1,
   "id": "94217ff0",
   "metadata": {},
   "outputs": [],
   "source": [
    "import random\n",
    "import time\n",
    "from dataclasses import dataclass\n",
    "from rangeindex import RangeIndex\n",
    "from matplotlib import pyplot as plt\n",
    "%matplotlib inline\n",
    "\n",
    "az = 'qwertyuiopasdfghjklzxcvbnm'\n",
    "ten = list(range(10))\n",
    "\n",
    "\n",
    "@dataclass\n",
    "class Thing:\n",
    "    a0: float\n",
    "    a1: float\n",
    "    a2: float\n",
    "    a3: float\n",
    "    a4: float\n",
    "    a5: float\n",
    "    a6: float\n",
    "    a7: float\n",
    "    a8: float\n",
    "    a9: float\n",
    "\n",
    "def make_thing():\n",
    "    return Thing(\n",
    "        a0=random.random(),\n",
    "        a1=random.random(),\n",
    "        a2=random.random(),\n",
    "        a3=random.random(),\n",
    "        a4=random.random(),\n",
    "        a5=random.random(),\n",
    "        a6=random.random(),\n",
    "        a7=random.random(),\n",
    "        a8=random.random(),\n",
    "        a9=random.random(),\n",
    "    )\n"
   ]
  },
  {
   "cell_type": "code",
   "execution_count": 3,
   "id": "a2f90f9f",
   "metadata": {},
   "outputs": [],
   "source": [
    "n=10**6\n",
    "objs = list(make_thing() for _ in range(n))\n",
    "\n",
    "# n=10^6: used 607MB so far"
   ]
  },
  {
   "cell_type": "code",
   "execution_count": 4,
   "id": "cda280a1",
   "metadata": {},
   "outputs": [],
   "source": [
    "indices = []\n",
    "for i in range(10):\n",
    "    ri = RangeIndex({'a0': float})\n",
    "    ri.add_many(objs)\n",
    "    indices.append(ri)\n",
    "\n",
    "# n=10^6: used 1.8G so far. So that's 1.8-0.6=1.2GB to make 10 indices, or 120MB each."
   ]
  },
  {
   "cell_type": "code",
   "execution_count": 5,
   "id": "f22bce64",
   "metadata": {},
   "outputs": [],
   "source": [
    "big_indices = []\n",
    "for i in range(10):\n",
    "    ri = RangeIndex({\n",
    "        'a0': float,\n",
    "        'a1': float,\n",
    "        'a2': float,\n",
    "        'a3': float,\n",
    "        'a4': float,\n",
    "        'a5': float,\n",
    "        'a6': float,\n",
    "        'a7': float,\n",
    "        'a8': float,\n",
    "        'a9': float,\n",
    "    })\n",
    "    ri.add_many(objs)\n",
    "    big_indices.append(ri)\n",
    "\n",
    "# n=10^6: used 5.8G\n",
    "# 5.8-1.8=4.0, so 400MB each.\n",
    "# 300/9"
   ]
  },
  {
   "cell_type": "code",
   "execution_count": null,
   "id": "7e02df59",
   "metadata": {},
   "outputs": [],
   "source": []
  },
  {
   "cell_type": "code",
   "execution_count": null,
   "id": "f40007c5",
   "metadata": {},
   "outputs": [],
   "source": [
    "# one index on 10^7 objects used 4.4-2.6=1.8GB\n",
    "bytes_per_obj = (1.8*10**9) / 10**7"
   ]
  },
  {
   "cell_type": "code",
   "execution_count": null,
   "id": "4755c377",
   "metadata": {},
   "outputs": [],
   "source": [
    "# before: 4.4G\n",
    "rj = RangeIndex({'a0': int, 'a1': float})\n",
    "rj.add_many(objs)\n",
    "# after: 5.8G\n",
    "# so two indices cost 1.4GB\n",
    "# that... doesn't totally make sense, why would it be smaller? maybe this is a bad measurement"
   ]
  },
  {
   "cell_type": "code",
   "execution_count": null,
   "id": "62ab2a46",
   "metadata": {},
   "outputs": [],
   "source": [
    "# before: 5.8G\n",
    "rk = RangeIndex({'x': int, 'y': float})\n",
    "rk.add_many(objs)\n",
    "# after: 7.0G\n",
    "# now it's 1.2G\n",
    "# well that's good?"
   ]
  },
  {
   "cell_type": "code",
   "execution_count": null,
   "id": "c0a3d0bd",
   "metadata": {},
   "outputs": [],
   "source": [
    "import math\n",
    "math.log10(100*10**7)"
   ]
  },
  {
   "cell_type": "code",
   "execution_count": null,
   "id": "82e95afa",
   "metadata": {},
   "outputs": [],
   "source": []
  }
 ],
 "metadata": {
  "kernelspec": {
   "display_name": "Python 3 (ipykernel)",
   "language": "python",
   "name": "python3"
  },
  "language_info": {
   "codemirror_mode": {
    "name": "ipython",
    "version": 3
   },
   "file_extension": ".py",
   "mimetype": "text/x-python",
   "name": "python",
   "nbconvert_exporter": "python",
   "pygments_lexer": "ipython3",
   "version": "3.9.7"
  }
 },
 "nbformat": 4,
 "nbformat_minor": 5
}
