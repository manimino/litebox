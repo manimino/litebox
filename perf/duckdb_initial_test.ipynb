{
 "cells": [
  {
   "cell_type": "markdown",
   "id": "dee64bbe",
   "metadata": {},
   "source": [
    "Let's test all operations in Pandas to check if it can compete with the sqlite implementation.\n",
    "\n",
    "Object:\n",
    "x: float, y: float, s: string\n",
    "\n",
    "DataFrame Columns:\n",
    "x, y, s, obj_id, obj\n",
    "where obj_id is a unique index"
   ]
  },
  {
   "cell_type": "markdown",
   "id": "24d9085c",
   "metadata": {},
   "source": [
    "Update: Nope, using an index to look up numbers is very bad. Building an indexed df of 10k items took > 1 second. \n",
    "Let's just resign ourselves to:\n",
    " - O(n) remove, maybe with a mark-and-sweep gc\n",
    " - O(n) update, since we have to find the obj_id."
   ]
  },
  {
   "cell_type": "markdown",
   "id": "90f1275c",
   "metadata": {},
   "source": [
    "O(n) update looking good! <1ms on 1M item set."
   ]
  },
  {
   "cell_type": "code",
   "execution_count": 1,
   "id": "bc497c4f",
   "metadata": {},
   "outputs": [],
   "source": [
    "import random\n",
    "import time\n",
    "import pandas as pd\n",
    "import duckdb\n",
    "import sys\n",
    "from pympler.asizeof import asizeof\n"
   ]
  },
  {
   "cell_type": "code",
   "execution_count": null,
   "id": "e7e7a996",
   "metadata": {},
   "outputs": [],
   "source": []
  },
  {
   "cell_type": "code",
   "execution_count": null,
   "id": "89dd753e",
   "metadata": {},
   "outputs": [],
   "source": []
  },
  {
   "cell_type": "code",
   "execution_count": 2,
   "id": "be9c0183",
   "metadata": {},
   "outputs": [],
   "source": [
    "letters = ['qwertyuiopasdfghjklzxcvbnm']\n",
    "class Thing:\n",
    "    def __init__(self):\n",
    "        self.x = random.random()\n",
    "        self.y = random.random()\n",
    "        #self.s = ''.join(random.choice(letters) for _ in range(5))\n",
    "\n",
    "n_things = 10**7\n",
    "things = [Thing() for _ in range(n_things)]\n",
    "\n",
    "# 10^7: 2.3G"
   ]
  },
  {
   "cell_type": "code",
   "execution_count": 3,
   "id": "423f3c37",
   "metadata": {},
   "outputs": [],
   "source": [
    "con = duckdb.connect(database=':memory:')"
   ]
  },
  {
   "cell_type": "code",
   "execution_count": 4,
   "id": "bf619b00",
   "metadata": {},
   "outputs": [
    {
     "name": "stdout",
     "output_type": "stream",
     "text": [
      "build dict 3.162687063217163\n"
     ]
    }
   ],
   "source": [
    "t0 = time.time()\n",
    "obj_lookup = {id(t): t for t in things}\n",
    "t1 = time.time()\n",
    "print('build dict', t1-t0)\n",
    "# 2.9GB, so 600MB, yeowch"
   ]
  },
  {
   "cell_type": "code",
   "execution_count": null,
   "id": "6fcb8754",
   "metadata": {},
   "outputs": [],
   "source": []
  },
  {
   "cell_type": "code",
   "execution_count": 5,
   "id": "91764e38",
   "metadata": {},
   "outputs": [
    {
     "name": "stdout",
     "output_type": "stream",
     "text": [
      "setup 12.237265825271606\n",
      "build dict 2.0264065265655518\n",
      "insert all 314.59319376945496\n"
     ]
    }
   ],
   "source": [
    "t1 = time.time()\n",
    "values = [(t.x, t.y, id(t)) for t in things]\n",
    "t2 = time.time()\n",
    "con.execute('DROP TABLE IF EXISTS items')\n",
    "con.execute(\"CREATE TABLE items(x DOUBLE, y DOUBLE, obj_id BIGINT)\")\n",
    "con.executemany(\"INSERT INTO items VALUES (?, ?, ?)\", values)\n",
    "t3 = time.time()\n",
    "print('build dict', t2-t1)\n",
    "print('insert all', t3-t2)\n",
    "\n",
    "# mem total"
   ]
  },
  {
   "cell_type": "code",
   "execution_count": 6,
   "id": "f6dd4f52",
   "metadata": {},
   "outputs": [
    {
     "name": "stdout",
     "output_type": "stream",
     "text": [
      "build dict 2.0264065265655518\n",
      "insert all 314.59319376945496\n"
     ]
    }
   ],
   "source": [
    "print('build dict', t2-t1)\n",
    "print('insert all', t3-t2)\n"
   ]
  },
  {
   "cell_type": "code",
   "execution_count": null,
   "id": "99f4c965",
   "metadata": {},
   "outputs": [],
   "source": [
    "t0 = time.time()\n",
    "df = pd.DataFrame({\n",
    "    'x': [t.x for t in things],\n",
    "    'y': [t.y for t in things],\n",
    "    'obj_id': [id(t) for t in things],\n",
    "    }\n",
    ")\n",
    "t1 = time.time()\n",
    "print(t1-t0)\n",
    "# 10^7: , so 300MB. Nice!"
   ]
  },
  {
   "cell_type": "code",
   "execution_count": null,
   "id": "f4a3fdb2",
   "metadata": {},
   "outputs": [],
   "source": []
  },
  {
   "cell_type": "code",
   "execution_count": null,
   "id": "293a4688",
   "metadata": {},
   "outputs": [],
   "source": [
    "asizeof(df) / n_things"
   ]
  },
  {
   "cell_type": "code",
   "execution_count": null,
   "id": "53848ef0",
   "metadata": {},
   "outputs": [],
   "source": [
    "# connect to an in-memory database\n",
    "con = duckdb.connect()\n",
    "\n",
    "# convert df into a DuckDB db. Before: 3.3GB\n",
    "con.execute('DROP TABLE IF EXISTS my_table')\n",
    "t0 = time.time()\n",
    "con.execute(\"CREATE TABLE my_table AS SELECT * FROM df\")\n",
    "t1 = time.time()\n",
    "print(t1-t0)\n",
    "# Ater: 3.9GB, so 600MB used"
   ]
  },
  {
   "cell_type": "code",
   "execution_count": null,
   "id": "81152522",
   "metadata": {},
   "outputs": [],
   "source": [
    "con.execute('SHOW TABLE my_table')\n",
    "con.fetchall()"
   ]
  },
  {
   "cell_type": "code",
   "execution_count": null,
   "id": "303aad55",
   "metadata": {},
   "outputs": [],
   "source": [
    "con.execute('SELECT t from my_table LIMIT 10')\n",
    "objs = con.fetchall()\n",
    "print(objs[0][0])\n",
    "# it does not actually store objects\n",
    "# it's just storing "
   ]
  },
  {
   "cell_type": "code",
   "execution_count": null,
   "id": "57bf0fc2",
   "metadata": {
    "scrolled": true
   },
   "outputs": [],
   "source": [
    "# query the Pandas DataFrame \"my_df\". Querying it through DuckDB is way slower.\n",
    "thresh=0.0001\n",
    "t0 = time.time()\n",
    "resdd = con.execute(\"SELECT t FROM df where x < {} and y < 1\".format(thresh)).df().t.to_list()\n",
    "t1 = time.time()\n",
    "respd = df.query('y <= 1 and x <= 0.0001'.format(thresh)).t.to_list()\n",
    "t2 = time.time()\n",
    "\n",
    "print('duckdb', len(resdd), t1-t0)\n",
    "print('pandas', len(respd), t2-t1)\n"
   ]
  },
  {
   "cell_type": "code",
   "execution_count": null,
   "id": "7a92071f",
   "metadata": {},
   "outputs": [],
   "source": [
    "# DuckDB querying pandas dfs is slower even with lazy eval.\n",
    "\n",
    "rel = con.df(df)\n",
    "\n",
    "t0 = time.time()\n",
    "# chain together relational operators (this is a lazy operation, so the operations are not yet executed)\n",
    "# equivalent to: SELECT i, j, i*2 as two_i FROM input_df ORDER BY i desc limit 2\n",
    "transformed_rel = rel.filter(f'x < {thresh}')\n",
    "\n",
    "# trigger execution by requesting .df() of the relation\n",
    "# .df() could have been added to the end of the chain above - it was separated for clarity\n",
    "res = transformed_rel.df().t.to_list()\n",
    "t1 = time.time()\n",
    "print(len(res), t1-t0)"
   ]
  },
  {
   "cell_type": "code",
   "execution_count": null,
   "id": "b9f135b7",
   "metadata": {},
   "outputs": [],
   "source": []
  },
  {
   "cell_type": "code",
   "execution_count": null,
   "id": "8ecbcd79",
   "metadata": {
    "scrolled": true
   },
   "outputs": [],
   "source": [
    "n_runs = 10\n",
    "for e in range(0, 8):\n",
    "    thresh = 10**e / len(df)\n",
    "    t_duck = 0\n",
    "    t_pd = 0\n",
    "    for _ in range(n_runs):\n",
    "        t0 = time.time()\n",
    "        con.execute(\"SELECT t FROM my_table where y < 1 and x < {}\".format(thresh))\n",
    "        res = con.fetchall()\n",
    "        t1 = time.time()\n",
    "        res_pd = df.query('y <= 1 and x <= {}'.format(thresh)).t.to_list()\n",
    "        t2 = time.time()\n",
    "        t_duck += (t1-t0)/n_runs\n",
    "        t_pd += (t2-t1)/n_runs\n",
    "    # print(t_duck)\n",
    "    print(len(res), len(res_pd), 'duckdb took {}x as long as pd.query'.format(round(t_duck / t_pd, 3)))"
   ]
  },
  {
   "cell_type": "code",
   "execution_count": null,
   "id": "3b3810c9",
   "metadata": {},
   "outputs": [],
   "source": [
    "t0 = time.time()\n",
    "con.execute(\"SELECT obj_id, t FROM my_table\")\n",
    "all_objs = con.fetchall()\n",
    "t1 = time.time()\n",
    "print('got {} objs in {}'.format(len(all_objs), t1-t0))"
   ]
  },
  {
   "cell_type": "code",
   "execution_count": null,
   "id": "e8a36511",
   "metadata": {},
   "outputs": [],
   "source": [
    "# update speed\n",
    "ttot = 0\n",
    "for _ in range(10):\n",
    "    rand_id = random.choice(all_objs)[0]\n",
    "    t0 = time.time()\n",
    "    con.execute(\"UPDATE my_table SET x=12 where obj_id={}\".format(rand_id))\n",
    "    t1 = time.time()\n",
    "    ttot += (t1-t0)/10\n",
    "print(ttot)"
   ]
  },
  {
   "cell_type": "code",
   "execution_count": null,
   "id": "4d2fe4e9",
   "metadata": {},
   "outputs": [],
   "source": [
    "# delete speed\n",
    "ttot = 0\n",
    "for _ in range(10):\n",
    "    del_id = random.choice(all_objs)[0]\n",
    "    t0 = time.time()\n",
    "    con.execute(\"DELETE FROM my_table where obj_id={}\".format(del_id))\n",
    "    t1 = time.time()\n",
    "    ttot += (t1-t0)/10\n",
    "print(ttot)"
   ]
  },
  {
   "cell_type": "code",
   "execution_count": null,
   "id": "fdaf974d",
   "metadata": {},
   "outputs": [],
   "source": [
    "con.execute(\"SELECT obj_id, t FROM my_table\")\n",
    "all_objs = con.fetchall()\n",
    "print(len(all_objs))\n"
   ]
  },
  {
   "cell_type": "code",
   "execution_count": null,
   "id": "0dec0d2c",
   "metadata": {},
   "outputs": [],
   "source": [
    "n_runs = 10\n",
    "for e in range(3, 7):\n",
    "    thresh = 10**e / len(df)\n",
    "    t_duck = 0\n",
    "    t_pd = 0\n",
    "    for _ in range(n_runs):\n",
    "        t0 = time.time()\n",
    "        con.execute(\"SELECT t FROM my_table where x < {} and y < {}\".format(thresh, thresh))\n",
    "        res = con.fetchall()\n",
    "        t1 = time.time()\n",
    "        res_pd = df.query('y <= {} and x <= {}'.format(thresh, thresh)).t.to_list()\n",
    "        t2 = time.time()\n",
    "        t_duck += (t1-t0)/n_runs\n",
    "        t_pd += (t2-t1)/n_runs\n",
    "    print(len(res), len(res_pd), 'duckdb took {}x as long as pd.query'.format(round(t_duck / t_pd, 3)))"
   ]
  },
  {
   "cell_type": "code",
   "execution_count": null,
   "id": "8a65c7a6",
   "metadata": {},
   "outputs": [],
   "source": []
  },
  {
   "cell_type": "code",
   "execution_count": null,
   "id": "a6b5af30",
   "metadata": {},
   "outputs": [],
   "source": [
    "\"\"\"\n",
    "# 128 bytes / obj before\n",
    "df = df.set_index('obj_id')\n",
    "# 362 bytes / obj after, ouch.\n",
    "\n",
    "n_lookups = 10**3\n",
    "t0 = time.time()\n",
    "for _ in range(n_lookups):\n",
    "    oid = id(random.choice(things))\n",
    "    df.loc[oid]\n",
    "t1 = time.time()\n",
    "print(t1-t0)\n",
    "\"\"\"\n",
    "# sub-millisecond find by id. That's good!"
   ]
  },
  {
   "cell_type": "code",
   "execution_count": null,
   "id": "7167d271",
   "metadata": {},
   "outputs": [],
   "source": [
    "# no-index lookup by id\n",
    "n_runs = 10**3\n",
    "t0 = time.time()\n",
    "for _ in range(n_runs):\n",
    "    t = random.choice(things)\n",
    "    df[df['obj_id'] == id(t)]\n",
    "t1 = time.time()\n",
    "print((t1-t0)/n_runs)\n",
    "t = random.choice(things)\n",
    "df[df['obj_id'] == id(t)]\n",
    "\n",
    "# still sub-ms lookup at 1M items, very nice!"
   ]
  },
  {
   "cell_type": "code",
   "execution_count": null,
   "id": "0eac090e",
   "metadata": {},
   "outputs": [],
   "source": []
  },
  {
   "cell_type": "code",
   "execution_count": null,
   "id": "29126571",
   "metadata": {},
   "outputs": [],
   "source": [
    "n_runs = 5\n",
    "for e in range(0,8):\n",
    "    n_finds = 10**e\n",
    "    thresh = n_finds/10**7\n",
    "    t_run = 0\n",
    "    for _ in range(n_runs):\n",
    "        df.query('y <= 1 and x <= {}'.format(thresh)).t.to_list()\n",
    "        t0 = time.time()\n",
    "        ls = df.query('y <= 1 and x <= {}'.format(thresh)).t.to_list()\n",
    "        t1 = time.time()\n",
    "        t_run += (t1-t0)/n_runs\n",
    "    print(n_finds, t_run)\n",
    "\n",
    "# 3.5ms query @ 1M, 38ms @ 10M"
   ]
  },
  {
   "cell_type": "code",
   "execution_count": null,
   "id": "a2bbd3e8",
   "metadata": {},
   "outputs": [],
   "source": [
    "n_runs = 10**2\n",
    "t0 = time.time()\n",
    "for _ in range(n_runs):\n",
    "    t = random.choice(things)\n",
    "    idx = df[df['obj_id'] == id(t)].index[0]\n",
    "    df.at[idx,'x'] = 12\n",
    "    t.x = 12\n",
    "t1 = time.time()\n",
    "print((t1-t0)/n_runs)\n",
    "df.loc[idx]\n",
    "\n",
    "# 5ms update on one of 10M items"
   ]
  },
  {
   "cell_type": "code",
   "execution_count": null,
   "id": "9c51910d",
   "metadata": {},
   "outputs": [],
   "source": [
    "print(len(df))\n",
    "t0=time.time()\n",
    "df.drop(idx, inplace=True)\n",
    "t1 = time.time()\n",
    "print(len(df))\n",
    "print(t1-t0)"
   ]
  },
  {
   "cell_type": "code",
   "execution_count": null,
   "id": "35ee9eb8",
   "metadata": {},
   "outputs": [],
   "source": [
    "t1-t0"
   ]
  },
  {
   "cell_type": "code",
   "execution_count": null,
   "id": "3fa62e87",
   "metadata": {},
   "outputs": [],
   "source": []
  }
 ],
 "metadata": {
  "kernelspec": {
   "display_name": "Python 3 (ipykernel)",
   "language": "python",
   "name": "python3"
  },
  "language_info": {
   "codemirror_mode": {
    "name": "ipython",
    "version": 3
   },
   "file_extension": ".py",
   "mimetype": "text/x-python",
   "name": "python",
   "nbconvert_exporter": "python",
   "pygments_lexer": "ipython3",
   "version": "3.9.7"
  }
 },
 "nbformat": 4,
 "nbformat_minor": 5
}
