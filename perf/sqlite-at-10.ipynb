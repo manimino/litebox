{
 "cells": [
  {
   "cell_type": "code",
   "execution_count": 1,
   "id": "7f847878",
   "metadata": {},
   "outputs": [],
   "source": [
    "import random\n",
    "import time\n",
    "from dataclasses import dataclass\n",
    "from rangeindex import RangeIndex\n",
    "from matplotlib import pyplot as plt\n",
    "%matplotlib inline\n",
    "\n",
    "\n",
    "\n",
    "letters = ['qwertyuiopasdfghjklzxcvbnm']\n",
    "class Thing:\n",
    "    def __init__(self):\n",
    "        self.c0 = random.random()\n",
    "        self.c1 = random.random()\n",
    "        self.c2 = random.random()\n",
    "        self.c3 = random.random()\n",
    "        self.c4 = random.random()\n",
    "        self.c5 = random.random()\n",
    "        self.c6 = random.random()\n",
    "        self.c7 = random.random()\n",
    "        self.c8 = random.random()\n",
    "        self.c9 = random.random()\n",
    "\n",
    "n_things = 10**7\n",
    "things = [Thing() for _ in range(n_things)]\n",
    "\n",
    "# 10^7: 5.0G"
   ]
  },
  {
   "cell_type": "code",
   "execution_count": 2,
   "id": "b86d80a4",
   "metadata": {},
   "outputs": [
    {
     "name": "stdout",
     "output_type": "stream",
     "text": [
      "101.82957935333252\n"
     ]
    }
   ],
   "source": [
    "def insert_time(things):\n",
    "    ri = RangeIndex({\n",
    "        'c0': float, \n",
    "        'c1': float,\n",
    "        'c2': float, \n",
    "        'c3': float,\n",
    "        'c4': float, \n",
    "        'c5': float,\n",
    "        'c6': float, \n",
    "        'c7': float,\n",
    "        'c8': float, \n",
    "        'c9': float,\n",
    "    })\n",
    "    t0 = time.time()\n",
    "    #for t in things:\n",
    "    #    ri.add(t)\n",
    "    t1 = time.time()\n",
    "    ri.add_many(things)\n",
    "    t2 = time.time()\n",
    "    \n",
    "    t_each = t1-t0\n",
    "    t_many = t2-t1\n",
    "    print(t_many)\n",
    "    return ri\n",
    "    \n",
    "ri = insert_time(things)\n",
    "\n",
    "# 10GB used"
   ]
  },
  {
   "cell_type": "code",
   "execution_count": 6,
   "id": "f73cbc61",
   "metadata": {},
   "outputs": [
    {
     "name": "stdout",
     "output_type": "stream",
     "text": [
      "0.15 0 1.6344615697860718\n"
     ]
    },
    {
     "ename": "KeyboardInterrupt",
     "evalue": "",
     "output_type": "error",
     "traceback": [
      "\u001b[0;31m---------------------------------------------------------------------------\u001b[0m",
      "\u001b[0;31mKeyboardInterrupt\u001b[0m                         Traceback (most recent call last)",
      "\u001b[0;32m/tmp/ipykernel_52000/4261384126.py\u001b[0m in \u001b[0;36m<module>\u001b[0;34m\u001b[0m\n\u001b[1;32m      7\u001b[0m         \u001b[0mq\u001b[0m \u001b[0;34m=\u001b[0m \u001b[0;34m[\u001b[0m\u001b[0;34m(\u001b[0m\u001b[0;34mf'c{i}'\u001b[0m\u001b[0;34m,\u001b[0m \u001b[0;34m'<='\u001b[0m\u001b[0;34m,\u001b[0m \u001b[0mthresh\u001b[0m\u001b[0;34m)\u001b[0m \u001b[0;32mfor\u001b[0m \u001b[0mi\u001b[0m \u001b[0;32min\u001b[0m \u001b[0mrange\u001b[0m\u001b[0;34m(\u001b[0m\u001b[0;36m10\u001b[0m\u001b[0;34m)\u001b[0m\u001b[0;34m]\u001b[0m\u001b[0;34m\u001b[0m\u001b[0;34m\u001b[0m\u001b[0m\n\u001b[1;32m      8\u001b[0m         \u001b[0mt0\u001b[0m \u001b[0;34m=\u001b[0m \u001b[0mtime\u001b[0m\u001b[0;34m.\u001b[0m\u001b[0mtime\u001b[0m\u001b[0;34m(\u001b[0m\u001b[0;34m)\u001b[0m\u001b[0;34m\u001b[0m\u001b[0;34m\u001b[0m\u001b[0m\n\u001b[0;32m----> 9\u001b[0;31m         \u001b[0mobjs\u001b[0m \u001b[0;34m=\u001b[0m \u001b[0mri\u001b[0m\u001b[0;34m.\u001b[0m\u001b[0mfind\u001b[0m\u001b[0;34m(\u001b[0m\u001b[0mq\u001b[0m\u001b[0;34m)\u001b[0m\u001b[0;34m\u001b[0m\u001b[0;34m\u001b[0m\u001b[0m\n\u001b[0m\u001b[1;32m     10\u001b[0m         \u001b[0;31m#objs = [ctypes.cast(r[0], ctypes.py_object).value for r in res]\u001b[0m\u001b[0;34m\u001b[0m\u001b[0;34m\u001b[0m\u001b[0m\n\u001b[1;32m     11\u001b[0m         \u001b[0mt1\u001b[0m \u001b[0;34m=\u001b[0m \u001b[0mtime\u001b[0m\u001b[0;34m.\u001b[0m\u001b[0mtime\u001b[0m\u001b[0;34m(\u001b[0m\u001b[0;34m)\u001b[0m\u001b[0;34m\u001b[0m\u001b[0;34m\u001b[0m\u001b[0m\n",
      "\u001b[0;32m~/anaconda3/lib/python3.9/site-packages/rangeindex/rangeindex.py\u001b[0m in \u001b[0;36mfind\u001b[0;34m(self, query)\u001b[0m\n\u001b[1;32m    109\u001b[0m         \u001b[0;32mif\u001b[0m \u001b[0;32mnot\u001b[0m \u001b[0mquery\u001b[0m\u001b[0;34m:\u001b[0m\u001b[0;34m\u001b[0m\u001b[0;34m\u001b[0m\u001b[0m\n\u001b[1;32m    110\u001b[0m             \u001b[0;32mreturn\u001b[0m \u001b[0mlist\u001b[0m\u001b[0;34m(\u001b[0m\u001b[0mself\u001b[0m\u001b[0;34m.\u001b[0m\u001b[0mobjs\u001b[0m\u001b[0;34m.\u001b[0m\u001b[0mvalues\u001b[0m\u001b[0;34m(\u001b[0m\u001b[0;34m)\u001b[0m\u001b[0;34m)\u001b[0m\u001b[0;34m\u001b[0m\u001b[0;34m\u001b[0m\u001b[0m\n\u001b[0;32m--> 111\u001b[0;31m         \u001b[0;32mreturn\u001b[0m \u001b[0mlist\u001b[0m\u001b[0;34m(\u001b[0m\u001b[0mself\u001b[0m\u001b[0;34m.\u001b[0m\u001b[0mobjs\u001b[0m\u001b[0;34m[\u001b[0m\u001b[0mptr\u001b[0m\u001b[0;34m]\u001b[0m \u001b[0;32mfor\u001b[0m \u001b[0mptr\u001b[0m \u001b[0;32min\u001b[0m \u001b[0mself\u001b[0m\u001b[0;34m.\u001b[0m\u001b[0mfind_obj_ids\u001b[0m\u001b[0;34m(\u001b[0m\u001b[0mquery\u001b[0m\u001b[0;34m)\u001b[0m\u001b[0;34m)\u001b[0m\u001b[0;34m\u001b[0m\u001b[0;34m\u001b[0m\u001b[0m\n\u001b[0m\u001b[1;32m    112\u001b[0m \u001b[0;34m\u001b[0m\u001b[0m\n\u001b[1;32m    113\u001b[0m     \u001b[0;32mdef\u001b[0m \u001b[0mfind_obj_ids\u001b[0m\u001b[0;34m(\u001b[0m\u001b[0mself\u001b[0m\u001b[0;34m,\u001b[0m \u001b[0mquery\u001b[0m\u001b[0;34m:\u001b[0m \u001b[0mOptional\u001b[0m\u001b[0;34m[\u001b[0m\u001b[0mList\u001b[0m\u001b[0;34m[\u001b[0m\u001b[0mTuple\u001b[0m\u001b[0;34m]\u001b[0m\u001b[0;34m]\u001b[0m \u001b[0;34m=\u001b[0m \u001b[0;32mNone\u001b[0m\u001b[0;34m,\u001b[0m \u001b[0mlimit\u001b[0m\u001b[0;34m=\u001b[0m\u001b[0;36m0.001\u001b[0m\u001b[0;34m)\u001b[0m \u001b[0;34m->\u001b[0m \u001b[0mList\u001b[0m\u001b[0;34m:\u001b[0m\u001b[0;34m\u001b[0m\u001b[0;34m\u001b[0m\u001b[0m\n",
      "\u001b[0;32m~/anaconda3/lib/python3.9/site-packages/rangeindex/rangeindex.py\u001b[0m in \u001b[0;36mfind_obj_ids\u001b[0;34m(self, query, limit)\u001b[0m\n\u001b[1;32m    132\u001b[0m         \u001b[0mcur\u001b[0m \u001b[0;34m=\u001b[0m \u001b[0mself\u001b[0m\u001b[0;34m.\u001b[0m\u001b[0mconn\u001b[0m\u001b[0;34m.\u001b[0m\u001b[0mcursor\u001b[0m\u001b[0;34m(\u001b[0m\u001b[0;34m)\u001b[0m\u001b[0;34m\u001b[0m\u001b[0;34m\u001b[0m\u001b[0m\n\u001b[1;32m    133\u001b[0m         \u001b[0mresult\u001b[0m \u001b[0;34m=\u001b[0m \u001b[0mcur\u001b[0m\u001b[0;34m.\u001b[0m\u001b[0mexecute\u001b[0m\u001b[0;34m(\u001b[0m\u001b[0;34m'\\n'\u001b[0m\u001b[0;34m.\u001b[0m\u001b[0mjoin\u001b[0m\u001b[0;34m(\u001b[0m\u001b[0mq\u001b[0m\u001b[0;34m)\u001b[0m\u001b[0;34m,\u001b[0m \u001b[0mvalues\u001b[0m\u001b[0;34m)\u001b[0m\u001b[0;34m\u001b[0m\u001b[0;34m\u001b[0m\u001b[0m\n\u001b[0;32m--> 134\u001b[0;31m         \u001b[0mrows\u001b[0m \u001b[0;34m=\u001b[0m \u001b[0mlist\u001b[0m\u001b[0;34m(\u001b[0m\u001b[0mr\u001b[0m\u001b[0;34m[\u001b[0m\u001b[0;36m0\u001b[0m\u001b[0;34m]\u001b[0m \u001b[0;32mfor\u001b[0m \u001b[0mr\u001b[0m \u001b[0;32min\u001b[0m \u001b[0mresult\u001b[0m\u001b[0;34m.\u001b[0m\u001b[0mfetchall\u001b[0m\u001b[0;34m(\u001b[0m\u001b[0;34m)\u001b[0m\u001b[0;34m)\u001b[0m\u001b[0;34m\u001b[0m\u001b[0;34m\u001b[0m\u001b[0m\n\u001b[0m\u001b[1;32m    135\u001b[0m \u001b[0;34m\u001b[0m\u001b[0m\n\u001b[1;32m    136\u001b[0m         \u001b[0;31m# Check if the resulting rowcount is very large (hit the limit)\u001b[0m\u001b[0;34m\u001b[0m\u001b[0;34m\u001b[0m\u001b[0m\n",
      "\u001b[0;31mKeyboardInterrupt\u001b[0m: "
     ]
    }
   ],
   "source": [
    "\n",
    "n_runs = 10\n",
    "for thresh in [0.15, 0.25, 0.33, 0.4, 0.51, 0.64, 0.8, 1.0]:\n",
    "    t_sql = 0\n",
    "    t_ls = 0\n",
    "    avg_len = 0\n",
    "    for _ in range(n_runs):\n",
    "        q = [(f'c{i}', '<=', thresh) for i in range(10)]\n",
    "        t0 = time.time()\n",
    "        objs = ri.find(q)\n",
    "        #objs = [ctypes.cast(r[0], ctypes.py_object).value for r in res]\n",
    "        t1 = time.time()\n",
    "        t2 = time.time()\n",
    "        t_sql += (t1-t0) / n_runs\n",
    "        t_ls += (t2-t1) / n_runs\n",
    "        avg_len += len(objs) / n_runs\n",
    "    print(thresh, int(avg_len), t_sql)"
   ]
  },
  {
   "cell_type": "code",
   "execution_count": null,
   "id": "2064ec6e",
   "metadata": {},
   "outputs": [],
   "source": []
  },
  {
   "cell_type": "code",
   "execution_count": null,
   "id": "2fbbce60",
   "metadata": {},
   "outputs": [],
   "source": []
  },
  {
   "cell_type": "code",
   "execution_count": 5,
   "id": "85e59fee",
   "metadata": {},
   "outputs": [],
   "source": [
    "find_times = {}\n",
    "filter_times = {}\n",
    "n_runs = 10\n",
    "for reps in range(n_runs):\n",
    "    n_exp=7\n",
    "    for p_exp in range(-7, 1):\n",
    "        p = 10**p_exp\n",
    "        res = compare_speeds(ri, portion_to_find=p)\n",
    "        n_objs = int(p*n)\n",
    "        find_times[n_objs] = find_times.get(n_objs, 0) + res['ri_find'] / n_runs\n",
    "        # filter_times[n_objs] = filter_times.get(n_objs, 0) + res['filter'] / n_runs"
   ]
  },
  {
   "cell_type": "code",
   "execution_count": 6,
   "id": "870b7db9",
   "metadata": {},
   "outputs": [
    {
     "name": "stdout",
     "output_type": "stream",
     "text": [
      "1 0.118ms\n",
      "10 0.094ms\n",
      "100 0.358ms\n",
      "1000 0.003s\n",
      "10000 0.448s\n",
      "100000 0.513s\n",
      "1000000 1.249s\n",
      "10000000 7.095s\n"
     ]
    }
   ],
   "source": [
    "def to_str(t: float):\n",
    "    if t < 10**-6:\n",
    "        return \"{}μs\".format(round(t*10**6,3))\n",
    "    elif t < 10**-3:\n",
    "        return \"{}ms\".format(round(t*10**3, 3))\n",
    "    else:\n",
    "        return \"{}s\".format(round(t, 3))\n",
    "\n",
    "for key in sorted(find_times.keys()):\n",
    "    ft = find_times[key]\n",
    "    print(key, to_str(find_times[key]))"
   ]
  },
  {
   "cell_type": "code",
   "execution_count": null,
   "id": "7e523b8a",
   "metadata": {},
   "outputs": [],
   "source": [
    "len(ri.objs) / 10**7"
   ]
  },
  {
   "cell_type": "code",
   "execution_count": null,
   "id": "37a29a04",
   "metadata": {},
   "outputs": [],
   "source": [
    "t0 = time.time()\n",
    "ls = ri.find([('y', '<=', 1.0), ('x', '<=', 10)])\n",
    "t1 = time.time()\n",
    "print(t1-t0)"
   ]
  },
  {
   "cell_type": "code",
   "execution_count": 27,
   "id": "d33fa5f7",
   "metadata": {},
   "outputs": [
    {
     "data": {
      "text/plain": [
       "1.0"
      ]
     },
     "execution_count": 27,
     "metadata": {},
     "output_type": "execute_result"
    }
   ],
   "source": [
    "len(ls) / 10**7"
   ]
  },
  {
   "cell_type": "code",
   "execution_count": 22,
   "id": "74d6f4ae",
   "metadata": {},
   "outputs": [
    {
     "data": {
      "text/plain": [
       "[4, 7, 3, 9, 8, 2, 7, 0, 3, 5]"
      ]
     },
     "execution_count": 22,
     "metadata": {},
     "output_type": "execute_result"
    }
   ],
   "source": [
    "[things[i].x for i in range(-10, 0)]"
   ]
  },
  {
   "cell_type": "code",
   "execution_count": 24,
   "id": "7ad7659a",
   "metadata": {},
   "outputs": [
    {
     "data": {
      "text/plain": [
       "1.0"
      ]
     },
     "execution_count": 24,
     "metadata": {},
     "output_type": "execute_result"
    }
   ],
   "source": [
    "len(things) / 10**7"
   ]
  },
  {
   "cell_type": "code",
   "execution_count": 36,
   "id": "82136eee",
   "metadata": {},
   "outputs": [],
   "source": [
    "t0 = time.time()\n",
    "things.remove(things[10**7-10**6])\n",
    "t1 = time.time()"
   ]
  },
  {
   "cell_type": "code",
   "execution_count": 37,
   "id": "a78f9b6a",
   "metadata": {},
   "outputs": [
    {
     "data": {
      "text/plain": [
       "2.211230516433716"
      ]
     },
     "execution_count": 37,
     "metadata": {},
     "output_type": "execute_result"
    }
   ],
   "source": [
    "t1-t0"
   ]
  },
  {
   "cell_type": "code",
   "execution_count": null,
   "id": "642443ba",
   "metadata": {},
   "outputs": [],
   "source": []
  }
 ],
 "metadata": {
  "kernelspec": {
   "display_name": "Python 3 (ipykernel)",
   "language": "python",
   "name": "python3"
  },
  "language_info": {
   "codemirror_mode": {
    "name": "ipython",
    "version": 3
   },
   "file_extension": ".py",
   "mimetype": "text/x-python",
   "name": "python",
   "nbconvert_exporter": "python",
   "pygments_lexer": "ipython3",
   "version": "3.9.7"
  }
 },
 "nbformat": 4,
 "nbformat_minor": 5
}
